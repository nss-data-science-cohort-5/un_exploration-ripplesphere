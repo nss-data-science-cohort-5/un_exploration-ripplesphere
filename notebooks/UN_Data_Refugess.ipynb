{
 "cells": [
  {
   "cell_type": "code",
   "execution_count": 1,
   "id": "447e8fb1",
   "metadata": {},
   "outputs": [],
   "source": [
    "import pandas as pd\n",
    "import numpy as np\n",
    "import matplotlib.pyplot as plt\n",
    "import seaborn as sns\n",
    "\n",
    "%matplotlib inline"
   ]
  },
  {
   "cell_type": "code",
   "execution_count": 2,
   "id": "fab2c7c8",
   "metadata": {},
   "outputs": [],
   "source": [
    "refugees_df = pd.read_csv(\"../data/UNdata_refugees.csv\")"
   ]
  },
  {
   "cell_type": "code",
   "execution_count": 6,
   "id": "13248031",
   "metadata": {},
   "outputs": [
    {
     "data": {
      "text/plain": [
       "Index(['Country or territory of asylum or residence',\n",
       "       'Country or territory of origin', 'Year', 'Refugees<sup>*</sup>',\n",
       "       'Refugees assisted by UNHCR',\n",
       "       'Total refugees and people in refugee-like situations<sup>**</sup>',\n",
       "       'Total refugees and people in refugee-like situations assisted by UNHCR'],\n",
       "      dtype='object')"
      ]
     },
     "execution_count": 6,
     "metadata": {},
     "output_type": "execute_result"
    }
   ],
   "source": [
    "refugees_df.columns"
   ]
  },
  {
   "cell_type": "code",
   "execution_count": 13,
   "id": "87cbebda",
   "metadata": {},
   "outputs": [],
   "source": [
    "ref_df = refugees_df[[\"Country or territory of asylum or residence\", \"Country or territory of origin\", \"Year\"]]\n",
    "ref_df = ref_df.rename({\"Country or territory of asylum or residence\": \"asylum\", \n",
    "                        \"Country or territory of origin\": \"origin\"}, axis=\"columns\")\n"
   ]
  },
  {
   "cell_type": "code",
   "execution_count": 14,
   "id": "4a803199",
   "metadata": {},
   "outputs": [
    {
     "data": {
      "text/html": [
       "<div>\n",
       "<style scoped>\n",
       "    .dataframe tbody tr th:only-of-type {\n",
       "        vertical-align: middle;\n",
       "    }\n",
       "\n",
       "    .dataframe tbody tr th {\n",
       "        vertical-align: top;\n",
       "    }\n",
       "\n",
       "    .dataframe thead th {\n",
       "        text-align: right;\n",
       "    }\n",
       "</style>\n",
       "<table border=\"1\" class=\"dataframe\">\n",
       "  <thead>\n",
       "    <tr style=\"text-align: right;\">\n",
       "      <th></th>\n",
       "      <th>asylum</th>\n",
       "      <th>origin</th>\n",
       "      <th>Year</th>\n",
       "    </tr>\n",
       "  </thead>\n",
       "  <tbody>\n",
       "    <tr>\n",
       "      <th>0</th>\n",
       "      <td>Afghanistan</td>\n",
       "      <td>Iraq</td>\n",
       "      <td>2016.0</td>\n",
       "    </tr>\n",
       "    <tr>\n",
       "      <th>1</th>\n",
       "      <td>Afghanistan</td>\n",
       "      <td>Islamic Rep. of Iran</td>\n",
       "      <td>2016.0</td>\n",
       "    </tr>\n",
       "    <tr>\n",
       "      <th>2</th>\n",
       "      <td>Afghanistan</td>\n",
       "      <td>Pakistan</td>\n",
       "      <td>2016.0</td>\n",
       "    </tr>\n",
       "    <tr>\n",
       "      <th>3</th>\n",
       "      <td>Albania</td>\n",
       "      <td>China</td>\n",
       "      <td>2016.0</td>\n",
       "    </tr>\n",
       "    <tr>\n",
       "      <th>4</th>\n",
       "      <td>Albania</td>\n",
       "      <td>Dem. Rep. of the Congo</td>\n",
       "      <td>2016.0</td>\n",
       "    </tr>\n",
       "    <tr>\n",
       "      <th>...</th>\n",
       "      <td>...</td>\n",
       "      <td>...</td>\n",
       "      <td>...</td>\n",
       "    </tr>\n",
       "    <tr>\n",
       "      <th>96059</th>\n",
       "      <td>Zambia</td>\n",
       "      <td>South Africa</td>\n",
       "      <td>1975.0</td>\n",
       "    </tr>\n",
       "    <tr>\n",
       "      <th>96060</th>\n",
       "      <td>Zambia</td>\n",
       "      <td>Uganda</td>\n",
       "      <td>1975.0</td>\n",
       "    </tr>\n",
       "    <tr>\n",
       "      <th>96061</th>\n",
       "      <td>fnSeqID</td>\n",
       "      <td>Footnote</td>\n",
       "      <td>NaN</td>\n",
       "    </tr>\n",
       "    <tr>\n",
       "      <th>96062</th>\n",
       "      <td>*</td>\n",
       "      <td>Persons recognized as refugees under the 1951 ...</td>\n",
       "      <td>NaN</td>\n",
       "    </tr>\n",
       "    <tr>\n",
       "      <th>96063</th>\n",
       "      <td>**</td>\n",
       "      <td>The category of people in refugee-like situati...</td>\n",
       "      <td>NaN</td>\n",
       "    </tr>\n",
       "  </tbody>\n",
       "</table>\n",
       "<p>96064 rows × 3 columns</p>\n",
       "</div>"
      ],
      "text/plain": [
       "            asylum                                             origin    Year\n",
       "0      Afghanistan                                               Iraq  2016.0\n",
       "1      Afghanistan                               Islamic Rep. of Iran  2016.0\n",
       "2      Afghanistan                                           Pakistan  2016.0\n",
       "3          Albania                                              China  2016.0\n",
       "4          Albania                             Dem. Rep. of the Congo  2016.0\n",
       "...            ...                                                ...     ...\n",
       "96059       Zambia                                       South Africa  1975.0\n",
       "96060       Zambia                                             Uganda  1975.0\n",
       "96061      fnSeqID                                           Footnote     NaN\n",
       "96062            *  Persons recognized as refugees under the 1951 ...     NaN\n",
       "96063           **  The category of people in refugee-like situati...     NaN\n",
       "\n",
       "[96064 rows x 3 columns]"
      ]
     },
     "execution_count": 14,
     "metadata": {},
     "output_type": "execute_result"
    }
   ],
   "source": [
    "ref_df"
   ]
  }
 ],
 "metadata": {
  "kernelspec": {
   "display_name": "Python 3",
   "language": "python",
   "name": "python3"
  },
  "language_info": {
   "codemirror_mode": {
    "name": "ipython",
    "version": 3
   },
   "file_extension": ".py",
   "mimetype": "text/x-python",
   "name": "python",
   "nbconvert_exporter": "python",
   "pygments_lexer": "ipython3",
   "version": "3.8.8"
  }
 },
 "nbformat": 4,
 "nbformat_minor": 5
}
