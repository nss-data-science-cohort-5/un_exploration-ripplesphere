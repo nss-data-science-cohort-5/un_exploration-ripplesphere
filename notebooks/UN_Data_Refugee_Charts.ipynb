{
 "cells": [
  {
   "cell_type": "code",
   "execution_count": 2,
   "id": "d9a6c3c8",
   "metadata": {},
   "outputs": [],
   "source": [
    "import pandas as pd\n",
    "import numpy as np\n",
    "import matplotlib.pyplot as plt\n",
    "import seaborn as sns\n",
    "from IPython.display import HTML\n",
    "\n",
    "%matplotlib inline"
   ]
  },
  {
   "cell_type": "code",
   "execution_count": 3,
   "id": "c9e57fda",
   "metadata": {},
   "outputs": [],
   "source": [
    "# Read and clean data\n",
    "ref_df = pd.read_csv(\"../data/UNdata_refugees.csv\", skipfooter=3, engine='python')\n",
    "ref_df = ref_df[[\"Country or territory of asylum or residence\", \"Country or territory of origin\", \n",
    "                      \"Year\", \"Refugees<sup>*</sup>\"]]\n",
    "ref_df = ref_df.rename({\"Country or territory of asylum or residence\": \"asylum\", \n",
    "                        \"Country or territory of origin\": \"origin\", \"Refugees<sup>*</sup>\": \"refugees\"}, axis=\"columns\")\n",
    "ref_df[\"Year\"] = ref_df[\"Year\"].astype(int)"
   ]
  },
  {
   "cell_type": "code",
   "execution_count": 4,
   "id": "07d8215f",
   "metadata": {},
   "outputs": [
    {
     "data": {
      "text/html": [
       "<div>\n",
       "<style scoped>\n",
       "    .dataframe tbody tr th:only-of-type {\n",
       "        vertical-align: middle;\n",
       "    }\n",
       "\n",
       "    .dataframe tbody tr th {\n",
       "        vertical-align: top;\n",
       "    }\n",
       "\n",
       "    .dataframe thead th {\n",
       "        text-align: right;\n",
       "    }\n",
       "</style>\n",
       "<table border=\"1\" class=\"dataframe\">\n",
       "  <thead>\n",
       "    <tr style=\"text-align: right;\">\n",
       "      <th></th>\n",
       "      <th>asylum</th>\n",
       "      <th>origin</th>\n",
       "      <th>Year</th>\n",
       "      <th>refugees</th>\n",
       "    </tr>\n",
       "  </thead>\n",
       "  <tbody>\n",
       "    <tr>\n",
       "      <th>0</th>\n",
       "      <td>Afghanistan</td>\n",
       "      <td>Iraq</td>\n",
       "      <td>2016</td>\n",
       "      <td>1.0</td>\n",
       "    </tr>\n",
       "    <tr>\n",
       "      <th>1</th>\n",
       "      <td>Afghanistan</td>\n",
       "      <td>Islamic Rep. of Iran</td>\n",
       "      <td>2016</td>\n",
       "      <td>33.0</td>\n",
       "    </tr>\n",
       "    <tr>\n",
       "      <th>2</th>\n",
       "      <td>Afghanistan</td>\n",
       "      <td>Pakistan</td>\n",
       "      <td>2016</td>\n",
       "      <td>59737.0</td>\n",
       "    </tr>\n",
       "    <tr>\n",
       "      <th>3</th>\n",
       "      <td>Albania</td>\n",
       "      <td>China</td>\n",
       "      <td>2016</td>\n",
       "      <td>11.0</td>\n",
       "    </tr>\n",
       "    <tr>\n",
       "      <th>4</th>\n",
       "      <td>Albania</td>\n",
       "      <td>Dem. Rep. of the Congo</td>\n",
       "      <td>2016</td>\n",
       "      <td>3.0</td>\n",
       "    </tr>\n",
       "  </tbody>\n",
       "</table>\n",
       "</div>"
      ],
      "text/plain": [
       "        asylum                  origin  Year  refugees\n",
       "0  Afghanistan                    Iraq  2016       1.0\n",
       "1  Afghanistan    Islamic Rep. of Iran  2016      33.0\n",
       "2  Afghanistan                Pakistan  2016   59737.0\n",
       "3      Albania                   China  2016      11.0\n",
       "4      Albania  Dem. Rep. of the Congo  2016       3.0"
      ]
     },
     "execution_count": 4,
     "metadata": {},
     "output_type": "execute_result"
    }
   ],
   "source": [
    "ref_df.head(5)"
   ]
  },
  {
   "cell_type": "code",
   "execution_count": 5,
   "id": "6af598a2",
   "metadata": {
    "scrolled": true
   },
   "outputs": [
    {
     "data": {
      "text/html": [
       "<div>\n",
       "<style scoped>\n",
       "    .dataframe tbody tr th:only-of-type {\n",
       "        vertical-align: middle;\n",
       "    }\n",
       "\n",
       "    .dataframe tbody tr th {\n",
       "        vertical-align: top;\n",
       "    }\n",
       "\n",
       "    .dataframe thead th {\n",
       "        text-align: right;\n",
       "    }\n",
       "</style>\n",
       "<table border=\"1\" class=\"dataframe\">\n",
       "  <thead>\n",
       "    <tr style=\"text-align: right;\">\n",
       "      <th></th>\n",
       "      <th>Year</th>\n",
       "      <th>refugees</th>\n",
       "    </tr>\n",
       "    <tr>\n",
       "      <th>origin</th>\n",
       "      <th></th>\n",
       "      <th></th>\n",
       "    </tr>\n",
       "  </thead>\n",
       "  <tbody>\n",
       "    <tr>\n",
       "      <th>Angola</th>\n",
       "      <td>9875</td>\n",
       "      <td>501830.0</td>\n",
       "    </tr>\n",
       "    <tr>\n",
       "      <th>Guinea</th>\n",
       "      <td>1975</td>\n",
       "      <td>300000.0</td>\n",
       "    </tr>\n",
       "    <tr>\n",
       "      <th>Rwanda</th>\n",
       "      <td>9875</td>\n",
       "      <td>175720.0</td>\n",
       "    </tr>\n",
       "    <tr>\n",
       "      <th>Burundi</th>\n",
       "      <td>5925</td>\n",
       "      <td>141940.0</td>\n",
       "    </tr>\n",
       "    <tr>\n",
       "      <th>Ethiopia</th>\n",
       "      <td>5925</td>\n",
       "      <td>91410.0</td>\n",
       "    </tr>\n",
       "    <tr>\n",
       "      <th>Equatorial Guinea</th>\n",
       "      <td>3950</td>\n",
       "      <td>90000.0</td>\n",
       "    </tr>\n",
       "    <tr>\n",
       "      <th>Lao People's Dem. Rep.</th>\n",
       "      <td>1975</td>\n",
       "      <td>55510.0</td>\n",
       "    </tr>\n",
       "    <tr>\n",
       "      <th>Guinea-Bissau</th>\n",
       "      <td>1975</td>\n",
       "      <td>46000.0</td>\n",
       "    </tr>\n",
       "    <tr>\n",
       "      <th>Dem. Rep. of the Congo</th>\n",
       "      <td>7900</td>\n",
       "      <td>39410.0</td>\n",
       "    </tr>\n",
       "    <tr>\n",
       "      <th>Mozambique</th>\n",
       "      <td>5925</td>\n",
       "      <td>34750.0</td>\n",
       "    </tr>\n",
       "  </tbody>\n",
       "</table>\n",
       "</div>"
      ],
      "text/plain": [
       "                        Year  refugees\n",
       "origin                                \n",
       "Angola                  9875  501830.0\n",
       "Guinea                  1975  300000.0\n",
       "Rwanda                  9875  175720.0\n",
       "Burundi                 5925  141940.0\n",
       "Ethiopia                5925   91410.0\n",
       "Equatorial Guinea       3950   90000.0\n",
       "Lao People's Dem. Rep.  1975   55510.0\n",
       "Guinea-Bissau           1975   46000.0\n",
       "Dem. Rep. of the Congo  7900   39410.0\n",
       "Mozambique              5925   34750.0"
      ]
     },
     "execution_count": 5,
     "metadata": {},
     "output_type": "execute_result"
    }
   ],
   "source": [
    "ref_df[(ref_df[\"Year\"] == 1975) & (ref_df[\"origin\"] != \"Various\")]\\\n",
    "    .groupby(\"origin\").sum().sort_values(\"refugees\", ascending=False).head(10)"
   ]
  },
  {
   "cell_type": "code",
   "execution_count": 6,
   "id": "356ef6d6",
   "metadata": {
    "scrolled": false
   },
   "outputs": [
    {
     "name": "stdout",
     "output_type": "stream",
     "text": [
      "******************* 1975 *******************\n",
      "        refugees\n",
      "origin          \n",
      "Angola  501830.0\n",
      "Guinea  300000.0\n",
      "Rwanda  175720.0\n",
      "******************* 1976 *******************\n",
      "        refugees\n",
      "origin          \n",
      "Guinea  500000.0\n",
      "Angola  499190.0\n",
      "Rwanda  176410.0\n",
      "******************* 1977 *******************\n",
      "                        refugees\n",
      "origin                          \n",
      "Ethiopia                655350.0\n",
      "Angola                  529830.0\n",
      "Dem. Rep. of the Congo  264940.0\n",
      "******************* 1978 *******************\n",
      "          refugees\n",
      "origin            \n",
      "Ethiopia  887670.0\n",
      "Angola    646110.0\n",
      "Rwanda    175110.0\n",
      "******************* 1979 *******************\n",
      "              refugees\n",
      "origin                \n",
      "Ethiopia     1623870.0\n",
      "Angola        652980.0\n",
      "Afghanistan   500000.0\n",
      "******************* 1980 *******************\n",
      "              refugees\n",
      "origin                \n",
      "Ethiopia     2567998.0\n",
      "Afghanistan  1734921.0\n",
      "Angola        449030.0\n",
      "******************* 1981 *******************\n",
      "              refugees\n",
      "origin                \n",
      "Afghanistan  3879984.0\n",
      "Ethiopia     1363266.0\n",
      "Angola        457060.0\n",
      "******************* 1982 *******************\n",
      "              refugees\n",
      "origin                \n",
      "Afghanistan  4488214.0\n",
      "Ethiopia     1334915.0\n",
      "Angola        465891.0\n",
      "******************* 1983 *******************\n",
      "              refugees\n",
      "origin                \n",
      "Afghanistan  4712735.0\n",
      "Ethiopia     1351917.0\n",
      "Viet Nam      328399.0\n",
      "******************* 1984 *******************\n",
      "              refugees\n",
      "origin                \n",
      "Afghanistan  4417651.0\n",
      "Ethiopia     1546134.0\n",
      "Angola        357821.0\n",
      "******************* 1985 *******************\n",
      "              refugees\n",
      "origin                \n",
      "Afghanistan  4653193.0\n",
      "Ethiopia     1749309.0\n",
      "Iraq          401503.0\n",
      "******************* 1986 *******************\n",
      "              refugees\n",
      "origin                \n",
      "Afghanistan  5094283.0\n",
      "Ethiopia     1534548.0\n",
      "Iraq          400745.0\n",
      "******************* 1987 *******************\n",
      "              refugees\n",
      "origin                \n",
      "Afghanistan  5511740.0\n",
      "Ethiopia     1487663.0\n",
      "Mozambique    635000.0\n",
      "******************* 1988 *******************\n",
      "              refugees\n",
      "origin                \n",
      "Afghanistan  5622982.0\n",
      "Ethiopia     1513307.0\n",
      "Mozambique    921238.0\n",
      "******************* 1989 *******************\n",
      "              refugees\n",
      "origin                \n",
      "Afghanistan  5643989.0\n",
      "Ethiopia     1474919.0\n",
      "Mozambique   1120758.0\n",
      "******************* 1990 *******************\n",
      "              refugees\n",
      "origin                \n",
      "Afghanistan  6339095.0\n",
      "Ethiopia     1345928.0\n",
      "Mozambique   1247992.0\n",
      "******************* 1991 *******************\n",
      "              refugees\n",
      "origin                \n",
      "Afghanistan  6306301.0\n",
      "Iraq         1321853.0\n",
      "Mozambique   1316636.0\n",
      "******************* 1992 *******************\n",
      "              refugees\n",
      "origin                \n",
      "Afghanistan  4552153.0\n",
      "Mozambique   1445474.0\n",
      "Iraq         1343824.0\n",
      "******************* 1993 *******************\n",
      "              refugees\n",
      "origin                \n",
      "Afghanistan  3374576.0\n",
      "Mozambique   1172550.0\n",
      "Burundi       871382.0\n",
      "******************* 1994 *******************\n",
      "              refugees\n",
      "origin                \n",
      "Afghanistan  2731169.0\n",
      "Rwanda       2257573.0\n",
      "Liberia       797835.0\n",
      "******************* 1995 *******************\n",
      "                         refugees\n",
      "origin                           \n",
      "Afghanistan             2679133.0\n",
      "Rwanda                  1819366.0\n",
      "Bosnia and Herzegovina   769753.0\n",
      "******************* 1996 *******************\n",
      "                         refugees\n",
      "origin                           \n",
      "Afghanistan             2674236.0\n",
      "Bosnia and Herzegovina   993868.0\n",
      "Liberia                  784008.0\n",
      "******************* 1997 *******************\n",
      "                         refugees\n",
      "origin                           \n",
      "Afghanistan             2676674.0\n",
      "Bosnia and Herzegovina   849241.0\n",
      "Iraq                     707338.0\n",
      "******************* 1998 *******************\n",
      "                         refugees\n",
      "origin                           \n",
      "Afghanistan             2667115.0\n",
      "Iraq                     675030.0\n",
      "Bosnia and Herzegovina   640075.0\n",
      "******************* 1999 *******************\n",
      "                         refugees\n",
      "origin                           \n",
      "Afghanistan             2601691.0\n",
      "Iraq                     642886.0\n",
      "Bosnia and Herzegovina   598193.0\n",
      "******************* 2000 *******************\n",
      "              refugees\n",
      "origin                \n",
      "Afghanistan  3587336.0\n",
      "Burundi       568084.0\n",
      "Iraq          526179.0\n",
      "******************* 2001 *******************\n",
      "              refugees\n",
      "origin                \n",
      "Afghanistan  3809767.0\n",
      "Burundi       553999.0\n",
      "Iraq          530511.0\n",
      "******************* 2002 *******************\n",
      "              refugees\n",
      "origin                \n",
      "Afghanistan  2510294.0\n",
      "Burundi       574557.0\n",
      "Sudan         508877.0\n",
      "******************* 2003 *******************\n",
      "              refugees\n",
      "origin                \n",
      "Afghanistan  2136043.0\n",
      "Sudan         606242.0\n",
      "Burundi       531637.0\n",
      "******************* 2004 *******************\n",
      "              refugees\n",
      "origin                \n",
      "Afghanistan  2414468.0\n",
      "Sudan         730641.0\n",
      "Burundi       485767.0\n",
      "******************* 2005 *******************\n",
      "              refugees\n",
      "origin                \n",
      "Afghanistan  2166149.0\n",
      "Sudan         693632.0\n",
      "Burundi       438706.0\n",
      "******************* 2006 *******************\n",
      "              refugees\n",
      "origin                \n",
      "Afghanistan  2107519.0\n",
      "Iraq         1450905.0\n",
      "Sudan         686311.0\n",
      "******************* 2007 *******************\n",
      "              refugees\n",
      "origin                \n",
      "Iraq         2279245.0\n",
      "Afghanistan  1909911.0\n",
      "Sudan         523032.0\n",
      "******************* 2008 *******************\n",
      "              refugees\n",
      "origin                \n",
      "Iraq         1873519.0\n",
      "Afghanistan  1817913.0\n",
      "Somalia       559154.0\n",
      "******************* 2009 *******************\n",
      "              refugees\n",
      "origin                \n",
      "Afghanistan  1905804.0\n",
      "Iraq         1785212.0\n",
      "Somalia       678308.0\n",
      "******************* 2010 *******************\n",
      "              refugees\n",
      "origin                \n",
      "Afghanistan  3054709.0\n",
      "Iraq         1683579.0\n",
      "Somalia       770152.0\n",
      "******************* 2011 *******************\n",
      "              refugees\n",
      "origin                \n",
      "Afghanistan  2664436.0\n",
      "Iraq         1428308.0\n",
      "Somalia      1075148.0\n",
      "******************* 2012 *******************\n",
      "              refugees\n",
      "origin                \n",
      "Afghanistan  2586152.0\n",
      "Somalia      1136718.0\n",
      "Iraq          746190.0\n",
      "******************* 2013 *******************\n",
      "                   refugees\n",
      "origin                     \n",
      "Afghanistan       2556502.0\n",
      "Syrian Arab Rep.  2457241.0\n",
      "Somalia           1121770.0\n",
      "******************* 2014 *******************\n",
      "                   refugees\n",
      "origin                     \n",
      "Syrian Arab Rep.  3869626.0\n",
      "Afghanistan       2596270.0\n",
      "Somalia           1106434.0\n",
      "******************* 2015 *******************\n",
      "                   refugees\n",
      "origin                     \n",
      "Syrian Arab Rep.  4851450.0\n",
      "Afghanistan       2663005.0\n",
      "Somalia           1123126.0\n",
      "******************* 2016 *******************\n",
      "                   refugees\n",
      "origin                     \n",
      "Syrian Arab Rep.  5500448.0\n",
      "Afghanistan       2488689.0\n",
      "South Sudan       1436651.0\n"
     ]
    }
   ],
   "source": [
    "for x in range(1975, 2017):\n",
    "    print(\"*******************\", x, \"*******************\")\n",
    "    print(ref_df[(ref_df[\"Year\"] == x) & (ref_df[\"origin\"] != \"Various\")][[\"origin\", \"refugees\"]]\\\n",
    "                .groupby(\"origin\").sum().sort_values(\"refugees\", ascending=False).head(3)\n",
    "        )"
   ]
  },
  {
   "cell_type": "code",
   "execution_count": 7,
   "id": "9fca5bda",
   "metadata": {
    "scrolled": true
   },
   "outputs": [
    {
     "name": "stdout",
     "output_type": "stream",
     "text": [
      "******************* 1975 *******************\n",
      "                        refugees\n",
      "asylum                          \n",
      "United States           530000.0\n",
      "Dem. Rep. of the Congo  510000.0\n",
      "Côte d'Ivoire           300000.0\n",
      "******************* 1976 *******************\n",
      "                        refugees\n",
      "asylum                          \n",
      "Lebanon                 700000.0\n",
      "Dem. Rep. of the Congo  515000.0\n",
      "Côte d'Ivoire           500070.0\n",
      "******************* 1977 *******************\n",
      "                        refugees\n",
      "asylum                          \n",
      "Lebanon                 700000.0\n",
      "United States           684700.0\n",
      "Dem. Rep. of the Congo  530300.0\n",
      "******************* 1978 *******************\n",
      "                        refugees\n",
      "asylum                          \n",
      "United States           734000.0\n",
      "Dem. Rep. of the Congo  653000.0\n",
      "Somalia                 600000.0\n",
      "******************* 1979 *******************\n",
      "                         refugees\n",
      "asylum                           \n",
      "Somalia                 1175190.0\n",
      "United States            734000.0\n",
      "Dem. Rep. of the Congo   710480.0\n",
      "******************* 1980 *******************\n",
      "                         refugees\n",
      "asylum                           \n",
      "Somalia                 2000000.0\n",
      "Pakistan                1428230.0\n",
      "Dem. Rep. of the Congo   611110.0\n",
      "******************* 1981 *******************\n",
      "                       refugees\n",
      "asylum                         \n",
      "Pakistan              2375330.0\n",
      "Islamic Rep. of Iran  1565000.0\n",
      "Somalia                700000.0\n",
      "******************* 1982 *******************\n",
      "                       refugees\n",
      "asylum                         \n",
      "Pakistan              2877480.0\n",
      "Islamic Rep. of Iran  1700060.0\n",
      "Somalia                700000.0\n",
      "******************* 1983 *******************\n",
      "                       refugees\n",
      "asylum                         \n",
      "Pakistan              2901360.0\n",
      "Islamic Rep. of Iran  1900060.0\n",
      "Somalia                700000.0\n",
      "******************* 1984 *******************\n",
      "                       refugees\n",
      "asylum                         \n",
      "Pakistan              2500000.0\n",
      "Islamic Rep. of Iran  2000000.0\n",
      "Sudan                  971000.0\n",
      "******************* 1985 *******************\n",
      "                       refugees\n",
      "asylum                         \n",
      "Pakistan              2732440.0\n",
      "Islamic Rep. of Iran  2300000.0\n",
      "Sudan                 1164000.0\n",
      "******************* 1986 *******************\n",
      "                       refugees\n",
      "asylum                         \n",
      "Pakistan              2882100.0\n",
      "Islamic Rep. of Iran  2590000.0\n",
      "Sudan                  974200.0\n",
      "******************* 1987 *******************\n",
      "                       refugees\n",
      "asylum                         \n",
      "Pakistan              3159000.0\n",
      "Islamic Rep. of Iran  2760000.0\n",
      "Somalia                840100.0\n",
      "******************* 1988 *******************\n",
      "                       refugees\n",
      "asylum                         \n",
      "Pakistan              3257577.0\n",
      "Islamic Rep. of Iran  2850000.0\n",
      "Somalia                834000.0\n",
      "******************* 1989 *******************\n",
      "                       refugees\n",
      "asylum                         \n",
      "Pakistan              3275715.0\n",
      "Islamic Rep. of Iran  2850000.0\n",
      "Malawi                 822503.0\n",
      "******************* 1990 *******************\n",
      "                       refugees\n",
      "asylum                         \n",
      "Islamic Rep. of Iran  4174401.0\n",
      "Pakistan              3255975.0\n",
      "Sudan                 1031050.0\n",
      "******************* 1991 *******************\n",
      "                       refugees\n",
      "asylum                         \n",
      "Islamic Rep. of Iran  4404995.0\n",
      "Pakistan              3099891.0\n",
      "Malawi                 981812.0\n",
      "******************* 1992 *******************\n",
      "                       refugees\n",
      "asylum                         \n",
      "Islamic Rep. of Iran  4150723.0\n",
      "Pakistan              1629218.0\n",
      "Germany               1236000.0\n",
      "******************* 1993 *******************\n",
      "                       refugees\n",
      "asylum                         \n",
      "Islamic Rep. of Iran  2495038.0\n",
      "Pakistan              1479266.0\n",
      "Germany               1418000.0\n",
      "******************* 1994 *******************\n",
      "                         refugees\n",
      "asylum                           \n",
      "Islamic Rep. of Iran    2236350.0\n",
      "Dem. Rep. of the Congo  1724365.0\n",
      "Germany                 1354600.0\n",
      "******************* 1995 *******************\n",
      "                         refugees\n",
      "asylum                           \n",
      "Islamic Rep. of Iran    2071988.0\n",
      "Dem. Rep. of the Congo  1433760.0\n",
      "Germany                 1267900.0\n",
      "******************* 1996 *******************\n",
      "                       refugees\n",
      "asylum                         \n",
      "Islamic Rep. of Iran  2030359.0\n",
      "Germany               1266000.0\n",
      "Pakistan              1202703.0\n",
      "******************* 1997 *******************\n",
      "                       refugees\n",
      "asylum                         \n",
      "Islamic Rep. of Iran  1982553.0\n",
      "Pakistan              1202734.0\n",
      "Germany               1049000.0\n",
      "******************* 1998 *******************\n",
      "                       refugees\n",
      "asylum                         \n",
      "Islamic Rep. of Iran  1931332.0\n",
      "Pakistan              1202462.0\n",
      "Germany                949200.0\n",
      "******************* 1999 *******************\n",
      "                       refugees\n",
      "asylum                         \n",
      "Islamic Rep. of Iran  1835688.0\n",
      "Pakistan              1202015.0\n",
      "Germany                975500.0\n",
      "******************* 2000 *******************\n",
      "                       refugees\n",
      "asylum                         \n",
      "Pakistan              2001466.0\n",
      "Islamic Rep. of Iran  1868000.0\n",
      "Germany                906000.0\n",
      "******************* 2001 *******************\n",
      "                       refugees\n",
      "asylum                         \n",
      "Pakistan              2198797.0\n",
      "Islamic Rep. of Iran  1868000.0\n",
      "Germany                903000.0\n",
      "******************* 2002 *******************\n",
      "                       refugees\n",
      "asylum                         \n",
      "Islamic Rep. of Iran  1306599.0\n",
      "Pakistan              1227433.0\n",
      "Germany                980000.0\n",
      "******************* 2003 *******************\n",
      "                       refugees\n",
      "asylum                         \n",
      "Pakistan              1124298.0\n",
      "Islamic Rep. of Iran   984896.0\n",
      "Germany                960395.0\n",
      "******************* 2004 *******************\n",
      "                       refugees\n",
      "asylum                         \n",
      "Pakistan              1290984.0\n",
      "Islamic Rep. of Iran  1045976.0\n",
      "Germany                876622.0\n",
      "******************* 2005 *******************\n",
      "                       refugees\n",
      "asylum                         \n",
      "Pakistan              1084694.0\n",
      "Islamic Rep. of Iran   974302.0\n",
      "Germany                700016.0\n",
      "******************* 2006 *******************\n",
      "                       refugees\n",
      "asylum                         \n",
      "Pakistan              1044462.0\n",
      "Islamic Rep. of Iran   968370.0\n",
      "United States          843490.0\n",
      "******************* 2007 *******************\n",
      "                       refugees\n",
      "asylum                         \n",
      "Syrian Arab Rep.      1503769.0\n",
      "Islamic Rep. of Iran   963546.0\n",
      "Pakistan               887273.0\n",
      "******************* 2008 *******************\n",
      "                       refugees\n",
      "asylum                         \n",
      "Syrian Arab Rep.      1105698.0\n",
      "Islamic Rep. of Iran   980109.0\n",
      "Pakistan               765720.0\n",
      "******************* 2009 *******************\n",
      "                       refugees\n",
      "asylum                         \n",
      "Islamic Rep. of Iran  1070488.0\n",
      "Syrian Arab Rep.      1054466.0\n",
      "Pakistan               759392.0\n",
      "******************* 2010 *******************\n",
      "                       refugees\n",
      "asylum                         \n",
      "Pakistan              1900621.0\n",
      "Islamic Rep. of Iran  1073366.0\n",
      "Syrian Arab Rep.      1005472.0\n",
      "******************* 2011 *******************\n",
      "                       refugees\n",
      "asylum                         \n",
      "Pakistan              1702700.0\n",
      "Islamic Rep. of Iran   886468.0\n",
      "Syrian Arab Rep.       755445.0\n",
      "******************* 2012 *******************\n",
      "                       refugees\n",
      "asylum                         \n",
      "Pakistan              1638456.0\n",
      "Islamic Rep. of Iran   868242.0\n",
      "Germany                589737.0\n",
      "******************* 2013 *******************\n",
      "                       refugees\n",
      "asylum                         \n",
      "Pakistan              1616507.0\n",
      "Islamic Rep. of Iran   857354.0\n",
      "Lebanon                856546.0\n",
      "******************* 2014 *******************\n",
      "           refugees\n",
      "asylum             \n",
      "Turkey    1587374.0\n",
      "Pakistan  1505525.0\n",
      "Lebanon   1154040.0\n",
      "******************* 2015 *******************\n",
      "           refugees\n",
      "asylum             \n",
      "Turkey    2541352.0\n",
      "Pakistan  1561162.0\n",
      "Lebanon   1070854.0\n",
      "******************* 2016 *******************\n",
      "           refugees\n",
      "asylum             \n",
      "Turkey    2869421.0\n",
      "Pakistan  1352560.0\n",
      "Lebanon   1012969.0\n"
     ]
    }
   ],
   "source": [
    "for x in range(1975, 2017):\n",
    "    print(\"*******************\", x, \"*******************\")\n",
    "    print(ref_df[(ref_df[\"Year\"] == x) & (ref_df[\"asylum\"] != \"Various\")][[\"asylum\", \"refugees\"]]\\\n",
    "                .groupby(\"asylum\").sum().sort_values(\"refugees\", ascending=False).head(3)\n",
    "        )"
   ]
  },
  {
   "cell_type": "code",
   "execution_count": 8,
   "id": "2bf22764",
   "metadata": {
    "scrolled": true
   },
   "outputs": [
    {
     "data": {
      "text/html": [
       "<div>\n",
       "<style scoped>\n",
       "    .dataframe tbody tr th:only-of-type {\n",
       "        vertical-align: middle;\n",
       "    }\n",
       "\n",
       "    .dataframe tbody tr th {\n",
       "        vertical-align: top;\n",
       "    }\n",
       "\n",
       "    .dataframe thead th {\n",
       "        text-align: right;\n",
       "    }\n",
       "</style>\n",
       "<table border=\"1\" class=\"dataframe\">\n",
       "  <thead>\n",
       "    <tr style=\"text-align: right;\">\n",
       "      <th></th>\n",
       "      <th>asylum</th>\n",
       "      <th>origin</th>\n",
       "      <th>Year</th>\n",
       "      <th>refugees</th>\n",
       "    </tr>\n",
       "  </thead>\n",
       "  <tbody>\n",
       "    <tr>\n",
       "      <th>95955</th>\n",
       "      <td>Algeria</td>\n",
       "      <td>Western Sahara</td>\n",
       "      <td>1975</td>\n",
       "      <td>20000.0</td>\n",
       "    </tr>\n",
       "    <tr>\n",
       "      <th>95957</th>\n",
       "      <td>Argentina</td>\n",
       "      <td>Chile</td>\n",
       "      <td>1975</td>\n",
       "      <td>14400.0</td>\n",
       "    </tr>\n",
       "    <tr>\n",
       "      <th>95968</th>\n",
       "      <td>Burundi</td>\n",
       "      <td>Rwanda</td>\n",
       "      <td>1975</td>\n",
       "      <td>49500.0</td>\n",
       "    </tr>\n",
       "    <tr>\n",
       "      <th>95969</th>\n",
       "      <td>Cameroon</td>\n",
       "      <td>Equatorial Guinea</td>\n",
       "      <td>1975</td>\n",
       "      <td>30000.0</td>\n",
       "    </tr>\n",
       "    <tr>\n",
       "      <th>95973</th>\n",
       "      <td>Congo</td>\n",
       "      <td>Angola</td>\n",
       "      <td>1975</td>\n",
       "      <td>5000.0</td>\n",
       "    </tr>\n",
       "    <tr>\n",
       "      <th>95974</th>\n",
       "      <td>Côte d'Ivoire</td>\n",
       "      <td>Guinea</td>\n",
       "      <td>1975</td>\n",
       "      <td>300000.0</td>\n",
       "    </tr>\n",
       "    <tr>\n",
       "      <th>95975</th>\n",
       "      <td>Dem. Rep. of the Congo</td>\n",
       "      <td>Angola</td>\n",
       "      <td>1975</td>\n",
       "      <td>460000.0</td>\n",
       "    </tr>\n",
       "    <tr>\n",
       "      <th>95976</th>\n",
       "      <td>Dem. Rep. of the Congo</td>\n",
       "      <td>Burundi</td>\n",
       "      <td>1975</td>\n",
       "      <td>24000.0</td>\n",
       "    </tr>\n",
       "    <tr>\n",
       "      <th>95977</th>\n",
       "      <td>Dem. Rep. of the Congo</td>\n",
       "      <td>Rwanda</td>\n",
       "      <td>1975</td>\n",
       "      <td>24300.0</td>\n",
       "    </tr>\n",
       "    <tr>\n",
       "      <th>95982</th>\n",
       "      <td>Ethiopia</td>\n",
       "      <td>Sudan</td>\n",
       "      <td>1975</td>\n",
       "      <td>11000.0</td>\n",
       "    </tr>\n",
       "    <tr>\n",
       "      <th>95985</th>\n",
       "      <td>Gabon</td>\n",
       "      <td>Equatorial Guinea</td>\n",
       "      <td>1975</td>\n",
       "      <td>60000.0</td>\n",
       "    </tr>\n",
       "    <tr>\n",
       "      <th>96006</th>\n",
       "      <td>Mozambique</td>\n",
       "      <td>Malawi</td>\n",
       "      <td>1975</td>\n",
       "      <td>30000.0</td>\n",
       "    </tr>\n",
       "    <tr>\n",
       "      <th>96008</th>\n",
       "      <td>Mozambique</td>\n",
       "      <td>Zimbabwe</td>\n",
       "      <td>1975</td>\n",
       "      <td>14500.0</td>\n",
       "    </tr>\n",
       "    <tr>\n",
       "      <th>96009</th>\n",
       "      <td>Nepal</td>\n",
       "      <td>Tibetans</td>\n",
       "      <td>1975</td>\n",
       "      <td>8200.0</td>\n",
       "    </tr>\n",
       "    <tr>\n",
       "      <th>96015</th>\n",
       "      <td>Rwanda</td>\n",
       "      <td>Burundi</td>\n",
       "      <td>1975</td>\n",
       "      <td>7400.0</td>\n",
       "    </tr>\n",
       "    <tr>\n",
       "      <th>96016</th>\n",
       "      <td>Senegal</td>\n",
       "      <td>Guinea-Bissau</td>\n",
       "      <td>1975</td>\n",
       "      <td>46000.0</td>\n",
       "    </tr>\n",
       "    <tr>\n",
       "      <th>96020</th>\n",
       "      <td>Sudan</td>\n",
       "      <td>Ethiopia</td>\n",
       "      <td>1975</td>\n",
       "      <td>91000.0</td>\n",
       "    </tr>\n",
       "    <tr>\n",
       "      <th>96024</th>\n",
       "      <td>Thailand</td>\n",
       "      <td>Cambodia</td>\n",
       "      <td>1975</td>\n",
       "      <td>18830.0</td>\n",
       "    </tr>\n",
       "    <tr>\n",
       "      <th>96025</th>\n",
       "      <td>Thailand</td>\n",
       "      <td>Lao People's Dem. Rep.</td>\n",
       "      <td>1975</td>\n",
       "      <td>55510.0</td>\n",
       "    </tr>\n",
       "    <tr>\n",
       "      <th>96033</th>\n",
       "      <td>Uganda</td>\n",
       "      <td>Dem. Rep. of the Congo</td>\n",
       "      <td>1975</td>\n",
       "      <td>34450.0</td>\n",
       "    </tr>\n",
       "    <tr>\n",
       "      <th>96034</th>\n",
       "      <td>Uganda</td>\n",
       "      <td>Rwanda</td>\n",
       "      <td>1975</td>\n",
       "      <td>78120.0</td>\n",
       "    </tr>\n",
       "    <tr>\n",
       "      <th>96037</th>\n",
       "      <td>United Rep. of Tanzania</td>\n",
       "      <td>Burundi</td>\n",
       "      <td>1975</td>\n",
       "      <td>110540.0</td>\n",
       "    </tr>\n",
       "    <tr>\n",
       "      <th>96040</th>\n",
       "      <td>United Rep. of Tanzania</td>\n",
       "      <td>Mozambique</td>\n",
       "      <td>1975</td>\n",
       "      <td>33700.0</td>\n",
       "    </tr>\n",
       "    <tr>\n",
       "      <th>96041</th>\n",
       "      <td>United Rep. of Tanzania</td>\n",
       "      <td>Rwanda</td>\n",
       "      <td>1975</td>\n",
       "      <td>23100.0</td>\n",
       "    </tr>\n",
       "    <tr>\n",
       "      <th>96047</th>\n",
       "      <td>Various</td>\n",
       "      <td>Angola</td>\n",
       "      <td>1975</td>\n",
       "      <td>5000.0</td>\n",
       "    </tr>\n",
       "    <tr>\n",
       "      <th>96049</th>\n",
       "      <td>Zambia</td>\n",
       "      <td>Angola</td>\n",
       "      <td>1975</td>\n",
       "      <td>30040.0</td>\n",
       "    </tr>\n",
       "  </tbody>\n",
       "</table>\n",
       "</div>"
      ],
      "text/plain": [
       "                        asylum                  origin  Year  refugees\n",
       "95955                  Algeria          Western Sahara  1975   20000.0\n",
       "95957                Argentina                   Chile  1975   14400.0\n",
       "95968                  Burundi                  Rwanda  1975   49500.0\n",
       "95969                 Cameroon       Equatorial Guinea  1975   30000.0\n",
       "95973                    Congo                  Angola  1975    5000.0\n",
       "95974            Côte d'Ivoire                  Guinea  1975  300000.0\n",
       "95975   Dem. Rep. of the Congo                  Angola  1975  460000.0\n",
       "95976   Dem. Rep. of the Congo                 Burundi  1975   24000.0\n",
       "95977   Dem. Rep. of the Congo                  Rwanda  1975   24300.0\n",
       "95982                 Ethiopia                   Sudan  1975   11000.0\n",
       "95985                    Gabon       Equatorial Guinea  1975   60000.0\n",
       "96006               Mozambique                  Malawi  1975   30000.0\n",
       "96008               Mozambique                Zimbabwe  1975   14500.0\n",
       "96009                    Nepal                Tibetans  1975    8200.0\n",
       "96015                   Rwanda                 Burundi  1975    7400.0\n",
       "96016                  Senegal           Guinea-Bissau  1975   46000.0\n",
       "96020                    Sudan                Ethiopia  1975   91000.0\n",
       "96024                 Thailand                Cambodia  1975   18830.0\n",
       "96025                 Thailand  Lao People's Dem. Rep.  1975   55510.0\n",
       "96033                   Uganda  Dem. Rep. of the Congo  1975   34450.0\n",
       "96034                   Uganda                  Rwanda  1975   78120.0\n",
       "96037  United Rep. of Tanzania                 Burundi  1975  110540.0\n",
       "96040  United Rep. of Tanzania              Mozambique  1975   33700.0\n",
       "96041  United Rep. of Tanzania                  Rwanda  1975   23100.0\n",
       "96047                  Various                  Angola  1975    5000.0\n",
       "96049                   Zambia                  Angola  1975   30040.0"
      ]
     },
     "execution_count": 8,
     "metadata": {},
     "output_type": "execute_result"
    }
   ],
   "source": [
    "ref_df[(ref_df[\"Year\"] == 1975) & (ref_df[\"refugees\"] >= 5000) & (ref_df[\"origin\"] != \"Various\")]"
   ]
  },
  {
   "cell_type": "code",
   "execution_count": 9,
   "id": "43235470",
   "metadata": {
    "scrolled": true
   },
   "outputs": [
    {
     "data": {
      "text/plain": [
       "asylum      Dem. Rep. of the Congo\n",
       "origin                      Angola\n",
       "Year                          1975\n",
       "refugees                  460000.0\n",
       "Name: 95975, dtype: object"
      ]
     },
     "execution_count": 9,
     "metadata": {},
     "output_type": "execute_result"
    }
   ],
   "source": [
    "ref_df[ref_df[\"Year\"] == 1975].sort_values(\"refugees\").iloc[-3,:]"
   ]
  },
  {
   "cell_type": "code",
   "execution_count": 10,
   "id": "c51102c5",
   "metadata": {},
   "outputs": [],
   "source": [
    "origin_lst = ref_df[(ref_df[\"Year\"] == 1975) & (ref_df[\"origin\"] != \"Various\") & (ref_df[\"asylum\"] != \"Various\")]\\\n",
    "    .groupby(\"origin\").sum().sort_values(\"refugees\", ascending=False).index"
   ]
  },
  {
   "cell_type": "code",
   "execution_count": 46,
   "id": "0256ce1d",
   "metadata": {
    "scrolled": true
   },
   "outputs": [
    {
     "data": {
      "text/html": [
       "<h1>1975 Refugees Origin Countries</h1> (sorted descending)"
      ],
      "text/plain": [
       "<IPython.core.display.HTML object>"
      ]
     },
     "metadata": {},
     "output_type": "display_data"
    },
    {
     "data": {
      "text/html": [
       "<b>Angola ---         501,830</b>"
      ],
      "text/plain": [
       "<IPython.core.display.HTML object>"
      ]
     },
     "metadata": {},
     "output_type": "display_data"
    },
    {
     "data": {
      "text/html": [
       "<div>\n",
       "<style scoped>\n",
       "    .dataframe tbody tr th:only-of-type {\n",
       "        vertical-align: middle;\n",
       "    }\n",
       "\n",
       "    .dataframe tbody tr th {\n",
       "        vertical-align: top;\n",
       "    }\n",
       "\n",
       "    .dataframe thead th {\n",
       "        text-align: right;\n",
       "    }\n",
       "</style>\n",
       "<table border=\"1\" class=\"dataframe\">\n",
       "  <thead>\n",
       "    <tr style=\"text-align: right;\">\n",
       "      <th></th>\n",
       "      <th>asylum</th>\n",
       "      <th>refugees</th>\n",
       "    </tr>\n",
       "  </thead>\n",
       "  <tbody>\n",
       "    <tr>\n",
       "      <th>95975</th>\n",
       "      <td>Dem. Rep. of the Congo</td>\n",
       "      <td>460000.0</td>\n",
       "    </tr>\n",
       "    <tr>\n",
       "      <th>96049</th>\n",
       "      <td>Zambia</td>\n",
       "      <td>30040.0</td>\n",
       "    </tr>\n",
       "    <tr>\n",
       "      <th>95973</th>\n",
       "      <td>Congo</td>\n",
       "      <td>5000.0</td>\n",
       "    </tr>\n",
       "    <tr>\n",
       "      <th>96047</th>\n",
       "      <td>Various</td>\n",
       "      <td>5000.0</td>\n",
       "    </tr>\n",
       "    <tr>\n",
       "      <th>95962</th>\n",
       "      <td>Botswana</td>\n",
       "      <td>1790.0</td>\n",
       "    </tr>\n",
       "  </tbody>\n",
       "</table>\n",
       "</div>"
      ],
      "text/plain": [
       "                       asylum  refugees\n",
       "95975  Dem. Rep. of the Congo  460000.0\n",
       "96049                  Zambia   30040.0\n",
       "95973                   Congo    5000.0\n",
       "96047                 Various    5000.0\n",
       "95962                Botswana    1790.0"
      ]
     },
     "metadata": {},
     "output_type": "display_data"
    },
    {
     "data": {
      "text/html": [
       "<b>Guinea ---         300,000</b>"
      ],
      "text/plain": [
       "<IPython.core.display.HTML object>"
      ]
     },
     "metadata": {},
     "output_type": "display_data"
    },
    {
     "data": {
      "text/html": [
       "<div>\n",
       "<style scoped>\n",
       "    .dataframe tbody tr th:only-of-type {\n",
       "        vertical-align: middle;\n",
       "    }\n",
       "\n",
       "    .dataframe tbody tr th {\n",
       "        vertical-align: top;\n",
       "    }\n",
       "\n",
       "    .dataframe thead th {\n",
       "        text-align: right;\n",
       "    }\n",
       "</style>\n",
       "<table border=\"1\" class=\"dataframe\">\n",
       "  <thead>\n",
       "    <tr style=\"text-align: right;\">\n",
       "      <th></th>\n",
       "      <th>asylum</th>\n",
       "      <th>refugees</th>\n",
       "    </tr>\n",
       "  </thead>\n",
       "  <tbody>\n",
       "    <tr>\n",
       "      <th>95974</th>\n",
       "      <td>Côte d'Ivoire</td>\n",
       "      <td>300000.0</td>\n",
       "    </tr>\n",
       "  </tbody>\n",
       "</table>\n",
       "</div>"
      ],
      "text/plain": [
       "              asylum  refugees\n",
       "95974  Côte d'Ivoire  300000.0"
      ]
     },
     "metadata": {},
     "output_type": "display_data"
    },
    {
     "data": {
      "text/html": [
       "<b>Rwanda ---         175,720</b>"
      ],
      "text/plain": [
       "<IPython.core.display.HTML object>"
      ]
     },
     "metadata": {},
     "output_type": "display_data"
    },
    {
     "data": {
      "text/html": [
       "<div>\n",
       "<style scoped>\n",
       "    .dataframe tbody tr th:only-of-type {\n",
       "        vertical-align: middle;\n",
       "    }\n",
       "\n",
       "    .dataframe tbody tr th {\n",
       "        vertical-align: top;\n",
       "    }\n",
       "\n",
       "    .dataframe thead th {\n",
       "        text-align: right;\n",
       "    }\n",
       "</style>\n",
       "<table border=\"1\" class=\"dataframe\">\n",
       "  <thead>\n",
       "    <tr style=\"text-align: right;\">\n",
       "      <th></th>\n",
       "      <th>asylum</th>\n",
       "      <th>refugees</th>\n",
       "    </tr>\n",
       "  </thead>\n",
       "  <tbody>\n",
       "    <tr>\n",
       "      <th>96034</th>\n",
       "      <td>Uganda</td>\n",
       "      <td>78120.0</td>\n",
       "    </tr>\n",
       "    <tr>\n",
       "      <th>95968</th>\n",
       "      <td>Burundi</td>\n",
       "      <td>49500.0</td>\n",
       "    </tr>\n",
       "    <tr>\n",
       "      <th>95977</th>\n",
       "      <td>Dem. Rep. of the Congo</td>\n",
       "      <td>24300.0</td>\n",
       "    </tr>\n",
       "    <tr>\n",
       "      <th>96041</th>\n",
       "      <td>United Rep. of Tanzania</td>\n",
       "      <td>23100.0</td>\n",
       "    </tr>\n",
       "    <tr>\n",
       "      <th>95994</th>\n",
       "      <td>Kenya</td>\n",
       "      <td>700.0</td>\n",
       "    </tr>\n",
       "  </tbody>\n",
       "</table>\n",
       "</div>"
      ],
      "text/plain": [
       "                        asylum  refugees\n",
       "96034                   Uganda   78120.0\n",
       "95968                  Burundi   49500.0\n",
       "95977   Dem. Rep. of the Congo   24300.0\n",
       "96041  United Rep. of Tanzania   23100.0\n",
       "95994                    Kenya     700.0"
      ]
     },
     "metadata": {},
     "output_type": "display_data"
    },
    {
     "data": {
      "text/html": [
       "<b>Burundi ---         141,940</b>"
      ],
      "text/plain": [
       "<IPython.core.display.HTML object>"
      ]
     },
     "metadata": {},
     "output_type": "display_data"
    },
    {
     "data": {
      "text/html": [
       "<div>\n",
       "<style scoped>\n",
       "    .dataframe tbody tr th:only-of-type {\n",
       "        vertical-align: middle;\n",
       "    }\n",
       "\n",
       "    .dataframe tbody tr th {\n",
       "        vertical-align: top;\n",
       "    }\n",
       "\n",
       "    .dataframe thead th {\n",
       "        text-align: right;\n",
       "    }\n",
       "</style>\n",
       "<table border=\"1\" class=\"dataframe\">\n",
       "  <thead>\n",
       "    <tr style=\"text-align: right;\">\n",
       "      <th></th>\n",
       "      <th>asylum</th>\n",
       "      <th>refugees</th>\n",
       "    </tr>\n",
       "  </thead>\n",
       "  <tbody>\n",
       "    <tr>\n",
       "      <th>96037</th>\n",
       "      <td>United Rep. of Tanzania</td>\n",
       "      <td>110540.0</td>\n",
       "    </tr>\n",
       "    <tr>\n",
       "      <th>95976</th>\n",
       "      <td>Dem. Rep. of the Congo</td>\n",
       "      <td>24000.0</td>\n",
       "    </tr>\n",
       "    <tr>\n",
       "      <th>96015</th>\n",
       "      <td>Rwanda</td>\n",
       "      <td>7400.0</td>\n",
       "    </tr>\n",
       "  </tbody>\n",
       "</table>\n",
       "</div>"
      ],
      "text/plain": [
       "                        asylum  refugees\n",
       "96037  United Rep. of Tanzania  110540.0\n",
       "95976   Dem. Rep. of the Congo   24000.0\n",
       "96015                   Rwanda    7400.0"
      ]
     },
     "metadata": {},
     "output_type": "display_data"
    },
    {
     "data": {
      "text/html": [
       "<b>Ethiopia ---          91,410</b>"
      ],
      "text/plain": [
       "<IPython.core.display.HTML object>"
      ]
     },
     "metadata": {},
     "output_type": "display_data"
    },
    {
     "data": {
      "text/html": [
       "<div>\n",
       "<style scoped>\n",
       "    .dataframe tbody tr th:only-of-type {\n",
       "        vertical-align: middle;\n",
       "    }\n",
       "\n",
       "    .dataframe tbody tr th {\n",
       "        vertical-align: top;\n",
       "    }\n",
       "\n",
       "    .dataframe thead th {\n",
       "        text-align: right;\n",
       "    }\n",
       "</style>\n",
       "<table border=\"1\" class=\"dataframe\">\n",
       "  <thead>\n",
       "    <tr style=\"text-align: right;\">\n",
       "      <th></th>\n",
       "      <th>asylum</th>\n",
       "      <th>refugees</th>\n",
       "    </tr>\n",
       "  </thead>\n",
       "  <tbody>\n",
       "    <tr>\n",
       "      <th>96020</th>\n",
       "      <td>Sudan</td>\n",
       "      <td>91000.0</td>\n",
       "    </tr>\n",
       "    <tr>\n",
       "      <th>95991</th>\n",
       "      <td>Kenya</td>\n",
       "      <td>300.0</td>\n",
       "    </tr>\n",
       "    <tr>\n",
       "      <th>96052</th>\n",
       "      <td>Zambia</td>\n",
       "      <td>110.0</td>\n",
       "    </tr>\n",
       "  </tbody>\n",
       "</table>\n",
       "</div>"
      ],
      "text/plain": [
       "       asylum  refugees\n",
       "96020   Sudan   91000.0\n",
       "95991   Kenya     300.0\n",
       "96052  Zambia     110.0"
      ]
     },
     "metadata": {},
     "output_type": "display_data"
    },
    {
     "data": {
      "text/html": [
       "<b>Equatorial Guinea ---          90,000</b>"
      ],
      "text/plain": [
       "<IPython.core.display.HTML object>"
      ]
     },
     "metadata": {},
     "output_type": "display_data"
    },
    {
     "data": {
      "text/html": [
       "<div>\n",
       "<style scoped>\n",
       "    .dataframe tbody tr th:only-of-type {\n",
       "        vertical-align: middle;\n",
       "    }\n",
       "\n",
       "    .dataframe tbody tr th {\n",
       "        vertical-align: top;\n",
       "    }\n",
       "\n",
       "    .dataframe thead th {\n",
       "        text-align: right;\n",
       "    }\n",
       "</style>\n",
       "<table border=\"1\" class=\"dataframe\">\n",
       "  <thead>\n",
       "    <tr style=\"text-align: right;\">\n",
       "      <th></th>\n",
       "      <th>asylum</th>\n",
       "      <th>refugees</th>\n",
       "    </tr>\n",
       "  </thead>\n",
       "  <tbody>\n",
       "    <tr>\n",
       "      <th>95985</th>\n",
       "      <td>Gabon</td>\n",
       "      <td>60000.0</td>\n",
       "    </tr>\n",
       "    <tr>\n",
       "      <th>95969</th>\n",
       "      <td>Cameroon</td>\n",
       "      <td>30000.0</td>\n",
       "    </tr>\n",
       "  </tbody>\n",
       "</table>\n",
       "</div>"
      ],
      "text/plain": [
       "         asylum  refugees\n",
       "95985     Gabon   60000.0\n",
       "95969  Cameroon   30000.0"
      ]
     },
     "metadata": {},
     "output_type": "display_data"
    },
    {
     "data": {
      "text/html": [
       "<b>Lao People's Dem. Rep. ---          55,510</b>"
      ],
      "text/plain": [
       "<IPython.core.display.HTML object>"
      ]
     },
     "metadata": {},
     "output_type": "display_data"
    },
    {
     "data": {
      "text/html": [
       "<div>\n",
       "<style scoped>\n",
       "    .dataframe tbody tr th:only-of-type {\n",
       "        vertical-align: middle;\n",
       "    }\n",
       "\n",
       "    .dataframe tbody tr th {\n",
       "        vertical-align: top;\n",
       "    }\n",
       "\n",
       "    .dataframe thead th {\n",
       "        text-align: right;\n",
       "    }\n",
       "</style>\n",
       "<table border=\"1\" class=\"dataframe\">\n",
       "  <thead>\n",
       "    <tr style=\"text-align: right;\">\n",
       "      <th></th>\n",
       "      <th>asylum</th>\n",
       "      <th>refugees</th>\n",
       "    </tr>\n",
       "  </thead>\n",
       "  <tbody>\n",
       "    <tr>\n",
       "      <th>96025</th>\n",
       "      <td>Thailand</td>\n",
       "      <td>55510.0</td>\n",
       "    </tr>\n",
       "  </tbody>\n",
       "</table>\n",
       "</div>"
      ],
      "text/plain": [
       "         asylum  refugees\n",
       "96025  Thailand   55510.0"
      ]
     },
     "metadata": {},
     "output_type": "display_data"
    },
    {
     "data": {
      "text/html": [
       "<b>Guinea-Bissau ---          46,000</b>"
      ],
      "text/plain": [
       "<IPython.core.display.HTML object>"
      ]
     },
     "metadata": {},
     "output_type": "display_data"
    },
    {
     "data": {
      "text/html": [
       "<div>\n",
       "<style scoped>\n",
       "    .dataframe tbody tr th:only-of-type {\n",
       "        vertical-align: middle;\n",
       "    }\n",
       "\n",
       "    .dataframe tbody tr th {\n",
       "        vertical-align: top;\n",
       "    }\n",
       "\n",
       "    .dataframe thead th {\n",
       "        text-align: right;\n",
       "    }\n",
       "</style>\n",
       "<table border=\"1\" class=\"dataframe\">\n",
       "  <thead>\n",
       "    <tr style=\"text-align: right;\">\n",
       "      <th></th>\n",
       "      <th>asylum</th>\n",
       "      <th>refugees</th>\n",
       "    </tr>\n",
       "  </thead>\n",
       "  <tbody>\n",
       "    <tr>\n",
       "      <th>96016</th>\n",
       "      <td>Senegal</td>\n",
       "      <td>46000.0</td>\n",
       "    </tr>\n",
       "  </tbody>\n",
       "</table>\n",
       "</div>"
      ],
      "text/plain": [
       "        asylum  refugees\n",
       "96016  Senegal   46000.0"
      ]
     },
     "metadata": {},
     "output_type": "display_data"
    },
    {
     "data": {
      "text/html": [
       "<b>Dem. Rep. of the Congo ---          39,410</b>"
      ],
      "text/plain": [
       "<IPython.core.display.HTML object>"
      ]
     },
     "metadata": {},
     "output_type": "display_data"
    },
    {
     "data": {
      "text/html": [
       "<div>\n",
       "<style scoped>\n",
       "    .dataframe tbody tr th:only-of-type {\n",
       "        vertical-align: middle;\n",
       "    }\n",
       "\n",
       "    .dataframe tbody tr th {\n",
       "        vertical-align: top;\n",
       "    }\n",
       "\n",
       "    .dataframe thead th {\n",
       "        text-align: right;\n",
       "    }\n",
       "</style>\n",
       "<table border=\"1\" class=\"dataframe\">\n",
       "  <thead>\n",
       "    <tr style=\"text-align: right;\">\n",
       "      <th></th>\n",
       "      <th>asylum</th>\n",
       "      <th>refugees</th>\n",
       "    </tr>\n",
       "  </thead>\n",
       "  <tbody>\n",
       "    <tr>\n",
       "      <th>96033</th>\n",
       "      <td>Uganda</td>\n",
       "      <td>34450.0</td>\n",
       "    </tr>\n",
       "    <tr>\n",
       "      <th>96019</th>\n",
       "      <td>Sudan</td>\n",
       "      <td>4500.0</td>\n",
       "    </tr>\n",
       "    <tr>\n",
       "      <th>96038</th>\n",
       "      <td>United Rep. of Tanzania</td>\n",
       "      <td>400.0</td>\n",
       "    </tr>\n",
       "    <tr>\n",
       "      <th>96051</th>\n",
       "      <td>Zambia</td>\n",
       "      <td>60.0</td>\n",
       "    </tr>\n",
       "  </tbody>\n",
       "</table>\n",
       "</div>"
      ],
      "text/plain": [
       "                        asylum  refugees\n",
       "96033                   Uganda   34450.0\n",
       "96019                    Sudan    4500.0\n",
       "96038  United Rep. of Tanzania     400.0\n",
       "96051                   Zambia      60.0"
      ]
     },
     "metadata": {},
     "output_type": "display_data"
    },
    {
     "data": {
      "text/html": [
       "<b>Mozambique ---          34,750</b>"
      ],
      "text/plain": [
       "<IPython.core.display.HTML object>"
      ]
     },
     "metadata": {},
     "output_type": "display_data"
    },
    {
     "data": {
      "text/html": [
       "<div>\n",
       "<style scoped>\n",
       "    .dataframe tbody tr th:only-of-type {\n",
       "        vertical-align: middle;\n",
       "    }\n",
       "\n",
       "    .dataframe tbody tr th {\n",
       "        vertical-align: top;\n",
       "    }\n",
       "\n",
       "    .dataframe thead th {\n",
       "        text-align: right;\n",
       "    }\n",
       "</style>\n",
       "<table border=\"1\" class=\"dataframe\">\n",
       "  <thead>\n",
       "    <tr style=\"text-align: right;\">\n",
       "      <th></th>\n",
       "      <th>asylum</th>\n",
       "      <th>refugees</th>\n",
       "    </tr>\n",
       "  </thead>\n",
       "  <tbody>\n",
       "    <tr>\n",
       "      <th>96040</th>\n",
       "      <td>United Rep. of Tanzania</td>\n",
       "      <td>33700.0</td>\n",
       "    </tr>\n",
       "    <tr>\n",
       "      <th>95992</th>\n",
       "      <td>Kenya</td>\n",
       "      <td>600.0</td>\n",
       "    </tr>\n",
       "    <tr>\n",
       "      <th>96056</th>\n",
       "      <td>Zambia</td>\n",
       "      <td>450.0</td>\n",
       "    </tr>\n",
       "  </tbody>\n",
       "</table>\n",
       "</div>"
      ],
      "text/plain": [
       "                        asylum  refugees\n",
       "96040  United Rep. of Tanzania   33700.0\n",
       "95992                    Kenya     600.0\n",
       "96056                   Zambia     450.0"
      ]
     },
     "metadata": {},
     "output_type": "display_data"
    },
    {
     "data": {
      "text/html": [
       "<b>Malawi ---          30,350</b>"
      ],
      "text/plain": [
       "<IPython.core.display.HTML object>"
      ]
     },
     "metadata": {},
     "output_type": "display_data"
    },
    {
     "data": {
      "text/html": [
       "<div>\n",
       "<style scoped>\n",
       "    .dataframe tbody tr th:only-of-type {\n",
       "        vertical-align: middle;\n",
       "    }\n",
       "\n",
       "    .dataframe tbody tr th {\n",
       "        vertical-align: top;\n",
       "    }\n",
       "\n",
       "    .dataframe thead th {\n",
       "        text-align: right;\n",
       "    }\n",
       "</style>\n",
       "<table border=\"1\" class=\"dataframe\">\n",
       "  <thead>\n",
       "    <tr style=\"text-align: right;\">\n",
       "      <th></th>\n",
       "      <th>asylum</th>\n",
       "      <th>refugees</th>\n",
       "    </tr>\n",
       "  </thead>\n",
       "  <tbody>\n",
       "    <tr>\n",
       "      <th>96006</th>\n",
       "      <td>Mozambique</td>\n",
       "      <td>30000.0</td>\n",
       "    </tr>\n",
       "    <tr>\n",
       "      <th>96055</th>\n",
       "      <td>Zambia</td>\n",
       "      <td>270.0</td>\n",
       "    </tr>\n",
       "    <tr>\n",
       "      <th>96039</th>\n",
       "      <td>United Rep. of Tanzania</td>\n",
       "      <td>80.0</td>\n",
       "    </tr>\n",
       "  </tbody>\n",
       "</table>\n",
       "</div>"
      ],
      "text/plain": [
       "                        asylum  refugees\n",
       "96006               Mozambique   30000.0\n",
       "96055                   Zambia     270.0\n",
       "96039  United Rep. of Tanzania      80.0"
      ]
     },
     "metadata": {},
     "output_type": "display_data"
    },
    {
     "data": {
      "text/html": [
       "<b>Western Sahara ---          20,000</b>"
      ],
      "text/plain": [
       "<IPython.core.display.HTML object>"
      ]
     },
     "metadata": {},
     "output_type": "display_data"
    },
    {
     "data": {
      "text/html": [
       "<div>\n",
       "<style scoped>\n",
       "    .dataframe tbody tr th:only-of-type {\n",
       "        vertical-align: middle;\n",
       "    }\n",
       "\n",
       "    .dataframe tbody tr th {\n",
       "        vertical-align: top;\n",
       "    }\n",
       "\n",
       "    .dataframe thead th {\n",
       "        text-align: right;\n",
       "    }\n",
       "</style>\n",
       "<table border=\"1\" class=\"dataframe\">\n",
       "  <thead>\n",
       "    <tr style=\"text-align: right;\">\n",
       "      <th></th>\n",
       "      <th>asylum</th>\n",
       "      <th>refugees</th>\n",
       "    </tr>\n",
       "  </thead>\n",
       "  <tbody>\n",
       "    <tr>\n",
       "      <th>95955</th>\n",
       "      <td>Algeria</td>\n",
       "      <td>20000.0</td>\n",
       "    </tr>\n",
       "  </tbody>\n",
       "</table>\n",
       "</div>"
      ],
      "text/plain": [
       "        asylum  refugees\n",
       "95955  Algeria   20000.0"
      ]
     },
     "metadata": {},
     "output_type": "display_data"
    },
    {
     "data": {
      "text/html": [
       "<b>Cambodia ---          18,830</b>"
      ],
      "text/plain": [
       "<IPython.core.display.HTML object>"
      ]
     },
     "metadata": {},
     "output_type": "display_data"
    },
    {
     "data": {
      "text/html": [
       "<div>\n",
       "<style scoped>\n",
       "    .dataframe tbody tr th:only-of-type {\n",
       "        vertical-align: middle;\n",
       "    }\n",
       "\n",
       "    .dataframe tbody tr th {\n",
       "        vertical-align: top;\n",
       "    }\n",
       "\n",
       "    .dataframe thead th {\n",
       "        text-align: right;\n",
       "    }\n",
       "</style>\n",
       "<table border=\"1\" class=\"dataframe\">\n",
       "  <thead>\n",
       "    <tr style=\"text-align: right;\">\n",
       "      <th></th>\n",
       "      <th>asylum</th>\n",
       "      <th>refugees</th>\n",
       "    </tr>\n",
       "  </thead>\n",
       "  <tbody>\n",
       "    <tr>\n",
       "      <th>96024</th>\n",
       "      <td>Thailand</td>\n",
       "      <td>18830.0</td>\n",
       "    </tr>\n",
       "  </tbody>\n",
       "</table>\n",
       "</div>"
      ],
      "text/plain": [
       "         asylum  refugees\n",
       "96024  Thailand   18830.0"
      ]
     },
     "metadata": {},
     "output_type": "display_data"
    },
    {
     "data": {
      "text/html": [
       "<b>Chile ---          15,350</b>"
      ],
      "text/plain": [
       "<IPython.core.display.HTML object>"
      ]
     },
     "metadata": {},
     "output_type": "display_data"
    },
    {
     "data": {
      "text/html": [
       "<div>\n",
       "<style scoped>\n",
       "    .dataframe tbody tr th:only-of-type {\n",
       "        vertical-align: middle;\n",
       "    }\n",
       "\n",
       "    .dataframe tbody tr th {\n",
       "        vertical-align: top;\n",
       "    }\n",
       "\n",
       "    .dataframe thead th {\n",
       "        text-align: right;\n",
       "    }\n",
       "</style>\n",
       "<table border=\"1\" class=\"dataframe\">\n",
       "  <thead>\n",
       "    <tr style=\"text-align: right;\">\n",
       "      <th></th>\n",
       "      <th>asylum</th>\n",
       "      <th>refugees</th>\n",
       "    </tr>\n",
       "  </thead>\n",
       "  <tbody>\n",
       "    <tr>\n",
       "      <th>95957</th>\n",
       "      <td>Argentina</td>\n",
       "      <td>14400.0</td>\n",
       "    </tr>\n",
       "    <tr>\n",
       "      <th>96012</th>\n",
       "      <td>Peru</td>\n",
       "      <td>600.0</td>\n",
       "    </tr>\n",
       "    <tr>\n",
       "      <th>95953</th>\n",
       "      <td>Algeria</td>\n",
       "      <td>350.0</td>\n",
       "    </tr>\n",
       "  </tbody>\n",
       "</table>\n",
       "</div>"
      ],
      "text/plain": [
       "          asylum  refugees\n",
       "95957  Argentina   14400.0\n",
       "96012       Peru     600.0\n",
       "95953    Algeria     350.0"
      ]
     },
     "metadata": {},
     "output_type": "display_data"
    },
    {
     "data": {
      "text/html": [
       "<b>Zimbabwe ---          14,720</b>"
      ],
      "text/plain": [
       "<IPython.core.display.HTML object>"
      ]
     },
     "metadata": {},
     "output_type": "display_data"
    },
    {
     "data": {
      "text/html": [
       "<div>\n",
       "<style scoped>\n",
       "    .dataframe tbody tr th:only-of-type {\n",
       "        vertical-align: middle;\n",
       "    }\n",
       "\n",
       "    .dataframe tbody tr th {\n",
       "        vertical-align: top;\n",
       "    }\n",
       "\n",
       "    .dataframe thead th {\n",
       "        text-align: right;\n",
       "    }\n",
       "</style>\n",
       "<table border=\"1\" class=\"dataframe\">\n",
       "  <thead>\n",
       "    <tr style=\"text-align: right;\">\n",
       "      <th></th>\n",
       "      <th>asylum</th>\n",
       "      <th>refugees</th>\n",
       "    </tr>\n",
       "  </thead>\n",
       "  <tbody>\n",
       "    <tr>\n",
       "      <th>96008</th>\n",
       "      <td>Mozambique</td>\n",
       "      <td>14500.0</td>\n",
       "    </tr>\n",
       "    <tr>\n",
       "      <th>95966</th>\n",
       "      <td>Botswana</td>\n",
       "      <td>80.0</td>\n",
       "    </tr>\n",
       "    <tr>\n",
       "      <th>96045</th>\n",
       "      <td>United Rep. of Tanzania</td>\n",
       "      <td>80.0</td>\n",
       "    </tr>\n",
       "    <tr>\n",
       "      <th>95997</th>\n",
       "      <td>Kenya</td>\n",
       "      <td>60.0</td>\n",
       "    </tr>\n",
       "  </tbody>\n",
       "</table>\n",
       "</div>"
      ],
      "text/plain": [
       "                        asylum  refugees\n",
       "96008               Mozambique   14500.0\n",
       "95966                 Botswana      80.0\n",
       "96045  United Rep. of Tanzania      80.0\n",
       "95997                    Kenya      60.0"
      ]
     },
     "metadata": {},
     "output_type": "display_data"
    },
    {
     "data": {
      "text/html": [
       "<b>Sudan ---          11,000</b>"
      ],
      "text/plain": [
       "<IPython.core.display.HTML object>"
      ]
     },
     "metadata": {},
     "output_type": "display_data"
    },
    {
     "data": {
      "text/html": [
       "<div>\n",
       "<style scoped>\n",
       "    .dataframe tbody tr th:only-of-type {\n",
       "        vertical-align: middle;\n",
       "    }\n",
       "\n",
       "    .dataframe tbody tr th {\n",
       "        vertical-align: top;\n",
       "    }\n",
       "\n",
       "    .dataframe thead th {\n",
       "        text-align: right;\n",
       "    }\n",
       "</style>\n",
       "<table border=\"1\" class=\"dataframe\">\n",
       "  <thead>\n",
       "    <tr style=\"text-align: right;\">\n",
       "      <th></th>\n",
       "      <th>asylum</th>\n",
       "      <th>refugees</th>\n",
       "    </tr>\n",
       "  </thead>\n",
       "  <tbody>\n",
       "    <tr>\n",
       "      <th>95982</th>\n",
       "      <td>Ethiopia</td>\n",
       "      <td>11000.0</td>\n",
       "    </tr>\n",
       "  </tbody>\n",
       "</table>\n",
       "</div>"
      ],
      "text/plain": [
       "         asylum  refugees\n",
       "95982  Ethiopia   11000.0"
      ]
     },
     "metadata": {},
     "output_type": "display_data"
    },
    {
     "data": {
      "text/html": [
       "<b>Tibetans ---           8,200</b>"
      ],
      "text/plain": [
       "<IPython.core.display.HTML object>"
      ]
     },
     "metadata": {},
     "output_type": "display_data"
    },
    {
     "data": {
      "text/html": [
       "<div>\n",
       "<style scoped>\n",
       "    .dataframe tbody tr th:only-of-type {\n",
       "        vertical-align: middle;\n",
       "    }\n",
       "\n",
       "    .dataframe tbody tr th {\n",
       "        vertical-align: top;\n",
       "    }\n",
       "\n",
       "    .dataframe thead th {\n",
       "        text-align: right;\n",
       "    }\n",
       "</style>\n",
       "<table border=\"1\" class=\"dataframe\">\n",
       "  <thead>\n",
       "    <tr style=\"text-align: right;\">\n",
       "      <th></th>\n",
       "      <th>asylum</th>\n",
       "      <th>refugees</th>\n",
       "    </tr>\n",
       "  </thead>\n",
       "  <tbody>\n",
       "    <tr>\n",
       "      <th>96009</th>\n",
       "      <td>Nepal</td>\n",
       "      <td>8200.0</td>\n",
       "    </tr>\n",
       "  </tbody>\n",
       "</table>\n",
       "</div>"
      ],
      "text/plain": [
       "      asylum  refugees\n",
       "96009  Nepal    8200.0"
      ]
     },
     "metadata": {},
     "output_type": "display_data"
    },
    {
     "data": {
      "text/html": [
       "<b>Namibia ---           3,970</b>"
      ],
      "text/plain": [
       "<IPython.core.display.HTML object>"
      ]
     },
     "metadata": {},
     "output_type": "display_data"
    },
    {
     "data": {
      "text/html": [
       "<div>\n",
       "<style scoped>\n",
       "    .dataframe tbody tr th:only-of-type {\n",
       "        vertical-align: middle;\n",
       "    }\n",
       "\n",
       "    .dataframe tbody tr th {\n",
       "        vertical-align: top;\n",
       "    }\n",
       "\n",
       "    .dataframe thead th {\n",
       "        text-align: right;\n",
       "    }\n",
       "</style>\n",
       "<table border=\"1\" class=\"dataframe\">\n",
       "  <thead>\n",
       "    <tr style=\"text-align: right;\">\n",
       "      <th></th>\n",
       "      <th>asylum</th>\n",
       "      <th>refugees</th>\n",
       "    </tr>\n",
       "  </thead>\n",
       "  <tbody>\n",
       "    <tr>\n",
       "      <th>96057</th>\n",
       "      <td>Zambia</td>\n",
       "      <td>3720.0</td>\n",
       "    </tr>\n",
       "    <tr>\n",
       "      <th>95964</th>\n",
       "      <td>Botswana</td>\n",
       "      <td>150.0</td>\n",
       "    </tr>\n",
       "    <tr>\n",
       "      <th>95993</th>\n",
       "      <td>Kenya</td>\n",
       "      <td>100.0</td>\n",
       "    </tr>\n",
       "  </tbody>\n",
       "</table>\n",
       "</div>"
      ],
      "text/plain": [
       "         asylum  refugees\n",
       "96057    Zambia    3720.0\n",
       "95964  Botswana     150.0\n",
       "95993     Kenya     100.0"
      ]
     },
     "metadata": {},
     "output_type": "display_data"
    },
    {
     "data": {
      "text/html": [
       "<b>Uganda ---           2,510</b>"
      ],
      "text/plain": [
       "<IPython.core.display.HTML object>"
      ]
     },
     "metadata": {},
     "output_type": "display_data"
    },
    {
     "data": {
      "text/html": [
       "<div>\n",
       "<style scoped>\n",
       "    .dataframe tbody tr th:only-of-type {\n",
       "        vertical-align: middle;\n",
       "    }\n",
       "\n",
       "    .dataframe tbody tr th {\n",
       "        vertical-align: top;\n",
       "    }\n",
       "\n",
       "    .dataframe thead th {\n",
       "        text-align: right;\n",
       "    }\n",
       "</style>\n",
       "<table border=\"1\" class=\"dataframe\">\n",
       "  <thead>\n",
       "    <tr style=\"text-align: right;\">\n",
       "      <th></th>\n",
       "      <th>asylum</th>\n",
       "      <th>refugees</th>\n",
       "    </tr>\n",
       "  </thead>\n",
       "  <tbody>\n",
       "    <tr>\n",
       "      <th>96043</th>\n",
       "      <td>United Rep. of Tanzania</td>\n",
       "      <td>2300.0</td>\n",
       "    </tr>\n",
       "    <tr>\n",
       "      <th>96060</th>\n",
       "      <td>Zambia</td>\n",
       "      <td>210.0</td>\n",
       "    </tr>\n",
       "  </tbody>\n",
       "</table>\n",
       "</div>"
      ],
      "text/plain": [
       "                        asylum  refugees\n",
       "96043  United Rep. of Tanzania    2300.0\n",
       "96060                   Zambia     210.0"
      ]
     },
     "metadata": {},
     "output_type": "display_data"
    },
    {
     "data": {
      "text/html": [
       "<b>Viet Nam ---           2,110</b>"
      ],
      "text/plain": [
       "<IPython.core.display.HTML object>"
      ]
     },
     "metadata": {},
     "output_type": "display_data"
    },
    {
     "data": {
      "text/html": [
       "<div>\n",
       "<style scoped>\n",
       "    .dataframe tbody tr th:only-of-type {\n",
       "        vertical-align: middle;\n",
       "    }\n",
       "\n",
       "    .dataframe tbody tr th {\n",
       "        vertical-align: top;\n",
       "    }\n",
       "\n",
       "    .dataframe thead th {\n",
       "        text-align: right;\n",
       "    }\n",
       "</style>\n",
       "<table border=\"1\" class=\"dataframe\">\n",
       "  <thead>\n",
       "    <tr style=\"text-align: right;\">\n",
       "      <th></th>\n",
       "      <th>asylum</th>\n",
       "      <th>refugees</th>\n",
       "    </tr>\n",
       "  </thead>\n",
       "  <tbody>\n",
       "    <tr>\n",
       "      <th>96026</th>\n",
       "      <td>Thailand</td>\n",
       "      <td>1420.0</td>\n",
       "    </tr>\n",
       "    <tr>\n",
       "      <th>96013</th>\n",
       "      <td>Philippines</td>\n",
       "      <td>690.0</td>\n",
       "    </tr>\n",
       "  </tbody>\n",
       "</table>\n",
       "</div>"
      ],
      "text/plain": [
       "            asylum  refugees\n",
       "96026     Thailand    1420.0\n",
       "96013  Philippines     690.0"
      ]
     },
     "metadata": {},
     "output_type": "display_data"
    },
    {
     "data": {
      "text/html": [
       "<b>South Africa ---           1,360</b>"
      ],
      "text/plain": [
       "<IPython.core.display.HTML object>"
      ]
     },
     "metadata": {},
     "output_type": "display_data"
    },
    {
     "data": {
      "text/html": [
       "<div>\n",
       "<style scoped>\n",
       "    .dataframe tbody tr th:only-of-type {\n",
       "        vertical-align: middle;\n",
       "    }\n",
       "\n",
       "    .dataframe tbody tr th {\n",
       "        vertical-align: top;\n",
       "    }\n",
       "\n",
       "    .dataframe thead th {\n",
       "        text-align: right;\n",
       "    }\n",
       "</style>\n",
       "<table border=\"1\" class=\"dataframe\">\n",
       "  <thead>\n",
       "    <tr style=\"text-align: right;\">\n",
       "      <th></th>\n",
       "      <th>asylum</th>\n",
       "      <th>refugees</th>\n",
       "    </tr>\n",
       "  </thead>\n",
       "  <tbody>\n",
       "    <tr>\n",
       "      <th>96059</th>\n",
       "      <td>Zambia</td>\n",
       "      <td>760.0</td>\n",
       "    </tr>\n",
       "    <tr>\n",
       "      <th>95965</th>\n",
       "      <td>Botswana</td>\n",
       "      <td>190.0</td>\n",
       "    </tr>\n",
       "    <tr>\n",
       "      <th>95999</th>\n",
       "      <td>Lesotho</td>\n",
       "      <td>190.0</td>\n",
       "    </tr>\n",
       "    <tr>\n",
       "      <th>95995</th>\n",
       "      <td>Kenya</td>\n",
       "      <td>90.0</td>\n",
       "    </tr>\n",
       "    <tr>\n",
       "      <th>96007</th>\n",
       "      <td>Mozambique</td>\n",
       "      <td>70.0</td>\n",
       "    </tr>\n",
       "    <tr>\n",
       "      <th>96042</th>\n",
       "      <td>United Rep. of Tanzania</td>\n",
       "      <td>60.0</td>\n",
       "    </tr>\n",
       "  </tbody>\n",
       "</table>\n",
       "</div>"
      ],
      "text/plain": [
       "                        asylum  refugees\n",
       "96059                   Zambia     760.0\n",
       "95965                 Botswana     190.0\n",
       "95999                  Lesotho     190.0\n",
       "95995                    Kenya      90.0\n",
       "96007               Mozambique      70.0\n",
       "96042  United Rep. of Tanzania      60.0"
      ]
     },
     "metadata": {},
     "output_type": "display_data"
    },
    {
     "data": {
      "text/html": [
       "<b>Zambia ---             750</b>"
      ],
      "text/plain": [
       "<IPython.core.display.HTML object>"
      ]
     },
     "metadata": {},
     "output_type": "display_data"
    },
    {
     "data": {
      "text/html": [
       "<div>\n",
       "<style scoped>\n",
       "    .dataframe tbody tr th:only-of-type {\n",
       "        vertical-align: middle;\n",
       "    }\n",
       "\n",
       "    .dataframe tbody tr th {\n",
       "        vertical-align: top;\n",
       "    }\n",
       "\n",
       "    .dataframe thead th {\n",
       "        text-align: right;\n",
       "    }\n",
       "</style>\n",
       "<table border=\"1\" class=\"dataframe\">\n",
       "  <thead>\n",
       "    <tr style=\"text-align: right;\">\n",
       "      <th></th>\n",
       "      <th>asylum</th>\n",
       "      <th>refugees</th>\n",
       "    </tr>\n",
       "  </thead>\n",
       "  <tbody>\n",
       "    <tr>\n",
       "      <th>95979</th>\n",
       "      <td>Dem. Rep. of the Congo</td>\n",
       "      <td>750.0</td>\n",
       "    </tr>\n",
       "  </tbody>\n",
       "</table>\n",
       "</div>"
      ],
      "text/plain": [
       "                       asylum  refugees\n",
       "95979  Dem. Rep. of the Congo     750.0"
      ]
     },
     "metadata": {},
     "output_type": "display_data"
    },
    {
     "data": {
      "text/html": [
       "<b>Uruguay ---             570</b>"
      ],
      "text/plain": [
       "<IPython.core.display.HTML object>"
      ]
     },
     "metadata": {},
     "output_type": "display_data"
    },
    {
     "data": {
      "text/html": [
       "<div>\n",
       "<style scoped>\n",
       "    .dataframe tbody tr th:only-of-type {\n",
       "        vertical-align: middle;\n",
       "    }\n",
       "\n",
       "    .dataframe tbody tr th {\n",
       "        vertical-align: top;\n",
       "    }\n",
       "\n",
       "    .dataframe thead th {\n",
       "        text-align: right;\n",
       "    }\n",
       "</style>\n",
       "<table border=\"1\" class=\"dataframe\">\n",
       "  <thead>\n",
       "    <tr style=\"text-align: right;\">\n",
       "      <th></th>\n",
       "      <th>asylum</th>\n",
       "      <th>refugees</th>\n",
       "    </tr>\n",
       "  </thead>\n",
       "  <tbody>\n",
       "    <tr>\n",
       "      <th>95958</th>\n",
       "      <td>Argentina</td>\n",
       "      <td>570.0</td>\n",
       "    </tr>\n",
       "  </tbody>\n",
       "</table>\n",
       "</div>"
      ],
      "text/plain": [
       "          asylum  refugees\n",
       "95958  Argentina     570.0"
      ]
     },
     "metadata": {},
     "output_type": "display_data"
    },
    {
     "data": {
      "text/html": [
       "<b>Greece ---             510</b>"
      ],
      "text/plain": [
       "<IPython.core.display.HTML object>"
      ]
     },
     "metadata": {},
     "output_type": "display_data"
    },
    {
     "data": {
      "text/html": [
       "<div>\n",
       "<style scoped>\n",
       "    .dataframe tbody tr th:only-of-type {\n",
       "        vertical-align: middle;\n",
       "    }\n",
       "\n",
       "    .dataframe tbody tr th {\n",
       "        vertical-align: top;\n",
       "    }\n",
       "\n",
       "    .dataframe thead th {\n",
       "        text-align: right;\n",
       "    }\n",
       "</style>\n",
       "<table border=\"1\" class=\"dataframe\">\n",
       "  <thead>\n",
       "    <tr style=\"text-align: right;\">\n",
       "      <th></th>\n",
       "      <th>asylum</th>\n",
       "      <th>refugees</th>\n",
       "    </tr>\n",
       "  </thead>\n",
       "  <tbody>\n",
       "    <tr>\n",
       "      <th>95988</th>\n",
       "      <td>Greece</td>\n",
       "      <td>510.0</td>\n",
       "    </tr>\n",
       "  </tbody>\n",
       "</table>\n",
       "</div>"
      ],
      "text/plain": [
       "       asylum  refugees\n",
       "95988  Greece     510.0"
      ]
     },
     "metadata": {},
     "output_type": "display_data"
    },
    {
     "data": {
      "text/html": [
       "<b>Albania ---             380</b>"
      ],
      "text/plain": [
       "<IPython.core.display.HTML object>"
      ]
     },
     "metadata": {},
     "output_type": "display_data"
    },
    {
     "data": {
      "text/html": [
       "<div>\n",
       "<style scoped>\n",
       "    .dataframe tbody tr th:only-of-type {\n",
       "        vertical-align: middle;\n",
       "    }\n",
       "\n",
       "    .dataframe tbody tr th {\n",
       "        vertical-align: top;\n",
       "    }\n",
       "\n",
       "    .dataframe thead th {\n",
       "        text-align: right;\n",
       "    }\n",
       "</style>\n",
       "<table border=\"1\" class=\"dataframe\">\n",
       "  <thead>\n",
       "    <tr style=\"text-align: right;\">\n",
       "      <th></th>\n",
       "      <th>asylum</th>\n",
       "      <th>refugees</th>\n",
       "    </tr>\n",
       "  </thead>\n",
       "  <tbody>\n",
       "    <tr>\n",
       "      <th>96027</th>\n",
       "      <td>Turkey</td>\n",
       "      <td>380.0</td>\n",
       "    </tr>\n",
       "  </tbody>\n",
       "</table>\n",
       "</div>"
      ],
      "text/plain": [
       "       asylum  refugees\n",
       "96027  Turkey     380.0"
      ]
     },
     "metadata": {},
     "output_type": "display_data"
    },
    {
     "data": {
      "text/html": [
       "<b>Lesotho ---             310</b>"
      ],
      "text/plain": [
       "<IPython.core.display.HTML object>"
      ]
     },
     "metadata": {},
     "output_type": "display_data"
    },
    {
     "data": {
      "text/html": [
       "<div>\n",
       "<style scoped>\n",
       "    .dataframe tbody tr th:only-of-type {\n",
       "        vertical-align: middle;\n",
       "    }\n",
       "\n",
       "    .dataframe tbody tr th {\n",
       "        vertical-align: top;\n",
       "    }\n",
       "\n",
       "    .dataframe thead th {\n",
       "        text-align: right;\n",
       "    }\n",
       "</style>\n",
       "<table border=\"1\" class=\"dataframe\">\n",
       "  <thead>\n",
       "    <tr style=\"text-align: right;\">\n",
       "      <th></th>\n",
       "      <th>asylum</th>\n",
       "      <th>refugees</th>\n",
       "    </tr>\n",
       "  </thead>\n",
       "  <tbody>\n",
       "    <tr>\n",
       "      <th>95963</th>\n",
       "      <td>Botswana</td>\n",
       "      <td>190.0</td>\n",
       "    </tr>\n",
       "    <tr>\n",
       "      <th>96054</th>\n",
       "      <td>Zambia</td>\n",
       "      <td>120.0</td>\n",
       "    </tr>\n",
       "  </tbody>\n",
       "</table>\n",
       "</div>"
      ],
      "text/plain": [
       "         asylum  refugees\n",
       "95963  Botswana     190.0\n",
       "96054    Zambia     120.0"
      ]
     },
     "metadata": {},
     "output_type": "display_data"
    },
    {
     "data": {
      "text/html": [
       "<b>Bulgaria ---             300</b>"
      ],
      "text/plain": [
       "<IPython.core.display.HTML object>"
      ]
     },
     "metadata": {},
     "output_type": "display_data"
    },
    {
     "data": {
      "text/html": [
       "<div>\n",
       "<style scoped>\n",
       "    .dataframe tbody tr th:only-of-type {\n",
       "        vertical-align: middle;\n",
       "    }\n",
       "\n",
       "    .dataframe tbody tr th {\n",
       "        vertical-align: top;\n",
       "    }\n",
       "\n",
       "    .dataframe thead th {\n",
       "        text-align: right;\n",
       "    }\n",
       "</style>\n",
       "<table border=\"1\" class=\"dataframe\">\n",
       "  <thead>\n",
       "    <tr style=\"text-align: right;\">\n",
       "      <th></th>\n",
       "      <th>asylum</th>\n",
       "      <th>refugees</th>\n",
       "    </tr>\n",
       "  </thead>\n",
       "  <tbody>\n",
       "    <tr>\n",
       "      <th>96028</th>\n",
       "      <td>Turkey</td>\n",
       "      <td>300.0</td>\n",
       "    </tr>\n",
       "  </tbody>\n",
       "</table>\n",
       "</div>"
      ],
      "text/plain": [
       "       asylum  refugees\n",
       "96028  Turkey     300.0"
      ]
     },
     "metadata": {},
     "output_type": "display_data"
    },
    {
     "data": {
      "text/html": [
       "<b>Spain ---             140</b>"
      ],
      "text/plain": [
       "<IPython.core.display.HTML object>"
      ]
     },
     "metadata": {},
     "output_type": "display_data"
    },
    {
     "data": {
      "text/html": [
       "<div>\n",
       "<style scoped>\n",
       "    .dataframe tbody tr th:only-of-type {\n",
       "        vertical-align: middle;\n",
       "    }\n",
       "\n",
       "    .dataframe tbody tr th {\n",
       "        vertical-align: top;\n",
       "    }\n",
       "\n",
       "    .dataframe thead th {\n",
       "        text-align: right;\n",
       "    }\n",
       "</style>\n",
       "<table border=\"1\" class=\"dataframe\">\n",
       "  <thead>\n",
       "    <tr style=\"text-align: right;\">\n",
       "      <th></th>\n",
       "      <th>asylum</th>\n",
       "      <th>refugees</th>\n",
       "    </tr>\n",
       "  </thead>\n",
       "  <tbody>\n",
       "    <tr>\n",
       "      <th>96004</th>\n",
       "      <td>Morocco</td>\n",
       "      <td>140.0</td>\n",
       "    </tr>\n",
       "  </tbody>\n",
       "</table>\n",
       "</div>"
      ],
      "text/plain": [
       "        asylum  refugees\n",
       "96004  Morocco     140.0"
      ]
     },
     "metadata": {},
     "output_type": "display_data"
    },
    {
     "data": {
      "text/html": [
       "<b>Hungary ---             140</b>"
      ],
      "text/plain": [
       "<IPython.core.display.HTML object>"
      ]
     },
     "metadata": {},
     "output_type": "display_data"
    },
    {
     "data": {
      "text/html": [
       "<div>\n",
       "<style scoped>\n",
       "    .dataframe tbody tr th:only-of-type {\n",
       "        vertical-align: middle;\n",
       "    }\n",
       "\n",
       "    .dataframe tbody tr th {\n",
       "        vertical-align: top;\n",
       "    }\n",
       "\n",
       "    .dataframe thead th {\n",
       "        text-align: right;\n",
       "    }\n",
       "</style>\n",
       "<table border=\"1\" class=\"dataframe\">\n",
       "  <thead>\n",
       "    <tr style=\"text-align: right;\">\n",
       "      <th></th>\n",
       "      <th>asylum</th>\n",
       "      <th>refugees</th>\n",
       "    </tr>\n",
       "  </thead>\n",
       "  <tbody>\n",
       "    <tr>\n",
       "      <th>96001</th>\n",
       "      <td>Morocco</td>\n",
       "      <td>70.0</td>\n",
       "    </tr>\n",
       "    <tr>\n",
       "      <th>96029</th>\n",
       "      <td>Turkey</td>\n",
       "      <td>70.0</td>\n",
       "    </tr>\n",
       "  </tbody>\n",
       "</table>\n",
       "</div>"
      ],
      "text/plain": [
       "        asylum  refugees\n",
       "96001  Morocco      70.0\n",
       "96029   Turkey      70.0"
      ]
     },
     "metadata": {},
     "output_type": "display_data"
    },
    {
     "data": {
      "text/html": [
       "<b>Serbia (and Kosovo: S/RES/1244 (1999)) ---             120</b>"
      ],
      "text/plain": [
       "<IPython.core.display.HTML object>"
      ]
     },
     "metadata": {},
     "output_type": "display_data"
    },
    {
     "data": {
      "text/html": [
       "<div>\n",
       "<style scoped>\n",
       "    .dataframe tbody tr th:only-of-type {\n",
       "        vertical-align: middle;\n",
       "    }\n",
       "\n",
       "    .dataframe tbody tr th {\n",
       "        vertical-align: top;\n",
       "    }\n",
       "\n",
       "    .dataframe thead th {\n",
       "        text-align: right;\n",
       "    }\n",
       "</style>\n",
       "<table border=\"1\" class=\"dataframe\">\n",
       "  <thead>\n",
       "    <tr style=\"text-align: right;\">\n",
       "      <th></th>\n",
       "      <th>asylum</th>\n",
       "      <th>refugees</th>\n",
       "    </tr>\n",
       "  </thead>\n",
       "  <tbody>\n",
       "    <tr>\n",
       "      <th>96031</th>\n",
       "      <td>Turkey</td>\n",
       "      <td>120.0</td>\n",
       "    </tr>\n",
       "  </tbody>\n",
       "</table>\n",
       "</div>"
      ],
      "text/plain": [
       "       asylum  refugees\n",
       "96031  Turkey     120.0"
      ]
     },
     "metadata": {},
     "output_type": "display_data"
    },
    {
     "data": {
      "text/html": [
       "<b>Somalia ---             110</b>"
      ],
      "text/plain": [
       "<IPython.core.display.HTML object>"
      ]
     },
     "metadata": {},
     "output_type": "display_data"
    },
    {
     "data": {
      "text/html": [
       "<div>\n",
       "<style scoped>\n",
       "    .dataframe tbody tr th:only-of-type {\n",
       "        vertical-align: middle;\n",
       "    }\n",
       "\n",
       "    .dataframe tbody tr th {\n",
       "        vertical-align: top;\n",
       "    }\n",
       "\n",
       "    .dataframe thead th {\n",
       "        text-align: right;\n",
       "    }\n",
       "</style>\n",
       "<table border=\"1\" class=\"dataframe\">\n",
       "  <thead>\n",
       "    <tr style=\"text-align: right;\">\n",
       "      <th></th>\n",
       "      <th>asylum</th>\n",
       "      <th>refugees</th>\n",
       "    </tr>\n",
       "  </thead>\n",
       "  <tbody>\n",
       "    <tr>\n",
       "      <th>96058</th>\n",
       "      <td>Zambia</td>\n",
       "      <td>110.0</td>\n",
       "    </tr>\n",
       "  </tbody>\n",
       "</table>\n",
       "</div>"
      ],
      "text/plain": [
       "       asylum  refugees\n",
       "96058  Zambia     110.0"
      ]
     },
     "metadata": {},
     "output_type": "display_data"
    },
    {
     "data": {
      "text/html": [
       "<b>Congo ---             110</b>"
      ],
      "text/plain": [
       "<IPython.core.display.HTML object>"
      ]
     },
     "metadata": {},
     "output_type": "display_data"
    },
    {
     "data": {
      "text/html": [
       "<div>\n",
       "<style scoped>\n",
       "    .dataframe tbody tr th:only-of-type {\n",
       "        vertical-align: middle;\n",
       "    }\n",
       "\n",
       "    .dataframe tbody tr th {\n",
       "        vertical-align: top;\n",
       "    }\n",
       "\n",
       "    .dataframe thead th {\n",
       "        text-align: right;\n",
       "    }\n",
       "</style>\n",
       "<table border=\"1\" class=\"dataframe\">\n",
       "  <thead>\n",
       "    <tr style=\"text-align: right;\">\n",
       "      <th></th>\n",
       "      <th>asylum</th>\n",
       "      <th>refugees</th>\n",
       "    </tr>\n",
       "  </thead>\n",
       "  <tbody>\n",
       "    <tr>\n",
       "      <th>96050</th>\n",
       "      <td>Zambia</td>\n",
       "      <td>110.0</td>\n",
       "    </tr>\n",
       "  </tbody>\n",
       "</table>\n",
       "</div>"
      ],
      "text/plain": [
       "       asylum  refugees\n",
       "96050  Zambia     110.0"
      ]
     },
     "metadata": {},
     "output_type": "display_data"
    },
    {
     "data": {
      "text/html": [
       "<b>Kenya ---              90</b>"
      ],
      "text/plain": [
       "<IPython.core.display.HTML object>"
      ]
     },
     "metadata": {},
     "output_type": "display_data"
    },
    {
     "data": {
      "text/html": [
       "<div>\n",
       "<style scoped>\n",
       "    .dataframe tbody tr th:only-of-type {\n",
       "        vertical-align: middle;\n",
       "    }\n",
       "\n",
       "    .dataframe tbody tr th {\n",
       "        vertical-align: top;\n",
       "    }\n",
       "\n",
       "    .dataframe thead th {\n",
       "        text-align: right;\n",
       "    }\n",
       "</style>\n",
       "<table border=\"1\" class=\"dataframe\">\n",
       "  <thead>\n",
       "    <tr style=\"text-align: right;\">\n",
       "      <th></th>\n",
       "      <th>asylum</th>\n",
       "      <th>refugees</th>\n",
       "    </tr>\n",
       "  </thead>\n",
       "  <tbody>\n",
       "    <tr>\n",
       "      <th>96053</th>\n",
       "      <td>Zambia</td>\n",
       "      <td>90.0</td>\n",
       "    </tr>\n",
       "  </tbody>\n",
       "</table>\n",
       "</div>"
      ],
      "text/plain": [
       "       asylum  refugees\n",
       "96053  Zambia      90.0"
      ]
     },
     "metadata": {},
     "output_type": "display_data"
    },
    {
     "data": {
      "text/html": [
       "<b>Bolivia (Plurinational State of) ---              90</b>"
      ],
      "text/plain": [
       "<IPython.core.display.HTML object>"
      ]
     },
     "metadata": {},
     "output_type": "display_data"
    },
    {
     "data": {
      "text/html": [
       "<div>\n",
       "<style scoped>\n",
       "    .dataframe tbody tr th:only-of-type {\n",
       "        vertical-align: middle;\n",
       "    }\n",
       "\n",
       "    .dataframe tbody tr th {\n",
       "        vertical-align: top;\n",
       "    }\n",
       "\n",
       "    .dataframe thead th {\n",
       "        text-align: right;\n",
       "    }\n",
       "</style>\n",
       "<table border=\"1\" class=\"dataframe\">\n",
       "  <thead>\n",
       "    <tr style=\"text-align: right;\">\n",
       "      <th></th>\n",
       "      <th>asylum</th>\n",
       "      <th>refugees</th>\n",
       "    </tr>\n",
       "  </thead>\n",
       "  <tbody>\n",
       "    <tr>\n",
       "      <th>95956</th>\n",
       "      <td>Argentina</td>\n",
       "      <td>90.0</td>\n",
       "    </tr>\n",
       "  </tbody>\n",
       "</table>\n",
       "</div>"
      ],
      "text/plain": [
       "          asylum  refugees\n",
       "95956  Argentina      90.0"
      ]
     },
     "metadata": {},
     "output_type": "display_data"
    },
    {
     "data": {
      "text/html": [
       "<b>Russian Federation ---              70</b>"
      ],
      "text/plain": [
       "<IPython.core.display.HTML object>"
      ]
     },
     "metadata": {},
     "output_type": "display_data"
    },
    {
     "data": {
      "text/html": [
       "<div>\n",
       "<style scoped>\n",
       "    .dataframe tbody tr th:only-of-type {\n",
       "        vertical-align: middle;\n",
       "    }\n",
       "\n",
       "    .dataframe tbody tr th {\n",
       "        vertical-align: top;\n",
       "    }\n",
       "\n",
       "    .dataframe thead th {\n",
       "        text-align: right;\n",
       "    }\n",
       "</style>\n",
       "<table border=\"1\" class=\"dataframe\">\n",
       "  <thead>\n",
       "    <tr style=\"text-align: right;\">\n",
       "      <th></th>\n",
       "      <th>asylum</th>\n",
       "      <th>refugees</th>\n",
       "    </tr>\n",
       "  </thead>\n",
       "  <tbody>\n",
       "    <tr>\n",
       "      <th>96003</th>\n",
       "      <td>Morocco</td>\n",
       "      <td>70.0</td>\n",
       "    </tr>\n",
       "  </tbody>\n",
       "</table>\n",
       "</div>"
      ],
      "text/plain": [
       "        asylum  refugees\n",
       "96003  Morocco      70.0"
      ]
     },
     "metadata": {},
     "output_type": "display_data"
    },
    {
     "data": {
      "text/html": [
       "<b>Romania ---              70</b>"
      ],
      "text/plain": [
       "<IPython.core.display.HTML object>"
      ]
     },
     "metadata": {},
     "output_type": "display_data"
    },
    {
     "data": {
      "text/html": [
       "<div>\n",
       "<style scoped>\n",
       "    .dataframe tbody tr th:only-of-type {\n",
       "        vertical-align: middle;\n",
       "    }\n",
       "\n",
       "    .dataframe tbody tr th {\n",
       "        vertical-align: top;\n",
       "    }\n",
       "\n",
       "    .dataframe thead th {\n",
       "        text-align: right;\n",
       "    }\n",
       "</style>\n",
       "<table border=\"1\" class=\"dataframe\">\n",
       "  <thead>\n",
       "    <tr style=\"text-align: right;\">\n",
       "      <th></th>\n",
       "      <th>asylum</th>\n",
       "      <th>refugees</th>\n",
       "    </tr>\n",
       "  </thead>\n",
       "  <tbody>\n",
       "    <tr>\n",
       "      <th>96030</th>\n",
       "      <td>Turkey</td>\n",
       "      <td>70.0</td>\n",
       "    </tr>\n",
       "  </tbody>\n",
       "</table>\n",
       "</div>"
      ],
      "text/plain": [
       "       asylum  refugees\n",
       "96030  Turkey      70.0"
      ]
     },
     "metadata": {},
     "output_type": "display_data"
    },
    {
     "data": {
      "text/html": [
       "<b>Poland ---              60</b>"
      ],
      "text/plain": [
       "<IPython.core.display.HTML object>"
      ]
     },
     "metadata": {},
     "output_type": "display_data"
    },
    {
     "data": {
      "text/html": [
       "<div>\n",
       "<style scoped>\n",
       "    .dataframe tbody tr th:only-of-type {\n",
       "        vertical-align: middle;\n",
       "    }\n",
       "\n",
       "    .dataframe tbody tr th {\n",
       "        vertical-align: top;\n",
       "    }\n",
       "\n",
       "    .dataframe thead th {\n",
       "        text-align: right;\n",
       "    }\n",
       "</style>\n",
       "<table border=\"1\" class=\"dataframe\">\n",
       "  <thead>\n",
       "    <tr style=\"text-align: right;\">\n",
       "      <th></th>\n",
       "      <th>asylum</th>\n",
       "      <th>refugees</th>\n",
       "    </tr>\n",
       "  </thead>\n",
       "  <tbody>\n",
       "    <tr>\n",
       "      <th>96002</th>\n",
       "      <td>Morocco</td>\n",
       "      <td>60.0</td>\n",
       "    </tr>\n",
       "  </tbody>\n",
       "</table>\n",
       "</div>"
      ],
      "text/plain": [
       "        asylum  refugees\n",
       "96002  Morocco      60.0"
      ]
     },
     "metadata": {},
     "output_type": "display_data"
    },
    {
     "data": {
      "text/html": [
       "<b>Czechia ---              50</b>"
      ],
      "text/plain": [
       "<IPython.core.display.HTML object>"
      ]
     },
     "metadata": {},
     "output_type": "display_data"
    },
    {
     "data": {
      "text/html": [
       "<div>\n",
       "<style scoped>\n",
       "    .dataframe tbody tr th:only-of-type {\n",
       "        vertical-align: middle;\n",
       "    }\n",
       "\n",
       "    .dataframe tbody tr th {\n",
       "        vertical-align: top;\n",
       "    }\n",
       "\n",
       "    .dataframe thead th {\n",
       "        text-align: right;\n",
       "    }\n",
       "</style>\n",
       "<table border=\"1\" class=\"dataframe\">\n",
       "  <thead>\n",
       "    <tr style=\"text-align: right;\">\n",
       "      <th></th>\n",
       "      <th>asylum</th>\n",
       "      <th>refugees</th>\n",
       "    </tr>\n",
       "  </thead>\n",
       "  <tbody>\n",
       "    <tr>\n",
       "      <th>96000</th>\n",
       "      <td>Morocco</td>\n",
       "      <td>50.0</td>\n",
       "    </tr>\n",
       "  </tbody>\n",
       "</table>\n",
       "</div>"
      ],
      "text/plain": [
       "        asylum  refugees\n",
       "96000  Morocco      50.0"
      ]
     },
     "metadata": {},
     "output_type": "display_data"
    }
   ],
   "source": [
    "display(HTML(\"<h1>1975 Refugees Origin Countries</h1> (sorted descending)\"))\n",
    "for x in origin_lst:\n",
    "    value = int(ref_df[(ref_df[\"Year\"] == 1975) & (ref_df[\"origin\"] == x)].groupby(\"origin\").sum()[\"refugees\"][0])\n",
    "    display(HTML(f\"<b>{x} --- {value:15,}</b>\"))\n",
    "    country_ref_df = ref_df[(ref_df[\"origin\"] == x) & (ref_df[\"Year\"] == 1975)]\\\n",
    "          .sort_values(\"refugees\", ascending=False)[[\"asylum\", \"refugees\"]]\n",
    "    display(country_ref_df)"
   ]
  }
 ],
 "metadata": {
  "kernelspec": {
   "display_name": "Python 3 (ipykernel)",
   "language": "python",
   "name": "python3"
  },
  "language_info": {
   "codemirror_mode": {
    "name": "ipython",
    "version": 3
   },
   "file_extension": ".py",
   "mimetype": "text/x-python",
   "name": "python",
   "nbconvert_exporter": "python",
   "pygments_lexer": "ipython3",
   "version": "3.8.11"
  }
 },
 "nbformat": 4,
 "nbformat_minor": 5
}
