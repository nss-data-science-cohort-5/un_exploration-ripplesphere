{
 "cells": [
  {
   "cell_type": "code",
   "execution_count": 1,
   "id": "bdd7d20f",
   "metadata": {},
   "outputs": [],
   "source": [
    "import pandas as pd\n",
    "import numpy as np\n",
    "import matplotlib.pyplot as plt\n",
    "import seaborn as sns\n",
    "\n",
    "%matplotlib inline"
   ]
  },
  {
   "cell_type": "code",
   "execution_count": 2,
   "id": "c13e9179",
   "metadata": {},
   "outputs": [],
   "source": [
    "gdp_df = pd.read_csv(\"../data/un_gdp.csv\")"
   ]
  },
  {
   "cell_type": "code",
   "execution_count": 3,
   "id": "7619fc6f",
   "metadata": {},
   "outputs": [
    {
     "data": {
      "text/html": [
       "<div>\n",
       "<style scoped>\n",
       "    .dataframe tbody tr th:only-of-type {\n",
       "        vertical-align: middle;\n",
       "    }\n",
       "\n",
       "    .dataframe tbody tr th {\n",
       "        vertical-align: top;\n",
       "    }\n",
       "\n",
       "    .dataframe thead th {\n",
       "        text-align: right;\n",
       "    }\n",
       "</style>\n",
       "<table border=\"1\" class=\"dataframe\">\n",
       "  <thead>\n",
       "    <tr style=\"text-align: right;\">\n",
       "      <th></th>\n",
       "      <th>Country or Area</th>\n",
       "      <th>Year</th>\n",
       "      <th>Value</th>\n",
       "      <th>Value Footnotes</th>\n",
       "    </tr>\n",
       "  </thead>\n",
       "  <tbody>\n",
       "    <tr>\n",
       "      <th>0</th>\n",
       "      <td>Afghanistan</td>\n",
       "      <td>2019</td>\n",
       "      <td>2065.036398</td>\n",
       "      <td>NaN</td>\n",
       "    </tr>\n",
       "    <tr>\n",
       "      <th>1</th>\n",
       "      <td>Afghanistan</td>\n",
       "      <td>2018</td>\n",
       "      <td>2033.779002</td>\n",
       "      <td>NaN</td>\n",
       "    </tr>\n",
       "    <tr>\n",
       "      <th>2</th>\n",
       "      <td>Afghanistan</td>\n",
       "      <td>2017</td>\n",
       "      <td>2058.383832</td>\n",
       "      <td>NaN</td>\n",
       "    </tr>\n",
       "    <tr>\n",
       "      <th>3</th>\n",
       "      <td>Afghanistan</td>\n",
       "      <td>2016</td>\n",
       "      <td>2057.062164</td>\n",
       "      <td>NaN</td>\n",
       "    </tr>\n",
       "    <tr>\n",
       "      <th>4</th>\n",
       "      <td>Afghanistan</td>\n",
       "      <td>2015</td>\n",
       "      <td>2068.265904</td>\n",
       "      <td>NaN</td>\n",
       "    </tr>\n",
       "    <tr>\n",
       "      <th>5</th>\n",
       "      <td>Afghanistan</td>\n",
       "      <td>2014</td>\n",
       "      <td>2102.385234</td>\n",
       "      <td>NaN</td>\n",
       "    </tr>\n",
       "    <tr>\n",
       "      <th>6</th>\n",
       "      <td>Afghanistan</td>\n",
       "      <td>2013</td>\n",
       "      <td>2116.465454</td>\n",
       "      <td>NaN</td>\n",
       "    </tr>\n",
       "    <tr>\n",
       "      <th>7</th>\n",
       "      <td>Afghanistan</td>\n",
       "      <td>2012</td>\n",
       "      <td>2075.491747</td>\n",
       "      <td>NaN</td>\n",
       "    </tr>\n",
       "    <tr>\n",
       "      <th>8</th>\n",
       "      <td>Afghanistan</td>\n",
       "      <td>2011</td>\n",
       "      <td>1904.559799</td>\n",
       "      <td>NaN</td>\n",
       "    </tr>\n",
       "    <tr>\n",
       "      <th>9</th>\n",
       "      <td>Afghanistan</td>\n",
       "      <td>2010</td>\n",
       "      <td>1957.029338</td>\n",
       "      <td>NaN</td>\n",
       "    </tr>\n",
       "  </tbody>\n",
       "</table>\n",
       "</div>"
      ],
      "text/plain": [
       "  Country or Area  Year        Value  Value Footnotes\n",
       "0     Afghanistan  2019  2065.036398              NaN\n",
       "1     Afghanistan  2018  2033.779002              NaN\n",
       "2     Afghanistan  2017  2058.383832              NaN\n",
       "3     Afghanistan  2016  2057.062164              NaN\n",
       "4     Afghanistan  2015  2068.265904              NaN\n",
       "5     Afghanistan  2014  2102.385234              NaN\n",
       "6     Afghanistan  2013  2116.465454              NaN\n",
       "7     Afghanistan  2012  2075.491747              NaN\n",
       "8     Afghanistan  2011  1904.559799              NaN\n",
       "9     Afghanistan  2010  1957.029338              NaN"
      ]
     },
     "execution_count": 3,
     "metadata": {},
     "output_type": "execute_result"
    }
   ],
   "source": [
    "gdp_df.head(10)"
   ]
  },
  {
   "cell_type": "code",
   "execution_count": 4,
   "id": "5263f81b",
   "metadata": {},
   "outputs": [
    {
     "data": {
      "text/html": [
       "<div>\n",
       "<style scoped>\n",
       "    .dataframe tbody tr th:only-of-type {\n",
       "        vertical-align: middle;\n",
       "    }\n",
       "\n",
       "    .dataframe tbody tr th {\n",
       "        vertical-align: top;\n",
       "    }\n",
       "\n",
       "    .dataframe thead th {\n",
       "        text-align: right;\n",
       "    }\n",
       "</style>\n",
       "<table border=\"1\" class=\"dataframe\">\n",
       "  <thead>\n",
       "    <tr style=\"text-align: right;\">\n",
       "      <th></th>\n",
       "      <th>Country or Area</th>\n",
       "      <th>Year</th>\n",
       "      <th>Value</th>\n",
       "      <th>Value Footnotes</th>\n",
       "    </tr>\n",
       "  </thead>\n",
       "  <tbody>\n",
       "    <tr>\n",
       "      <th>6865</th>\n",
       "      <td>Zimbabwe</td>\n",
       "      <td>1992</td>\n",
       "      <td>3054.889178</td>\n",
       "      <td>NaN</td>\n",
       "    </tr>\n",
       "    <tr>\n",
       "      <th>6866</th>\n",
       "      <td>Zimbabwe</td>\n",
       "      <td>1991</td>\n",
       "      <td>3426.598094</td>\n",
       "      <td>NaN</td>\n",
       "    </tr>\n",
       "    <tr>\n",
       "      <th>6867</th>\n",
       "      <td>Zimbabwe</td>\n",
       "      <td>1990</td>\n",
       "      <td>3324.348171</td>\n",
       "      <td>NaN</td>\n",
       "    </tr>\n",
       "    <tr>\n",
       "      <th>6868</th>\n",
       "      <td>footnoteSeqID</td>\n",
       "      <td>Footnote</td>\n",
       "      <td>NaN</td>\n",
       "      <td>NaN</td>\n",
       "    </tr>\n",
       "    <tr>\n",
       "      <th>6869</th>\n",
       "      <td>2</td>\n",
       "      <td>Excludes South Sudan after July 9, 2011.</td>\n",
       "      <td>NaN</td>\n",
       "      <td>NaN</td>\n",
       "    </tr>\n",
       "  </tbody>\n",
       "</table>\n",
       "</div>"
      ],
      "text/plain": [
       "     Country or Area                                      Year        Value  \\\n",
       "6865        Zimbabwe                                      1992  3054.889178   \n",
       "6866        Zimbabwe                                      1991  3426.598094   \n",
       "6867        Zimbabwe                                      1990  3324.348171   \n",
       "6868   footnoteSeqID                                  Footnote          NaN   \n",
       "6869               2  Excludes South Sudan after July 9, 2011.          NaN   \n",
       "\n",
       "      Value Footnotes  \n",
       "6865              NaN  \n",
       "6866              NaN  \n",
       "6867              NaN  \n",
       "6868              NaN  \n",
       "6869              NaN  "
      ]
     },
     "execution_count": 4,
     "metadata": {},
     "output_type": "execute_result"
    }
   ],
   "source": [
    "gdp_df.tail(5)"
   ]
  },
  {
   "cell_type": "code",
   "execution_count": 5,
   "id": "7b24b848",
   "metadata": {},
   "outputs": [],
   "source": [
    "gdp_df = pd.read_csv(\"../data/un_gdp.csv\", skipfooter=2, engine='python')"
   ]
  },
  {
   "cell_type": "code",
   "execution_count": 6,
   "id": "8c73e99f",
   "metadata": {},
   "outputs": [
    {
     "data": {
      "text/html": [
       "<div>\n",
       "<style scoped>\n",
       "    .dataframe tbody tr th:only-of-type {\n",
       "        vertical-align: middle;\n",
       "    }\n",
       "\n",
       "    .dataframe tbody tr th {\n",
       "        vertical-align: top;\n",
       "    }\n",
       "\n",
       "    .dataframe thead th {\n",
       "        text-align: right;\n",
       "    }\n",
       "</style>\n",
       "<table border=\"1\" class=\"dataframe\">\n",
       "  <thead>\n",
       "    <tr style=\"text-align: right;\">\n",
       "      <th></th>\n",
       "      <th>Country or Area</th>\n",
       "      <th>Year</th>\n",
       "      <th>Value</th>\n",
       "      <th>Value Footnotes</th>\n",
       "    </tr>\n",
       "  </thead>\n",
       "  <tbody>\n",
       "    <tr>\n",
       "      <th>6863</th>\n",
       "      <td>Zimbabwe</td>\n",
       "      <td>1994</td>\n",
       "      <td>3263.934978</td>\n",
       "      <td>NaN</td>\n",
       "    </tr>\n",
       "    <tr>\n",
       "      <th>6864</th>\n",
       "      <td>Zimbabwe</td>\n",
       "      <td>1993</td>\n",
       "      <td>3033.504852</td>\n",
       "      <td>NaN</td>\n",
       "    </tr>\n",
       "    <tr>\n",
       "      <th>6865</th>\n",
       "      <td>Zimbabwe</td>\n",
       "      <td>1992</td>\n",
       "      <td>3054.889178</td>\n",
       "      <td>NaN</td>\n",
       "    </tr>\n",
       "    <tr>\n",
       "      <th>6866</th>\n",
       "      <td>Zimbabwe</td>\n",
       "      <td>1991</td>\n",
       "      <td>3426.598094</td>\n",
       "      <td>NaN</td>\n",
       "    </tr>\n",
       "    <tr>\n",
       "      <th>6867</th>\n",
       "      <td>Zimbabwe</td>\n",
       "      <td>1990</td>\n",
       "      <td>3324.348171</td>\n",
       "      <td>NaN</td>\n",
       "    </tr>\n",
       "  </tbody>\n",
       "</table>\n",
       "</div>"
      ],
      "text/plain": [
       "     Country or Area  Year        Value  Value Footnotes\n",
       "6863        Zimbabwe  1994  3263.934978              NaN\n",
       "6864        Zimbabwe  1993  3033.504852              NaN\n",
       "6865        Zimbabwe  1992  3054.889178              NaN\n",
       "6866        Zimbabwe  1991  3426.598094              NaN\n",
       "6867        Zimbabwe  1990  3324.348171              NaN"
      ]
     },
     "execution_count": 6,
     "metadata": {},
     "output_type": "execute_result"
    }
   ],
   "source": [
    "gdp_df.tail(5)"
   ]
  },
  {
   "cell_type": "code",
   "execution_count": 7,
   "id": "5ce9bda3",
   "metadata": {},
   "outputs": [],
   "source": [
    "gdp_df = gdp_df.drop([\"Value Footnotes\"], axis=1)"
   ]
  },
  {
   "cell_type": "code",
   "execution_count": 8,
   "id": "9c21b7f6",
   "metadata": {},
   "outputs": [],
   "source": [
    "gdp_df = gdp_df.rename({\"Country or Area\": \"Country\", \"Value\": \"GDP_Per_Capita\"}, axis=\"columns\")"
   ]
  },
  {
   "cell_type": "code",
   "execution_count": 9,
   "id": "45588bef",
   "metadata": {},
   "outputs": [
    {
     "name": "stdout",
     "output_type": "stream",
     "text": [
      "gdp_df shape:  (6868, 3)\n",
      "Country            object\n",
      "Year                int64\n",
      "GDP_Per_Capita    float64\n",
      "dtype: object\n"
     ]
    }
   ],
   "source": [
    "print(\"gdp_df shape: \", gdp_df.shape)\n",
    "print(gdp_df.dtypes)"
   ]
  },
  {
   "cell_type": "code",
   "execution_count": 10,
   "id": "4a9f1d5e",
   "metadata": {},
   "outputs": [],
   "source": [
    "gdp_df['Year'] = pd.to_datetime(gdp_df['Year'], format='%Y')"
   ]
  },
  {
   "cell_type": "code",
   "execution_count": 11,
   "id": "6f1a0e4f",
   "metadata": {},
   "outputs": [
    {
     "data": {
      "text/plain": [
       "Country                   object\n",
       "Year              datetime64[ns]\n",
       "GDP_Per_Capita           float64\n",
       "dtype: object"
      ]
     },
     "execution_count": 11,
     "metadata": {},
     "output_type": "execute_result"
    }
   ],
   "source": [
    "gdp_df.dtypes"
   ]
  },
  {
   "cell_type": "code",
   "execution_count": 12,
   "id": "285b14eb",
   "metadata": {},
   "outputs": [
    {
     "data": {
      "text/html": [
       "<div>\n",
       "<style scoped>\n",
       "    .dataframe tbody tr th:only-of-type {\n",
       "        vertical-align: middle;\n",
       "    }\n",
       "\n",
       "    .dataframe tbody tr th {\n",
       "        vertical-align: top;\n",
       "    }\n",
       "\n",
       "    .dataframe thead th {\n",
       "        text-align: right;\n",
       "    }\n",
       "</style>\n",
       "<table border=\"1\" class=\"dataframe\">\n",
       "  <thead>\n",
       "    <tr style=\"text-align: right;\">\n",
       "      <th></th>\n",
       "      <th>Country</th>\n",
       "      <th>Year</th>\n",
       "      <th>GDP_Per_Capita</th>\n",
       "    </tr>\n",
       "  </thead>\n",
       "  <tbody>\n",
       "    <tr>\n",
       "      <th>0</th>\n",
       "      <td>Afghanistan</td>\n",
       "      <td>2019-01-01</td>\n",
       "      <td>2065.036398</td>\n",
       "    </tr>\n",
       "    <tr>\n",
       "      <th>1</th>\n",
       "      <td>Afghanistan</td>\n",
       "      <td>2018-01-01</td>\n",
       "      <td>2033.779002</td>\n",
       "    </tr>\n",
       "    <tr>\n",
       "      <th>2</th>\n",
       "      <td>Afghanistan</td>\n",
       "      <td>2017-01-01</td>\n",
       "      <td>2058.383832</td>\n",
       "    </tr>\n",
       "    <tr>\n",
       "      <th>3</th>\n",
       "      <td>Afghanistan</td>\n",
       "      <td>2016-01-01</td>\n",
       "      <td>2057.062164</td>\n",
       "    </tr>\n",
       "    <tr>\n",
       "      <th>4</th>\n",
       "      <td>Afghanistan</td>\n",
       "      <td>2015-01-01</td>\n",
       "      <td>2068.265904</td>\n",
       "    </tr>\n",
       "  </tbody>\n",
       "</table>\n",
       "</div>"
      ],
      "text/plain": [
       "       Country       Year  GDP_Per_Capita\n",
       "0  Afghanistan 2019-01-01     2065.036398\n",
       "1  Afghanistan 2018-01-01     2033.779002\n",
       "2  Afghanistan 2017-01-01     2058.383832\n",
       "3  Afghanistan 2016-01-01     2057.062164\n",
       "4  Afghanistan 2015-01-01     2068.265904"
      ]
     },
     "execution_count": 12,
     "metadata": {},
     "output_type": "execute_result"
    }
   ],
   "source": [
    "gdp_df.head()"
   ]
  },
  {
   "cell_type": "code",
   "execution_count": 13,
   "id": "36e51d9a",
   "metadata": {},
   "outputs": [
    {
     "data": {
      "text/plain": [
       "2017-01-01    238\n",
       "2016-01-01    238\n",
       "2015-01-01    238\n",
       "2014-01-01    238\n",
       "2013-01-01    238\n",
       "2012-01-01    237\n",
       "2011-01-01    237\n",
       "2018-01-01    237\n",
       "2010-01-01    236\n",
       "2009-01-01    236\n",
       "2008-01-01    235\n",
       "2007-01-01    235\n",
       "2006-01-01    235\n",
       "2005-01-01    234\n",
       "2004-01-01    234\n",
       "2003-01-01    233\n",
       "2002-01-01    233\n",
       "2001-01-01    232\n",
       "2000-01-01    231\n",
       "2019-01-01    231\n",
       "1999-01-01    224\n",
       "1998-01-01    223\n",
       "1997-01-01    223\n",
       "1996-01-01    221\n",
       "1995-01-01    221\n",
       "1994-01-01    214\n",
       "1993-01-01    212\n",
       "1992-01-01    209\n",
       "1991-01-01    208\n",
       "1990-01-01    207\n",
       "Name: Year, dtype: int64"
      ]
     },
     "execution_count": 13,
     "metadata": {},
     "output_type": "execute_result"
    }
   ],
   "source": [
    "gdp_df['Year'].value_counts() \n",
    "# Number of countries increases over the years."
   ]
  },
  {
   "cell_type": "code",
   "execution_count": 14,
   "id": "3948e5f7",
   "metadata": {},
   "outputs": [
    {
     "data": {
      "text/plain": [
       "Lebanon                      30\n",
       "Middle income                30\n",
       "Morocco                      30\n",
       "Mozambique                   30\n",
       "Myanmar                      30\n",
       "                             ..\n",
       "Nauru                        16\n",
       "Cayman Islands               13\n",
       "Sint Maarten (Dutch part)    10\n",
       "Turks and Caicos Islands      9\n",
       "Djibouti                      7\n",
       "Name: Country, Length: 238, dtype: int64"
      ]
     },
     "execution_count": 14,
     "metadata": {},
     "output_type": "execute_result"
    }
   ],
   "source": [
    "gdp_df['Country'].value_counts() \n",
    "# Number of countries increases over the years."
   ]
  },
  {
   "cell_type": "code",
   "execution_count": 67,
   "id": "44476e27",
   "metadata": {
    "scrolled": false
   },
   "outputs": [
    {
     "name": "stdout",
     "output_type": "stream",
     "text": [
      "Year added and country\n",
      "\t 1991 Hungary\n",
      "\t 1992 Slovak Republic\n",
      "\t 1993 Cambodia, Estonia, Small states\n",
      "\t 1994 Bosnia and Herzegovina, West Bank and Gaza\n",
      "\t 1995 Croatia, Kuwait, Latvia, Lithuania, Maldives, Moldova, Serbia\n",
      "\t 1997 Montenegro, San Marino\n",
      "\t 1999 Libya\n",
      "\t 2000 CuraÃ§ao, Kosovo, Liberia, Other small states, Palau, Qatar, Timor-Leste\n",
      "\t 2001 SÃ£o TomÃ© and Principe\n",
      "\t 2002 Afghanistan\n",
      "\t 2004 Nauru\n",
      "\t 2006 Cayman Islands\n",
      "\t 2009 Sint Maarten (Dutch part)\n",
      "\t 2011 Turks and Caicos Islands\n",
      "\t 2013 Djibouti\n"
     ]
    }
   ],
   "source": [
    "print(\"Year added and country\")\n",
    "for x in range(1990,2022):\n",
    "    tmp_merge = pd.merge(gdp_df[gdp_df['Year'] == str(x) + '-01-01'], \n",
    "                         gdp_df[gdp_df['Year'] == str(x + 1)  + '-01-01'], on='Country', how='right')\n",
    "    added_countries = tmp_merge[tmp_merge.GDP_Per_Capita_x.isnull()]['Country'].tolist()   \n",
    "    if (added_countries): print(\"\\t\", str(x+1), ', '.join(added_countries))"
   ]
  },
  {
   "cell_type": "code",
   "execution_count": 16,
   "id": "ea3d733f",
   "metadata": {},
   "outputs": [],
   "source": [
    "gdp_2014 = gdp_df[gdp_df['Year'] == '2014-01-01'].reset_index()"
   ]
  },
  {
   "cell_type": "code",
   "execution_count": 17,
   "id": "154962bf",
   "metadata": {},
   "outputs": [
    {
     "data": {
      "text/plain": [
       "count       238.000000\n",
       "mean      19766.710348\n",
       "std       20983.869623\n",
       "min         822.610458\n",
       "25%        4753.110934\n",
       "50%       12209.385755\n",
       "75%       26803.610474\n",
       "max      156514.133850\n",
       "Name: GDP_Per_Capita, dtype: float64"
      ]
     },
     "execution_count": 17,
     "metadata": {},
     "output_type": "execute_result"
    }
   ],
   "source": [
    "gdp_2014['GDP_Per_Capita'].describe()"
   ]
  },
  {
   "cell_type": "code",
   "execution_count": 18,
   "id": "3557dae8",
   "metadata": {
    "scrolled": true
   },
   "outputs": [
    {
     "data": {
      "text/plain": [
       "(array([52., 27., 14., 32., 21., 12.,  5., 11.,  9.,  4.,  6.,  6.,  4.,\n",
       "         5.,  4.,  6.,  4.,  3.,  3.,  2.,  3.,  0.,  0.,  0.,  1.,  0.,\n",
       "         0.,  1.,  0.,  0.,  1.,  0.,  0.,  0.,  1.,  0.,  0.,  0.,  0.,\n",
       "         0.,  0.,  0.,  0.,  0.,  0.,  0.,  0.,  0.,  0.,  1.]),\n",
       " array([   822.61045782,   3936.44092566,   7050.2713935 ,  10164.10186133,\n",
       "         13277.93232917,  16391.76279701,  19505.59326485,  22619.42373269,\n",
       "         25733.25420053,  28847.08466837,  31960.91513621,  35074.74560405,\n",
       "         38188.57607189,  41302.40653973,  44416.23700757,  47530.06747541,\n",
       "         50643.89794325,  53757.72841109,  56871.55887893,  59985.38934676,\n",
       "         63099.2198146 ,  66213.05028244,  69326.88075028,  72440.71121812,\n",
       "         75554.54168596,  78668.3721538 ,  81782.20262164,  84896.03308948,\n",
       "         88009.86355732,  91123.69402516,  94237.524493  ,  97351.35496084,\n",
       "        100465.18542868, 103579.01589652, 106692.84636435, 109806.67683219,\n",
       "        112920.50730003, 116034.33776787, 119148.16823571, 122261.99870355,\n",
       "        125375.82917139, 128489.65963923, 131603.49010707, 134717.32057491,\n",
       "        137831.15104275, 140944.98151059, 144058.81197843, 147172.64244627,\n",
       "        150286.47291411, 153400.30338194, 156514.13384978]),\n",
       " <BarContainer object of 50 artists>)"
      ]
     },
     "execution_count": 18,
     "metadata": {},
     "output_type": "execute_result"
    },
    {
     "data": {
      "image/png": "[encoded data removed]",
      "text/plain": [
       "<Figure size 432x288 with 1 Axes>"
      ]
     },
     "metadata": {
      "needs_background": "light"
     },
     "output_type": "display_data"
    }
   ],
   "source": [
    "plt.hist(gdp_2014['GDP_Per_Capita'], 50)\n",
    "# right skewed"
   ]
  },
  {
   "cell_type": "code",
   "execution_count": 19,
   "id": "0dfdd32f",
   "metadata": {},
   "outputs": [
    {
     "data": {
      "text/html": [
       "<div>\n",
       "<style scoped>\n",
       "    .dataframe tbody tr th:only-of-type {\n",
       "        vertical-align: middle;\n",
       "    }\n",
       "\n",
       "    .dataframe tbody tr th {\n",
       "        vertical-align: top;\n",
       "    }\n",
       "\n",
       "    .dataframe thead th {\n",
       "        text-align: right;\n",
       "    }\n",
       "</style>\n",
       "<table border=\"1\" class=\"dataframe\">\n",
       "  <thead>\n",
       "    <tr style=\"text-align: right;\">\n",
       "      <th></th>\n",
       "      <th>index</th>\n",
       "      <th>Country</th>\n",
       "      <th>Year</th>\n",
       "      <th>GDP_Per_Capita</th>\n",
       "    </tr>\n",
       "  </thead>\n",
       "  <tbody>\n",
       "    <tr>\n",
       "      <th>128</th>\n",
       "      <td>3721</td>\n",
       "      <td>Macao SAR, China</td>\n",
       "      <td>2014-01-01</td>\n",
       "      <td>156514.133850</td>\n",
       "    </tr>\n",
       "    <tr>\n",
       "      <th>127</th>\n",
       "      <td>3691</td>\n",
       "      <td>Luxembourg</td>\n",
       "      <td>2014-01-01</td>\n",
       "      <td>108760.916030</td>\n",
       "    </tr>\n",
       "    <tr>\n",
       "      <th>177</th>\n",
       "      <td>5138</td>\n",
       "      <td>Qatar</td>\n",
       "      <td>2014-01-01</td>\n",
       "      <td>95578.416973</td>\n",
       "    </tr>\n",
       "    <tr>\n",
       "      <th>189</th>\n",
       "      <td>5464</td>\n",
       "      <td>Singapore</td>\n",
       "      <td>2014-01-01</td>\n",
       "      <td>87808.663157</td>\n",
       "    </tr>\n",
       "    <tr>\n",
       "      <th>19</th>\n",
       "      <td>561</td>\n",
       "      <td>Bermuda</td>\n",
       "      <td>2014-01-01</td>\n",
       "      <td>77361.104881</td>\n",
       "    </tr>\n",
       "  </tbody>\n",
       "</table>\n",
       "</div>"
      ],
      "text/plain": [
       "     index           Country       Year  GDP_Per_Capita\n",
       "128   3721  Macao SAR, China 2014-01-01   156514.133850\n",
       "127   3691        Luxembourg 2014-01-01   108760.916030\n",
       "177   5138             Qatar 2014-01-01    95578.416973\n",
       "189   5464         Singapore 2014-01-01    87808.663157\n",
       "19     561           Bermuda 2014-01-01    77361.104881"
      ]
     },
     "execution_count": 19,
     "metadata": {},
     "output_type": "execute_result"
    }
   ],
   "source": [
    "gdp_2014.sort_values(by=\"GDP_Per_Capita\", ascending=False).head(5)\n",
    "# Top 5 countries by GDP in 2014"
   ]
  },
  {
   "cell_type": "code",
   "execution_count": 20,
   "id": "34acd171",
   "metadata": {},
   "outputs": [
    {
     "data": {
      "text/html": [
       "<div>\n",
       "<style scoped>\n",
       "    .dataframe tbody tr th:only-of-type {\n",
       "        vertical-align: middle;\n",
       "    }\n",
       "\n",
       "    .dataframe tbody tr th {\n",
       "        vertical-align: top;\n",
       "    }\n",
       "\n",
       "    .dataframe thead th {\n",
       "        text-align: right;\n",
       "    }\n",
       "</style>\n",
       "<table border=\"1\" class=\"dataframe\">\n",
       "  <thead>\n",
       "    <tr style=\"text-align: right;\">\n",
       "      <th></th>\n",
       "      <th>index</th>\n",
       "      <th>Country</th>\n",
       "      <th>Year</th>\n",
       "      <th>GDP_Per_Capita</th>\n",
       "    </tr>\n",
       "  </thead>\n",
       "  <tbody>\n",
       "    <tr>\n",
       "      <th>36</th>\n",
       "      <td>1047</td>\n",
       "      <td>Central African Republic</td>\n",
       "      <td>2014-01-01</td>\n",
       "      <td>822.610458</td>\n",
       "    </tr>\n",
       "    <tr>\n",
       "      <th>28</th>\n",
       "      <td>827</td>\n",
       "      <td>Burundi</td>\n",
       "      <td>2014-01-01</td>\n",
       "      <td>886.235777</td>\n",
       "    </tr>\n",
       "    <tr>\n",
       "      <th>130</th>\n",
       "      <td>3781</td>\n",
       "      <td>Malawi</td>\n",
       "      <td>2014-01-01</td>\n",
       "      <td>1027.208496</td>\n",
       "    </tr>\n",
       "    <tr>\n",
       "      <th>49</th>\n",
       "      <td>1422</td>\n",
       "      <td>Dem. Rep. Congo</td>\n",
       "      <td>2014-01-01</td>\n",
       "      <td>1029.790785</td>\n",
       "    </tr>\n",
       "    <tr>\n",
       "      <th>156</th>\n",
       "      <td>4528</td>\n",
       "      <td>Niger</td>\n",
       "      <td>2014-01-01</td>\n",
       "      <td>1127.615541</td>\n",
       "    </tr>\n",
       "  </tbody>\n",
       "</table>\n",
       "</div>"
      ],
      "text/plain": [
       "     index                   Country       Year  GDP_Per_Capita\n",
       "36    1047  Central African Republic 2014-01-01      822.610458\n",
       "28     827                   Burundi 2014-01-01      886.235777\n",
       "130   3781                    Malawi 2014-01-01     1027.208496\n",
       "49    1422           Dem. Rep. Congo 2014-01-01     1029.790785\n",
       "156   4528                     Niger 2014-01-01     1127.615541"
      ]
     },
     "execution_count": 20,
     "metadata": {},
     "output_type": "execute_result"
    }
   ],
   "source": [
    "gdp_2014.sort_values(by=\"GDP_Per_Capita\").head(5)\n",
    "# Bottom 5 countries by GDP in 2014"
   ]
  },
  {
   "cell_type": "code",
   "execution_count": 21,
   "id": "4ca5258a",
   "metadata": {},
   "outputs": [],
   "source": [
    "gdp_1990_2017 = gdp_df[(gdp_df['Year'] == '1990-01-01') | (gdp_df['Year'] == '2017-01-01')]\n",
    "gdp_pivoted = gdp_1990_2017.pivot(index='Country', columns='Year', values='GDP_Per_Capita').dropna()"
   ]
  },
  {
   "cell_type": "code",
   "execution_count": 22,
   "id": "a7f94eb7",
   "metadata": {
    "scrolled": true
   },
   "outputs": [],
   "source": [
    "gdp_pivoted['Percent_Change'] = 100 * (gdp_pivoted['2017-01-01'] - gdp_pivoted['1990-01-01']) / gdp_pivoted['1990-01-01']"
   ]
  },
  {
   "cell_type": "code",
   "execution_count": 23,
   "id": "53c2125a",
   "metadata": {},
   "outputs": [
    {
     "name": "stdout",
     "output_type": "stream",
     "text": [
      "Number of countries with negative growth from 1990 to 2017: 17\n"
     ]
    }
   ],
   "source": [
    "print(\"Number of countries with negative growth from 1990 to 2017:\", gdp_pivoted[gdp_pivoted['Percent_Change'] < 0].shape[0])"
   ]
  },
  {
   "cell_type": "code",
   "execution_count": 24,
   "id": "b1ed271d",
   "metadata": {},
   "outputs": [
    {
     "name": "stdout",
     "output_type": "stream",
     "text": [
      "Country with the highest growth rate from 1990 to 2017: Equatorial Guinea\n"
     ]
    }
   ],
   "source": [
    "print(\"Country with the highest growth rate from 1990 to 2017:\", \n",
    "      gdp_pivoted[gdp_pivoted['Percent_Change'] == gdp_pivoted['Percent_Change'].max()].index[0])"
   ]
  },
  {
   "cell_type": "code",
   "execution_count": 50,
   "id": "6207fa0a",
   "metadata": {},
   "outputs": [
    {
     "name": "stdout",
     "output_type": "stream",
     "text": [
      "Country with the second highest growth rate from 1990 to 2017: China\n"
     ]
    }
   ],
   "source": [
    "print(\"Country with the second highest growth rate from 1990 to 2017:\", \n",
    "      gdp_pivoted.sort_values(by='Percent_Change', ascending=False).iloc[1,:].name)"
   ]
  },
  {
   "cell_type": "code",
   "execution_count": 106,
   "id": "e63f0d6a",
   "metadata": {
    "scrolled": false
   },
   "outputs": [
    {
     "name": "stdout",
     "output_type": "stream",
     "text": [
      "\n"
     ]
    },
    {
     "data": {
      "image/png": "[encoded data removed]",
      "text/plain": [
       "<Figure size 648x216 with 1 Axes>"
      ]
     },
     "metadata": {
      "needs_background": "light"
     },
     "output_type": "display_data"
    }
   ],
   "source": [
    "plt.figure(figsize=(9, 3))\n",
    "\n",
    "plt.plot(gdp_df[gdp_df['Country'] == 'Equatorial Guinea']['Year'],\n",
    "         gdp_df[gdp_df['Country'] == 'Equatorial Guinea']['GDP_Per_Capita'],\n",
    "         label=\"Equatorial Guinea\")\n",
    "plt.plot(gdp_df[gdp_df['Country'] == 'China']['Year'],\n",
    "         gdp_df[gdp_df['Country'] == 'China']['GDP_Per_Capita'],\n",
    "         label=\"China\")\n",
    "\n",
    "ax = plt.gca()\n",
    "ax.legend()\n",
    "plt.title(\"First and Second Highest GDP Growth Rate 1990-2017\")\n",
    "print()\n",
    "\n",
    "# China has a smooth growth rate from 1990 to 2017 while Equatorial Guinea has a very sharp rise and \n",
    "#  then a decide but maintains the highest growth rate of any country."
   ]
  },
  {
   "cell_type": "code",
   "execution_count": 58,
   "id": "3e9d5c9e",
   "metadata": {},
   "outputs": [],
   "source": [
    "continents = pd.read_csv(\"../data/continents.csv\")"
   ]
  },
  {
   "cell_type": "code",
   "execution_count": 72,
   "id": "5da5ba67",
   "metadata": {},
   "outputs": [],
   "source": [
    "gdp_df = pd.merge(continents, gdp_df, on=\"Country\").dropna()"
   ]
  },
  {
   "cell_type": "code",
   "execution_count": 105,
   "id": "a7bebe11",
   "metadata": {},
   "outputs": [
    {
     "name": "stdout",
     "output_type": "stream",
     "text": [
      "\n"
     ]
    },
    {
     "data": {
      "image/png": "[encoded data removed]",
      "text/plain": [
       "<Figure size 432x288 with 1 Axes>"
      ]
     },
     "metadata": {
      "needs_background": "light"
     },
     "output_type": "display_data"
    }
   ],
   "source": [
    "plt.bar(sorted(gdp_df[\"Continent\"].unique()),\n",
    "        gdp_df[[\"Continent\", \"Country\"]].groupby(\"Continent\").nunique()[\"Country\"])\n",
    "plt.xticks(rotation=25)\n",
    "plt.title(\"Number of Countries per Continent\")\n",
    "print()"
   ]
  },
  {
   "cell_type": "code",
   "execution_count": 113,
   "id": "f3601072",
   "metadata": {},
   "outputs": [
    {
     "name": "stdout",
     "output_type": "stream",
     "text": [
      "\n"
     ]
    },
    {
     "data": {
      "image/png": "[encoded data removed]",
      "text/plain": [
       "<Figure size 432x288 with 1 Axes>"
      ]
     },
     "metadata": {
      "needs_background": "light"
     },
     "output_type": "display_data"
    }
   ],
   "source": [
    "# Create a seaborn boxplot showing GDP per capita in 2014 split out by continent.\n",
    "ax = sns.boxplot(x=\"Continent\", y=\"GDP_Per_Capita\", data=gdp_df[gdp_df['Year'] == '2014-01-01'])\n",
    "plt.xticks(rotation=25)\n",
    "print()\n",
    "# Asia hos three countries that are high outliers. Europe seems the best off overall with one high outlier.\n",
    "# Africa is the poorest continent with even the high outliers being within the norm of other continents. \n",
    "# North America is heavily skewed right with median GDP noticably below the mean. South America is the flatest of the\n",
    "# distributions with no outlies and all countries being relatively poor. Oceania is the second poorest continent\n",
    "# overall with a right skewed population and two high outlying countries, median is well below the mean. "
   ]
  },
  {
   "cell_type": "code",
   "execution_count": 121,
   "id": "f5d5d5db",
   "metadata": {
    "scrolled": true
   },
   "outputs": [
    {
     "name": "stderr",
     "output_type": "stream",
     "text": [
      "Skipping line 4675: ',' expected after '\"'. Error could possibly be due to parsing errors in the skipped footer rows (the skipfooter keyword is only applied after Python's csv library has parsed all rows).\n"
     ]
    }
   ],
   "source": [
    "internet_df = pd.read_csv(\"../data/un_internet.csv\", on_bad_lines='warn', skipfooter=180, engine='python')"
   ]
  },
  {
   "cell_type": "code",
   "execution_count": 123,
   "id": "1baa5cc2",
   "metadata": {},
   "outputs": [
    {
     "data": {
      "text/html": [
       "<div>\n",
       "<style scoped>\n",
       "    .dataframe tbody tr th:only-of-type {\n",
       "        vertical-align: middle;\n",
       "    }\n",
       "\n",
       "    .dataframe tbody tr th {\n",
       "        vertical-align: top;\n",
       "    }\n",
       "\n",
       "    .dataframe thead th {\n",
       "        text-align: right;\n",
       "    }\n",
       "</style>\n",
       "<table border=\"1\" class=\"dataframe\">\n",
       "  <thead>\n",
       "    <tr style=\"text-align: right;\">\n",
       "      <th></th>\n",
       "      <th>Country or Area</th>\n",
       "      <th>Year</th>\n",
       "      <th>Value</th>\n",
       "      <th>Value Footnotes</th>\n",
       "    </tr>\n",
       "  </thead>\n",
       "  <tbody>\n",
       "    <tr>\n",
       "      <th>0</th>\n",
       "      <td>Afghanistan</td>\n",
       "      <td>2014</td>\n",
       "      <td>6.390000</td>\n",
       "      <td>NaN</td>\n",
       "    </tr>\n",
       "    <tr>\n",
       "      <th>1</th>\n",
       "      <td>Afghanistan</td>\n",
       "      <td>2013</td>\n",
       "      <td>5.900000</td>\n",
       "      <td>NaN</td>\n",
       "    </tr>\n",
       "    <tr>\n",
       "      <th>2</th>\n",
       "      <td>Afghanistan</td>\n",
       "      <td>2012</td>\n",
       "      <td>5.454545</td>\n",
       "      <td>NaN</td>\n",
       "    </tr>\n",
       "    <tr>\n",
       "      <th>3</th>\n",
       "      <td>Afghanistan</td>\n",
       "      <td>2011</td>\n",
       "      <td>5.000000</td>\n",
       "      <td>NaN</td>\n",
       "    </tr>\n",
       "    <tr>\n",
       "      <th>4</th>\n",
       "      <td>Afghanistan</td>\n",
       "      <td>2010</td>\n",
       "      <td>4.000000</td>\n",
       "      <td>NaN</td>\n",
       "    </tr>\n",
       "  </tbody>\n",
       "</table>\n",
       "</div>"
      ],
      "text/plain": [
       "  Country or Area  Year     Value  Value Footnotes\n",
       "0     Afghanistan  2014  6.390000              NaN\n",
       "1     Afghanistan  2013  5.900000              NaN\n",
       "2     Afghanistan  2012  5.454545              NaN\n",
       "3     Afghanistan  2011  5.000000              NaN\n",
       "4     Afghanistan  2010  4.000000              NaN"
      ]
     },
     "execution_count": 123,
     "metadata": {},
     "output_type": "execute_result"
    }
   ],
   "source": [
    "internet_df.head(5)"
   ]
  },
  {
   "cell_type": "code",
   "execution_count": 124,
   "id": "ec2ad6c5",
   "metadata": {},
   "outputs": [
    {
     "data": {
      "text/html": [
       "<div>\n",
       "<style scoped>\n",
       "    .dataframe tbody tr th:only-of-type {\n",
       "        vertical-align: middle;\n",
       "    }\n",
       "\n",
       "    .dataframe tbody tr th {\n",
       "        vertical-align: top;\n",
       "    }\n",
       "\n",
       "    .dataframe thead th {\n",
       "        text-align: right;\n",
       "    }\n",
       "</style>\n",
       "<table border=\"1\" class=\"dataframe\">\n",
       "  <thead>\n",
       "    <tr style=\"text-align: right;\">\n",
       "      <th></th>\n",
       "      <th>Country or Area</th>\n",
       "      <th>Year</th>\n",
       "      <th>Value</th>\n",
       "      <th>Value Footnotes</th>\n",
       "    </tr>\n",
       "  </thead>\n",
       "  <tbody>\n",
       "    <tr>\n",
       "      <th>4490</th>\n",
       "      <td>Zimbabwe</td>\n",
       "      <td>1997</td>\n",
       "      <td>0.033080</td>\n",
       "      <td>NaN</td>\n",
       "    </tr>\n",
       "    <tr>\n",
       "      <th>4491</th>\n",
       "      <td>Zimbabwe</td>\n",
       "      <td>1996</td>\n",
       "      <td>0.016790</td>\n",
       "      <td>NaN</td>\n",
       "    </tr>\n",
       "    <tr>\n",
       "      <th>4492</th>\n",
       "      <td>Zimbabwe</td>\n",
       "      <td>1995</td>\n",
       "      <td>0.007684</td>\n",
       "      <td>NaN</td>\n",
       "    </tr>\n",
       "    <tr>\n",
       "      <th>4493</th>\n",
       "      <td>Zimbabwe</td>\n",
       "      <td>1994</td>\n",
       "      <td>0.001739</td>\n",
       "      <td>NaN</td>\n",
       "    </tr>\n",
       "    <tr>\n",
       "      <th>4494</th>\n",
       "      <td>Zimbabwe</td>\n",
       "      <td>1990</td>\n",
       "      <td>0.000000</td>\n",
       "      <td>NaN</td>\n",
       "    </tr>\n",
       "  </tbody>\n",
       "</table>\n",
       "</div>"
      ],
      "text/plain": [
       "     Country or Area  Year     Value  Value Footnotes\n",
       "4490        Zimbabwe  1997  0.033080              NaN\n",
       "4491        Zimbabwe  1996  0.016790              NaN\n",
       "4492        Zimbabwe  1995  0.007684              NaN\n",
       "4493        Zimbabwe  1994  0.001739              NaN\n",
       "4494        Zimbabwe  1990  0.000000              NaN"
      ]
     },
     "execution_count": 124,
     "metadata": {},
     "output_type": "execute_result"
    }
   ],
   "source": [
    "internet_df.tail(5)"
   ]
  },
  {
   "cell_type": "code",
   "execution_count": null,
   "id": "a3b832e1",
   "metadata": {},
   "outputs": [],
   "source": []
  }
 ],
 "metadata": {
  "kernelspec": {
   "display_name": "Python 3 (ipykernel)",
   "language": "python",
   "name": "python3"
  },
  "language_info": {
   "codemirror_mode": {
    "name": "ipython",
    "version": 3
   },
   "file_extension": ".py",
   "mimetype": "text/x-python",
   "name": "python",
   "nbconvert_exporter": "python",
   "pygments_lexer": "ipython3",
   "version": "3.8.11"
  }
 },
 "nbformat": 4,
 "nbformat_minor": 5
}
