{
 "cells": [
  {
   "cell_type": "code",
   "execution_count": 4,
   "id": "bdd7d20f",
   "metadata": {},
   "outputs": [],
   "source": [
    "import pandas as pd\n",
    "import numpy as np\n",
    "import matplotlib.pyplot as plt\n",
    "import seaborn as sns\n",
    "\n",
    "%matplotlib inline"
   ]
  },
  {
   "cell_type": "code",
   "execution_count": 5,
   "id": "c13e9179",
   "metadata": {},
   "outputs": [],
   "source": [
    "gdp_df = pd.read_csv(\"../data/un_gdp.csv\")"
   ]
  },
  {
   "cell_type": "code",
   "execution_count": 49,
   "id": "7619fc6f",
   "metadata": {},
   "outputs": [
    {
     "data": {
      "text/html": [
       "<div>\n",
       "<style scoped>\n",
       "    .dataframe tbody tr th:only-of-type {\n",
       "        vertical-align: middle;\n",
       "    }\n",
       "\n",
       "    .dataframe tbody tr th {\n",
       "        vertical-align: top;\n",
       "    }\n",
       "\n",
       "    .dataframe thead th {\n",
       "        text-align: right;\n",
       "    }\n",
       "</style>\n",
       "<table border=\"1\" class=\"dataframe\">\n",
       "  <thead>\n",
       "    <tr style=\"text-align: right;\">\n",
       "      <th></th>\n",
       "      <th>Continent</th>\n",
       "      <th>Country</th>\n",
       "      <th>Year</th>\n",
       "      <th>GDP_Per_Capita</th>\n",
       "    </tr>\n",
       "  </thead>\n",
       "  <tbody>\n",
       "    <tr>\n",
       "      <th>0</th>\n",
       "      <td>Asia</td>\n",
       "      <td>Afghanistan</td>\n",
       "      <td>2019-01-01 00:00:00</td>\n",
       "      <td>2065.036398</td>\n",
       "    </tr>\n",
       "    <tr>\n",
       "      <th>1</th>\n",
       "      <td>Asia</td>\n",
       "      <td>Afghanistan</td>\n",
       "      <td>2018-01-01 00:00:00</td>\n",
       "      <td>2033.779002</td>\n",
       "    </tr>\n",
       "    <tr>\n",
       "      <th>2</th>\n",
       "      <td>Asia</td>\n",
       "      <td>Afghanistan</td>\n",
       "      <td>2017-01-01 00:00:00</td>\n",
       "      <td>2058.383832</td>\n",
       "    </tr>\n",
       "    <tr>\n",
       "      <th>3</th>\n",
       "      <td>Asia</td>\n",
       "      <td>Afghanistan</td>\n",
       "      <td>2016-01-01 00:00:00</td>\n",
       "      <td>2057.062164</td>\n",
       "    </tr>\n",
       "    <tr>\n",
       "      <th>4</th>\n",
       "      <td>Asia</td>\n",
       "      <td>Afghanistan</td>\n",
       "      <td>2015-01-01 00:00:00</td>\n",
       "      <td>2068.265904</td>\n",
       "    </tr>\n",
       "    <tr>\n",
       "      <th>5</th>\n",
       "      <td>Asia</td>\n",
       "      <td>Afghanistan</td>\n",
       "      <td>2014-01-01 00:00:00</td>\n",
       "      <td>2102.385234</td>\n",
       "    </tr>\n",
       "    <tr>\n",
       "      <th>6</th>\n",
       "      <td>Asia</td>\n",
       "      <td>Afghanistan</td>\n",
       "      <td>2013-01-01 00:00:00</td>\n",
       "      <td>2116.465454</td>\n",
       "    </tr>\n",
       "    <tr>\n",
       "      <th>7</th>\n",
       "      <td>Asia</td>\n",
       "      <td>Afghanistan</td>\n",
       "      <td>2012-01-01 00:00:00</td>\n",
       "      <td>2075.491747</td>\n",
       "    </tr>\n",
       "    <tr>\n",
       "      <th>8</th>\n",
       "      <td>Asia</td>\n",
       "      <td>Afghanistan</td>\n",
       "      <td>2011-01-01 00:00:00</td>\n",
       "      <td>1904.559799</td>\n",
       "    </tr>\n",
       "    <tr>\n",
       "      <th>9</th>\n",
       "      <td>Asia</td>\n",
       "      <td>Afghanistan</td>\n",
       "      <td>2010-01-01 00:00:00</td>\n",
       "      <td>1957.029338</td>\n",
       "    </tr>\n",
       "  </tbody>\n",
       "</table>\n",
       "</div>"
      ],
      "text/plain": [
       "  Continent      Country                 Year GDP_Per_Capita\n",
       "0      Asia  Afghanistan  2019-01-01 00:00:00    2065.036398\n",
       "1      Asia  Afghanistan  2018-01-01 00:00:00    2033.779002\n",
       "2      Asia  Afghanistan  2017-01-01 00:00:00    2058.383832\n",
       "3      Asia  Afghanistan  2016-01-01 00:00:00    2057.062164\n",
       "4      Asia  Afghanistan  2015-01-01 00:00:00    2068.265904\n",
       "5      Asia  Afghanistan  2014-01-01 00:00:00    2102.385234\n",
       "6      Asia  Afghanistan  2013-01-01 00:00:00    2116.465454\n",
       "7      Asia  Afghanistan  2012-01-01 00:00:00    2075.491747\n",
       "8      Asia  Afghanistan  2011-01-01 00:00:00    1904.559799\n",
       "9      Asia  Afghanistan  2010-01-01 00:00:00    1957.029338"
      ]
     },
     "metadata": {},
     "output_type": "display_data"
    }
   ],
   "source": [
    "display(gdp_df.head(10))"
   ]
  },
  {
   "cell_type": "code",
   "execution_count": 50,
   "id": "3c53c8dc",
   "metadata": {},
   "outputs": [
    {
     "data": {
      "text/html": [
       "<div>\n",
       "<style scoped>\n",
       "    .dataframe tbody tr th:only-of-type {\n",
       "        vertical-align: middle;\n",
       "    }\n",
       "\n",
       "    .dataframe tbody tr th {\n",
       "        vertical-align: top;\n",
       "    }\n",
       "\n",
       "    .dataframe thead th {\n",
       "        text-align: right;\n",
       "    }\n",
       "</style>\n",
       "<table border=\"1\" class=\"dataframe\">\n",
       "  <thead>\n",
       "    <tr style=\"text-align: right;\">\n",
       "      <th></th>\n",
       "      <th>Continent</th>\n",
       "      <th>Country</th>\n",
       "      <th>Year</th>\n",
       "      <th>GDP_Per_Capita</th>\n",
       "    </tr>\n",
       "  </thead>\n",
       "  <tbody>\n",
       "    <tr>\n",
       "      <th>0</th>\n",
       "      <td>Asia</td>\n",
       "      <td>Afghanistan</td>\n",
       "      <td>2019-01-01 00:00:00</td>\n",
       "      <td>2065.036398</td>\n",
       "    </tr>\n",
       "    <tr>\n",
       "      <th>1</th>\n",
       "      <td>Asia</td>\n",
       "      <td>Afghanistan</td>\n",
       "      <td>2018-01-01 00:00:00</td>\n",
       "      <td>2033.779002</td>\n",
       "    </tr>\n",
       "    <tr>\n",
       "      <th>2</th>\n",
       "      <td>Asia</td>\n",
       "      <td>Afghanistan</td>\n",
       "      <td>2017-01-01 00:00:00</td>\n",
       "      <td>2058.383832</td>\n",
       "    </tr>\n",
       "    <tr>\n",
       "      <th>3</th>\n",
       "      <td>Asia</td>\n",
       "      <td>Afghanistan</td>\n",
       "      <td>2016-01-01 00:00:00</td>\n",
       "      <td>2057.062164</td>\n",
       "    </tr>\n",
       "    <tr>\n",
       "      <th>4</th>\n",
       "      <td>Asia</td>\n",
       "      <td>Afghanistan</td>\n",
       "      <td>2015-01-01 00:00:00</td>\n",
       "      <td>2068.265904</td>\n",
       "    </tr>\n",
       "    <tr>\n",
       "      <th>5</th>\n",
       "      <td>Asia</td>\n",
       "      <td>Afghanistan</td>\n",
       "      <td>2014-01-01 00:00:00</td>\n",
       "      <td>2102.385234</td>\n",
       "    </tr>\n",
       "    <tr>\n",
       "      <th>6</th>\n",
       "      <td>Asia</td>\n",
       "      <td>Afghanistan</td>\n",
       "      <td>2013-01-01 00:00:00</td>\n",
       "      <td>2116.465454</td>\n",
       "    </tr>\n",
       "    <tr>\n",
       "      <th>7</th>\n",
       "      <td>Asia</td>\n",
       "      <td>Afghanistan</td>\n",
       "      <td>2012-01-01 00:00:00</td>\n",
       "      <td>2075.491747</td>\n",
       "    </tr>\n",
       "    <tr>\n",
       "      <th>8</th>\n",
       "      <td>Asia</td>\n",
       "      <td>Afghanistan</td>\n",
       "      <td>2011-01-01 00:00:00</td>\n",
       "      <td>1904.559799</td>\n",
       "    </tr>\n",
       "    <tr>\n",
       "      <th>9</th>\n",
       "      <td>Asia</td>\n",
       "      <td>Afghanistan</td>\n",
       "      <td>2010-01-01 00:00:00</td>\n",
       "      <td>1957.029338</td>\n",
       "    </tr>\n",
       "  </tbody>\n",
       "</table>\n",
       "</div>"
      ],
      "text/plain": [
       "  Continent      Country                 Year GDP_Per_Capita\n",
       "0      Asia  Afghanistan  2019-01-01 00:00:00    2065.036398\n",
       "1      Asia  Afghanistan  2018-01-01 00:00:00    2033.779002\n",
       "2      Asia  Afghanistan  2017-01-01 00:00:00    2058.383832\n",
       "3      Asia  Afghanistan  2016-01-01 00:00:00    2057.062164\n",
       "4      Asia  Afghanistan  2015-01-01 00:00:00    2068.265904\n",
       "5      Asia  Afghanistan  2014-01-01 00:00:00    2102.385234\n",
       "6      Asia  Afghanistan  2013-01-01 00:00:00    2116.465454\n",
       "7      Asia  Afghanistan  2012-01-01 00:00:00    2075.491747\n",
       "8      Asia  Afghanistan  2011-01-01 00:00:00    1904.559799\n",
       "9      Asia  Afghanistan  2010-01-01 00:00:00    1957.029338"
      ]
     },
     "execution_count": 50,
     "metadata": {},
     "output_type": "execute_result"
    }
   ],
   "source": [
    "gdp_df.head(10)"
   ]
  },
  {
   "cell_type": "code",
   "execution_count": 8,
   "id": "5263f81b",
   "metadata": {},
   "outputs": [
    {
     "data": {
      "text/html": [
       "<div>\n",
       "<style scoped>\n",
       "    .dataframe tbody tr th:only-of-type {\n",
       "        vertical-align: middle;\n",
       "    }\n",
       "\n",
       "    .dataframe tbody tr th {\n",
       "        vertical-align: top;\n",
       "    }\n",
       "\n",
       "    .dataframe thead th {\n",
       "        text-align: right;\n",
       "    }\n",
       "</style>\n",
       "<table border=\"1\" class=\"dataframe\">\n",
       "  <thead>\n",
       "    <tr style=\"text-align: right;\">\n",
       "      <th></th>\n",
       "      <th>Country or Area</th>\n",
       "      <th>Year</th>\n",
       "      <th>Value</th>\n",
       "      <th>Value Footnotes</th>\n",
       "    </tr>\n",
       "  </thead>\n",
       "  <tbody>\n",
       "    <tr>\n",
       "      <th>6865</th>\n",
       "      <td>Zimbabwe</td>\n",
       "      <td>1992</td>\n",
       "      <td>3054.889178</td>\n",
       "      <td>NaN</td>\n",
       "    </tr>\n",
       "    <tr>\n",
       "      <th>6866</th>\n",
       "      <td>Zimbabwe</td>\n",
       "      <td>1991</td>\n",
       "      <td>3426.598094</td>\n",
       "      <td>NaN</td>\n",
       "    </tr>\n",
       "    <tr>\n",
       "      <th>6867</th>\n",
       "      <td>Zimbabwe</td>\n",
       "      <td>1990</td>\n",
       "      <td>3324.348171</td>\n",
       "      <td>NaN</td>\n",
       "    </tr>\n",
       "    <tr>\n",
       "      <th>6868</th>\n",
       "      <td>footnoteSeqID</td>\n",
       "      <td>Footnote</td>\n",
       "      <td>NaN</td>\n",
       "      <td>NaN</td>\n",
       "    </tr>\n",
       "    <tr>\n",
       "      <th>6869</th>\n",
       "      <td>2</td>\n",
       "      <td>Excludes South Sudan after July 9, 2011.</td>\n",
       "      <td>NaN</td>\n",
       "      <td>NaN</td>\n",
       "    </tr>\n",
       "  </tbody>\n",
       "</table>\n",
       "</div>"
      ],
      "text/plain": [
       "     Country or Area                                      Year        Value  \\\n",
       "6865        Zimbabwe                                      1992  3054.889178   \n",
       "6866        Zimbabwe                                      1991  3426.598094   \n",
       "6867        Zimbabwe                                      1990  3324.348171   \n",
       "6868   footnoteSeqID                                  Footnote          NaN   \n",
       "6869               2  Excludes South Sudan after July 9, 2011.          NaN   \n",
       "\n",
       "      Value Footnotes  \n",
       "6865              NaN  \n",
       "6866              NaN  \n",
       "6867              NaN  \n",
       "6868              NaN  \n",
       "6869              NaN  "
      ]
     },
     "execution_count": 8,
     "metadata": {},
     "output_type": "execute_result"
    }
   ],
   "source": [
    "gdp_df.tail(5)"
   ]
  },
  {
   "cell_type": "code",
   "execution_count": 62,
   "id": "7b24b848",
   "metadata": {},
   "outputs": [],
   "source": [
    "gdp_df = pd.read_csv(\"../data/un_gdp.csv\", skipfooter=2, engine='python')"
   ]
  },
  {
   "cell_type": "code",
   "execution_count": 10,
   "id": "8c73e99f",
   "metadata": {},
   "outputs": [
    {
     "data": {
      "text/html": [
       "<div>\n",
       "<style scoped>\n",
       "    .dataframe tbody tr th:only-of-type {\n",
       "        vertical-align: middle;\n",
       "    }\n",
       "\n",
       "    .dataframe tbody tr th {\n",
       "        vertical-align: top;\n",
       "    }\n",
       "\n",
       "    .dataframe thead th {\n",
       "        text-align: right;\n",
       "    }\n",
       "</style>\n",
       "<table border=\"1\" class=\"dataframe\">\n",
       "  <thead>\n",
       "    <tr style=\"text-align: right;\">\n",
       "      <th></th>\n",
       "      <th>Country or Area</th>\n",
       "      <th>Year</th>\n",
       "      <th>Value</th>\n",
       "      <th>Value Footnotes</th>\n",
       "    </tr>\n",
       "  </thead>\n",
       "  <tbody>\n",
       "    <tr>\n",
       "      <th>6863</th>\n",
       "      <td>Zimbabwe</td>\n",
       "      <td>1994</td>\n",
       "      <td>3263.934978</td>\n",
       "      <td>NaN</td>\n",
       "    </tr>\n",
       "    <tr>\n",
       "      <th>6864</th>\n",
       "      <td>Zimbabwe</td>\n",
       "      <td>1993</td>\n",
       "      <td>3033.504852</td>\n",
       "      <td>NaN</td>\n",
       "    </tr>\n",
       "    <tr>\n",
       "      <th>6865</th>\n",
       "      <td>Zimbabwe</td>\n",
       "      <td>1992</td>\n",
       "      <td>3054.889178</td>\n",
       "      <td>NaN</td>\n",
       "    </tr>\n",
       "    <tr>\n",
       "      <th>6866</th>\n",
       "      <td>Zimbabwe</td>\n",
       "      <td>1991</td>\n",
       "      <td>3426.598094</td>\n",
       "      <td>NaN</td>\n",
       "    </tr>\n",
       "    <tr>\n",
       "      <th>6867</th>\n",
       "      <td>Zimbabwe</td>\n",
       "      <td>1990</td>\n",
       "      <td>3324.348171</td>\n",
       "      <td>NaN</td>\n",
       "    </tr>\n",
       "  </tbody>\n",
       "</table>\n",
       "</div>"
      ],
      "text/plain": [
       "     Country or Area  Year        Value  Value Footnotes\n",
       "6863        Zimbabwe  1994  3263.934978              NaN\n",
       "6864        Zimbabwe  1993  3033.504852              NaN\n",
       "6865        Zimbabwe  1992  3054.889178              NaN\n",
       "6866        Zimbabwe  1991  3426.598094              NaN\n",
       "6867        Zimbabwe  1990  3324.348171              NaN"
      ]
     },
     "execution_count": 10,
     "metadata": {},
     "output_type": "execute_result"
    }
   ],
   "source": [
    "gdp_df.tail(5)"
   ]
  },
  {
   "cell_type": "code",
   "execution_count": 64,
   "id": "9c21b7f6",
   "metadata": {},
   "outputs": [],
   "source": [
    "gdp_df = gdp_df.drop([\"Value Footnotes\"], axis=1)\n",
    "gdp_df = gdp_df.rename({\"Country or Area\": \"Country\", \"Value\": \"GDP_Per_Capita\"}, axis=\"columns\")"
   ]
  },
  {
   "cell_type": "code",
   "execution_count": 12,
   "id": "45588bef",
   "metadata": {},
   "outputs": [
    {
     "name": "stdout",
     "output_type": "stream",
     "text": [
      "gdp_df shape:  (6868, 3)\n",
      "Country            object\n",
      "Year                int64\n",
      "GDP_Per_Capita    float64\n",
      "dtype: object\n"
     ]
    }
   ],
   "source": [
    "print(\"gdp_df shape: \", gdp_df.shape)\n",
    "print(gdp_df.dtypes)"
   ]
  },
  {
   "cell_type": "code",
   "execution_count": 13,
   "id": "4a9f1d5e",
   "metadata": {},
   "outputs": [],
   "source": [
    "gdp_df['Year'] = pd.to_datetime(gdp_df['Year'], format='%Y')"
   ]
  },
  {
   "cell_type": "code",
   "execution_count": 14,
   "id": "6f1a0e4f",
   "metadata": {},
   "outputs": [
    {
     "data": {
      "text/plain": [
       "Country                   object\n",
       "Year              datetime64[ns]\n",
       "GDP_Per_Capita           float64\n",
       "dtype: object"
      ]
     },
     "execution_count": 14,
     "metadata": {},
     "output_type": "execute_result"
    }
   ],
   "source": [
    "gdp_df.dtypes"
   ]
  },
  {
   "cell_type": "code",
   "execution_count": 15,
   "id": "285b14eb",
   "metadata": {},
   "outputs": [
    {
     "data": {
      "text/html": [
       "<div>\n",
       "<style scoped>\n",
       "    .dataframe tbody tr th:only-of-type {\n",
       "        vertical-align: middle;\n",
       "    }\n",
       "\n",
       "    .dataframe tbody tr th {\n",
       "        vertical-align: top;\n",
       "    }\n",
       "\n",
       "    .dataframe thead th {\n",
       "        text-align: right;\n",
       "    }\n",
       "</style>\n",
       "<table border=\"1\" class=\"dataframe\">\n",
       "  <thead>\n",
       "    <tr style=\"text-align: right;\">\n",
       "      <th></th>\n",
       "      <th>Country</th>\n",
       "      <th>Year</th>\n",
       "      <th>GDP_Per_Capita</th>\n",
       "    </tr>\n",
       "  </thead>\n",
       "  <tbody>\n",
       "    <tr>\n",
       "      <th>0</th>\n",
       "      <td>Afghanistan</td>\n",
       "      <td>2019-01-01</td>\n",
       "      <td>2065.036398</td>\n",
       "    </tr>\n",
       "    <tr>\n",
       "      <th>1</th>\n",
       "      <td>Afghanistan</td>\n",
       "      <td>2018-01-01</td>\n",
       "      <td>2033.779002</td>\n",
       "    </tr>\n",
       "    <tr>\n",
       "      <th>2</th>\n",
       "      <td>Afghanistan</td>\n",
       "      <td>2017-01-01</td>\n",
       "      <td>2058.383832</td>\n",
       "    </tr>\n",
       "    <tr>\n",
       "      <th>3</th>\n",
       "      <td>Afghanistan</td>\n",
       "      <td>2016-01-01</td>\n",
       "      <td>2057.062164</td>\n",
       "    </tr>\n",
       "    <tr>\n",
       "      <th>4</th>\n",
       "      <td>Afghanistan</td>\n",
       "      <td>2015-01-01</td>\n",
       "      <td>2068.265904</td>\n",
       "    </tr>\n",
       "  </tbody>\n",
       "</table>\n",
       "</div>"
      ],
      "text/plain": [
       "       Country       Year  GDP_Per_Capita\n",
       "0  Afghanistan 2019-01-01     2065.036398\n",
       "1  Afghanistan 2018-01-01     2033.779002\n",
       "2  Afghanistan 2017-01-01     2058.383832\n",
       "3  Afghanistan 2016-01-01     2057.062164\n",
       "4  Afghanistan 2015-01-01     2068.265904"
      ]
     },
     "execution_count": 15,
     "metadata": {},
     "output_type": "execute_result"
    }
   ],
   "source": [
    "gdp_df.head()"
   ]
  },
  {
   "cell_type": "code",
   "execution_count": 16,
   "id": "36e51d9a",
   "metadata": {},
   "outputs": [
    {
     "data": {
      "text/plain": [
       "2017-01-01    238\n",
       "2016-01-01    238\n",
       "2015-01-01    238\n",
       "2014-01-01    238\n",
       "2013-01-01    238\n",
       "2012-01-01    237\n",
       "2011-01-01    237\n",
       "2018-01-01    237\n",
       "2010-01-01    236\n",
       "2009-01-01    236\n",
       "2008-01-01    235\n",
       "2007-01-01    235\n",
       "2006-01-01    235\n",
       "2005-01-01    234\n",
       "2004-01-01    234\n",
       "2003-01-01    233\n",
       "2002-01-01    233\n",
       "2001-01-01    232\n",
       "2000-01-01    231\n",
       "2019-01-01    231\n",
       "1999-01-01    224\n",
       "1998-01-01    223\n",
       "1997-01-01    223\n",
       "1996-01-01    221\n",
       "1995-01-01    221\n",
       "1994-01-01    214\n",
       "1993-01-01    212\n",
       "1992-01-01    209\n",
       "1991-01-01    208\n",
       "1990-01-01    207\n",
       "Name: Year, dtype: int64"
      ]
     },
     "execution_count": 16,
     "metadata": {},
     "output_type": "execute_result"
    }
   ],
   "source": [
    "gdp_df['Year'].value_counts() \n",
    "# Number of countries increases over the years."
   ]
  },
  {
   "cell_type": "code",
   "execution_count": 17,
   "id": "3948e5f7",
   "metadata": {},
   "outputs": [
    {
     "data": {
      "text/plain": [
       "Lebanon                      30\n",
       "Middle income                30\n",
       "Morocco                      30\n",
       "Mozambique                   30\n",
       "Myanmar                      30\n",
       "                             ..\n",
       "Nauru                        16\n",
       "Cayman Islands               13\n",
       "Sint Maarten (Dutch part)    10\n",
       "Turks and Caicos Islands      9\n",
       "Djibouti                      7\n",
       "Name: Country, Length: 238, dtype: int64"
      ]
     },
     "execution_count": 17,
     "metadata": {},
     "output_type": "execute_result"
    }
   ],
   "source": [
    "gdp_df['Country'].value_counts() \n",
    "# Number of countries increases over the years."
   ]
  },
  {
   "cell_type": "code",
   "execution_count": 18,
   "id": "44476e27",
   "metadata": {
    "scrolled": false
   },
   "outputs": [
    {
     "name": "stdout",
     "output_type": "stream",
     "text": [
      "Year added and country\n",
      "\t 1991 Hungary\n",
      "\t 1992 Slovak Republic\n",
      "\t 1993 Cambodia, Estonia, Small states\n",
      "\t 1994 Bosnia and Herzegovina, West Bank and Gaza\n",
      "\t 1995 Croatia, Kuwait, Latvia, Lithuania, Maldives, Moldova, Serbia\n",
      "\t 1997 Montenegro, San Marino\n",
      "\t 1999 Libya\n",
      "\t 2000 CuraÃ§ao, Kosovo, Liberia, Other small states, Palau, Qatar, Timor-Leste\n",
      "\t 2001 SÃ£o TomÃ© and Principe\n",
      "\t 2002 Afghanistan\n",
      "\t 2004 Nauru\n",
      "\t 2006 Cayman Islands\n",
      "\t 2009 Sint Maarten (Dutch part)\n",
      "\t 2011 Turks and Caicos Islands\n",
      "\t 2013 Djibouti\n"
     ]
    }
   ],
   "source": [
    "print(\"Year added and country\")\n",
    "for x in range(1990,2022):\n",
    "    tmp_merge = pd.merge(gdp_df[gdp_df['Year'] == str(x) + '-01-01'], \n",
    "                         gdp_df[gdp_df['Year'] == str(x + 1)  + '-01-01'], on='Country', how='right')\n",
    "    added_countries = tmp_merge[tmp_merge.GDP_Per_Capita_x.isnull()]['Country'].tolist()   \n",
    "    if (added_countries): print(\"\\t\", str(x+1), ', '.join(added_countries))"
   ]
  },
  {
   "cell_type": "code",
   "execution_count": 19,
   "id": "ea3d733f",
   "metadata": {},
   "outputs": [],
   "source": [
    "gdp_2014 = gdp_df[gdp_df['Year'] == '2014-01-01'].reset_index()"
   ]
  },
  {
   "cell_type": "code",
   "execution_count": 20,
   "id": "154962bf",
   "metadata": {},
   "outputs": [
    {
     "data": {
      "text/plain": [
       "count       238.000000\n",
       "mean      19766.710348\n",
       "std       20983.869623\n",
       "min         822.610458\n",
       "25%        4753.110934\n",
       "50%       12209.385755\n",
       "75%       26803.610474\n",
       "max      156514.133850\n",
       "Name: GDP_Per_Capita, dtype: float64"
      ]
     },
     "execution_count": 20,
     "metadata": {},
     "output_type": "execute_result"
    }
   ],
   "source": [
    "gdp_2014['GDP_Per_Capita'].describe()"
   ]
  },
  {
   "cell_type": "code",
   "execution_count": 21,
   "id": "3557dae8",
   "metadata": {
    "scrolled": true
   },
   "outputs": [
    {
     "data": {
      "text/plain": [
       "(array([52., 27., 14., 32., 21., 12.,  5., 11.,  9.,  4.,  6.,  6.,  4.,\n",
       "         5.,  4.,  6.,  4.,  3.,  3.,  2.,  3.,  0.,  0.,  0.,  1.,  0.,\n",
       "         0.,  1.,  0.,  0.,  1.,  0.,  0.,  0.,  1.,  0.,  0.,  0.,  0.,\n",
       "         0.,  0.,  0.,  0.,  0.,  0.,  0.,  0.,  0.,  0.,  1.]),\n",
       " array([   822.61045782,   3936.44092566,   7050.2713935 ,  10164.10186133,\n",
       "         13277.93232917,  16391.76279701,  19505.59326485,  22619.42373269,\n",
       "         25733.25420053,  28847.08466837,  31960.91513621,  35074.74560405,\n",
       "         38188.57607189,  41302.40653973,  44416.23700757,  47530.06747541,\n",
       "         50643.89794325,  53757.72841109,  56871.55887893,  59985.38934676,\n",
       "         63099.2198146 ,  66213.05028244,  69326.88075028,  72440.71121812,\n",
       "         75554.54168596,  78668.3721538 ,  81782.20262164,  84896.03308948,\n",
       "         88009.86355732,  91123.69402516,  94237.524493  ,  97351.35496084,\n",
       "        100465.18542868, 103579.01589652, 106692.84636435, 109806.67683219,\n",
       "        112920.50730003, 116034.33776787, 119148.16823571, 122261.99870355,\n",
       "        125375.82917139, 128489.65963923, 131603.49010707, 134717.32057491,\n",
       "        137831.15104275, 140944.98151059, 144058.81197843, 147172.64244627,\n",
       "        150286.47291411, 153400.30338194, 156514.13384978]),\n",
       " <BarContainer object of 50 artists>)"
      ]
     },
     "execution_count": 21,
     "metadata": {},
     "output_type": "execute_result"
    },
    {
     "data": {
      "image/png": "[encoded data removed]",
      "text/plain": [
       "<Figure size 432x288 with 1 Axes>"
      ]
     },
     "metadata": {
      "needs_background": "light"
     },
     "output_type": "display_data"
    }
   ],
   "source": [
    "plt.hist(gdp_2014['GDP_Per_Capita'], 50)\n",
    "# right skewed"
   ]
  },
  {
   "cell_type": "code",
   "execution_count": 22,
   "id": "0dfdd32f",
   "metadata": {},
   "outputs": [
    {
     "data": {
      "text/html": [
       "<div>\n",
       "<style scoped>\n",
       "    .dataframe tbody tr th:only-of-type {\n",
       "        vertical-align: middle;\n",
       "    }\n",
       "\n",
       "    .dataframe tbody tr th {\n",
       "        vertical-align: top;\n",
       "    }\n",
       "\n",
       "    .dataframe thead th {\n",
       "        text-align: right;\n",
       "    }\n",
       "</style>\n",
       "<table border=\"1\" class=\"dataframe\">\n",
       "  <thead>\n",
       "    <tr style=\"text-align: right;\">\n",
       "      <th></th>\n",
       "      <th>index</th>\n",
       "      <th>Country</th>\n",
       "      <th>Year</th>\n",
       "      <th>GDP_Per_Capita</th>\n",
       "    </tr>\n",
       "  </thead>\n",
       "  <tbody>\n",
       "    <tr>\n",
       "      <th>128</th>\n",
       "      <td>3721</td>\n",
       "      <td>Macao SAR, China</td>\n",
       "      <td>2014-01-01</td>\n",
       "      <td>156514.133850</td>\n",
       "    </tr>\n",
       "    <tr>\n",
       "      <th>127</th>\n",
       "      <td>3691</td>\n",
       "      <td>Luxembourg</td>\n",
       "      <td>2014-01-01</td>\n",
       "      <td>108760.916030</td>\n",
       "    </tr>\n",
       "    <tr>\n",
       "      <th>177</th>\n",
       "      <td>5138</td>\n",
       "      <td>Qatar</td>\n",
       "      <td>2014-01-01</td>\n",
       "      <td>95578.416973</td>\n",
       "    </tr>\n",
       "    <tr>\n",
       "      <th>189</th>\n",
       "      <td>5464</td>\n",
       "      <td>Singapore</td>\n",
       "      <td>2014-01-01</td>\n",
       "      <td>87808.663157</td>\n",
       "    </tr>\n",
       "    <tr>\n",
       "      <th>19</th>\n",
       "      <td>561</td>\n",
       "      <td>Bermuda</td>\n",
       "      <td>2014-01-01</td>\n",
       "      <td>77361.104881</td>\n",
       "    </tr>\n",
       "  </tbody>\n",
       "</table>\n",
       "</div>"
      ],
      "text/plain": [
       "     index           Country       Year  GDP_Per_Capita\n",
       "128   3721  Macao SAR, China 2014-01-01   156514.133850\n",
       "127   3691        Luxembourg 2014-01-01   108760.916030\n",
       "177   5138             Qatar 2014-01-01    95578.416973\n",
       "189   5464         Singapore 2014-01-01    87808.663157\n",
       "19     561           Bermuda 2014-01-01    77361.104881"
      ]
     },
     "execution_count": 22,
     "metadata": {},
     "output_type": "execute_result"
    }
   ],
   "source": [
    "gdp_2014.sort_values(by=\"GDP_Per_Capita\", ascending=False).head(5)\n",
    "# Top 5 countries by GDP in 2014"
   ]
  },
  {
   "cell_type": "code",
   "execution_count": 23,
   "id": "34acd171",
   "metadata": {},
   "outputs": [
    {
     "data": {
      "text/html": [
       "<div>\n",
       "<style scoped>\n",
       "    .dataframe tbody tr th:only-of-type {\n",
       "        vertical-align: middle;\n",
       "    }\n",
       "\n",
       "    .dataframe tbody tr th {\n",
       "        vertical-align: top;\n",
       "    }\n",
       "\n",
       "    .dataframe thead th {\n",
       "        text-align: right;\n",
       "    }\n",
       "</style>\n",
       "<table border=\"1\" class=\"dataframe\">\n",
       "  <thead>\n",
       "    <tr style=\"text-align: right;\">\n",
       "      <th></th>\n",
       "      <th>index</th>\n",
       "      <th>Country</th>\n",
       "      <th>Year</th>\n",
       "      <th>GDP_Per_Capita</th>\n",
       "    </tr>\n",
       "  </thead>\n",
       "  <tbody>\n",
       "    <tr>\n",
       "      <th>36</th>\n",
       "      <td>1047</td>\n",
       "      <td>Central African Republic</td>\n",
       "      <td>2014-01-01</td>\n",
       "      <td>822.610458</td>\n",
       "    </tr>\n",
       "    <tr>\n",
       "      <th>28</th>\n",
       "      <td>827</td>\n",
       "      <td>Burundi</td>\n",
       "      <td>2014-01-01</td>\n",
       "      <td>886.235777</td>\n",
       "    </tr>\n",
       "    <tr>\n",
       "      <th>130</th>\n",
       "      <td>3781</td>\n",
       "      <td>Malawi</td>\n",
       "      <td>2014-01-01</td>\n",
       "      <td>1027.208496</td>\n",
       "    </tr>\n",
       "    <tr>\n",
       "      <th>49</th>\n",
       "      <td>1422</td>\n",
       "      <td>Dem. Rep. Congo</td>\n",
       "      <td>2014-01-01</td>\n",
       "      <td>1029.790785</td>\n",
       "    </tr>\n",
       "    <tr>\n",
       "      <th>156</th>\n",
       "      <td>4528</td>\n",
       "      <td>Niger</td>\n",
       "      <td>2014-01-01</td>\n",
       "      <td>1127.615541</td>\n",
       "    </tr>\n",
       "  </tbody>\n",
       "</table>\n",
       "</div>"
      ],
      "text/plain": [
       "     index                   Country       Year  GDP_Per_Capita\n",
       "36    1047  Central African Republic 2014-01-01      822.610458\n",
       "28     827                   Burundi 2014-01-01      886.235777\n",
       "130   3781                    Malawi 2014-01-01     1027.208496\n",
       "49    1422           Dem. Rep. Congo 2014-01-01     1029.790785\n",
       "156   4528                     Niger 2014-01-01     1127.615541"
      ]
     },
     "execution_count": 23,
     "metadata": {},
     "output_type": "execute_result"
    }
   ],
   "source": [
    "gdp_2014.sort_values(by=\"GDP_Per_Capita\").head(5)\n",
    "# Bottom 5 countries by GDP in 2014"
   ]
  },
  {
   "cell_type": "code",
   "execution_count": 24,
   "id": "4ca5258a",
   "metadata": {},
   "outputs": [],
   "source": [
    "gdp_1990_2017 = gdp_df[(gdp_df['Year'] == '1990-01-01') | (gdp_df['Year'] == '2017-01-01')]\n",
    "gdp_pivoted = gdp_1990_2017.pivot(index='Country', columns='Year', values='GDP_Per_Capita').dropna()"
   ]
  },
  {
   "cell_type": "code",
   "execution_count": 25,
   "id": "a7f94eb7",
   "metadata": {
    "scrolled": true
   },
   "outputs": [],
   "source": [
    "gdp_pivoted['Percent_Change'] = 100 * (gdp_pivoted['2017-01-01'] - gdp_pivoted['1990-01-01']) / gdp_pivoted['1990-01-01']"
   ]
  },
  {
   "cell_type": "code",
   "execution_count": 26,
   "id": "53c2125a",
   "metadata": {},
   "outputs": [
    {
     "name": "stdout",
     "output_type": "stream",
     "text": [
      "Number of countries with negative growth from 1990 to 2017: 17\n"
     ]
    }
   ],
   "source": [
    "print(\"Number of countries with negative growth from 1990 to 2017:\", gdp_pivoted[gdp_pivoted['Percent_Change'] < 0].shape[0])"
   ]
  },
  {
   "cell_type": "code",
   "execution_count": 27,
   "id": "b1ed271d",
   "metadata": {},
   "outputs": [
    {
     "name": "stdout",
     "output_type": "stream",
     "text": [
      "Country with the highest growth rate from 1990 to 2017: Equatorial Guinea\n"
     ]
    }
   ],
   "source": [
    "print(\"Country with the highest growth rate from 1990 to 2017:\", \n",
    "      gdp_pivoted[gdp_pivoted['Percent_Change'] == gdp_pivoted['Percent_Change'].max()].index[0])"
   ]
  },
  {
   "cell_type": "code",
   "execution_count": 28,
   "id": "6207fa0a",
   "metadata": {},
   "outputs": [
    {
     "name": "stdout",
     "output_type": "stream",
     "text": [
      "Country with the second highest growth rate from 1990 to 2017: China\n"
     ]
    }
   ],
   "source": [
    "print(\"Country with the second highest growth rate from 1990 to 2017:\", \n",
    "      gdp_pivoted.sort_values(by='Percent_Change', ascending=False).iloc[1,:].name)"
   ]
  },
  {
   "cell_type": "code",
   "execution_count": 29,
   "id": "e63f0d6a",
   "metadata": {
    "scrolled": false
   },
   "outputs": [
    {
     "name": "stdout",
     "output_type": "stream",
     "text": [
      "\n"
     ]
    },
    {
     "data": {
      "image/png": "[encoded data removed]",
      "text/plain": [
       "<Figure size 648x216 with 1 Axes>"
      ]
     },
     "metadata": {
      "needs_background": "light"
     },
     "output_type": "display_data"
    }
   ],
   "source": [
    "plt.figure(figsize=(9, 3))\n",
    "\n",
    "plt.plot(gdp_df[gdp_df['Country'] == 'Equatorial Guinea']['Year'],\n",
    "         gdp_df[gdp_df['Country'] == 'Equatorial Guinea']['GDP_Per_Capita'],\n",
    "         label=\"Equatorial Guinea\")\n",
    "plt.plot(gdp_df[gdp_df['Country'] == 'China']['Year'],\n",
    "         gdp_df[gdp_df['Country'] == 'China']['GDP_Per_Capita'],\n",
    "         label=\"China\")\n",
    "\n",
    "ax = plt.gca()\n",
    "ax.legend()\n",
    "plt.title(\"First and Second Highest GDP Growth Rate 1990-2017\")\n",
    "print()\n",
    "\n",
    "# China has a smooth growth rate from 1990 to 2017 while Equatorial Guinea has a very sharp rise and \n",
    "#  then a decide but maintains the highest growth rate of any country."
   ]
  },
  {
   "cell_type": "code",
   "execution_count": 30,
   "id": "3e9d5c9e",
   "metadata": {},
   "outputs": [],
   "source": [
    "continents = pd.read_csv(\"../data/continents.csv\")"
   ]
  },
  {
   "cell_type": "code",
   "execution_count": 31,
   "id": "5da5ba67",
   "metadata": {},
   "outputs": [],
   "source": [
    "gdp_df = pd.merge(continents, gdp_df, on=\"Country\").dropna()"
   ]
  },
  {
   "cell_type": "code",
   "execution_count": 32,
   "id": "a7bebe11",
   "metadata": {},
   "outputs": [
    {
     "name": "stdout",
     "output_type": "stream",
     "text": [
      "\n"
     ]
    },
    {
     "data": {
      "image/png": "[encoded data removed]",
      "text/plain": [
       "<Figure size 432x288 with 1 Axes>"
      ]
     },
     "metadata": {
      "needs_background": "light"
     },
     "output_type": "display_data"
    }
   ],
   "source": [
    "plt.bar(sorted(gdp_df[\"Continent\"].unique()),\n",
    "        gdp_df[[\"Continent\", \"Country\"]].groupby(\"Continent\").nunique()[\"Country\"])\n",
    "plt.xticks(rotation=25)\n",
    "plt.title(\"Number of Countries per Continent\")\n",
    "print()"
   ]
  },
  {
   "cell_type": "code",
   "execution_count": 33,
   "id": "f3601072",
   "metadata": {},
   "outputs": [
    {
     "name": "stdout",
     "output_type": "stream",
     "text": [
      "\n"
     ]
    },
    {
     "data": {
      "image/png": "[encoded data removed]",
      "text/plain": [
       "<Figure size 432x288 with 1 Axes>"
      ]
     },
     "metadata": {
      "needs_background": "light"
     },
     "output_type": "display_data"
    }
   ],
   "source": [
    "# Create a seaborn boxplot showing GDP per capita in 2014 split out by continent.\n",
    "ax = sns.boxplot(x=\"Continent\", y=\"GDP_Per_Capita\", data=gdp_df[gdp_df['Year'] == '2014-01-01'])\n",
    "plt.xticks(rotation=25)\n",
    "print()\n",
    "# Asia hos three countries that are high outliers. Europe seems the best off overall with one high outlier.\n",
    "# Africa is the poorest continent with even the high outliers being within the norm of other continents. \n",
    "# North America is heavily skewed right with median GDP noticably below the mean. South America is the flatest of the\n",
    "# distributions with no outlies and all countries being relatively poor. Oceania is the second poorest continent\n",
    "# overall with a right skewed population and two high outlying countries, median is well below the mean. "
   ]
  },
  {
   "cell_type": "code",
   "execution_count": 34,
   "id": "f5d5d5db",
   "metadata": {
    "scrolled": true
   },
   "outputs": [
    {
     "name": "stderr",
     "output_type": "stream",
     "text": [
      "Skipping line 4675: ',' expected after '\"'. Error could possibly be due to parsing errors in the skipped footer rows (the skipfooter keyword is only applied after Python's csv library has parsed all rows).\n"
     ]
    }
   ],
   "source": [
    "internet_df = pd.read_csv(\"../data/un_internet.csv\", on_bad_lines='warn', skipfooter=180, engine='python')"
   ]
  },
  {
   "cell_type": "code",
   "execution_count": 35,
   "id": "1baa5cc2",
   "metadata": {},
   "outputs": [
    {
     "data": {
      "text/html": [
       "<div>\n",
       "<style scoped>\n",
       "    .dataframe tbody tr th:only-of-type {\n",
       "        vertical-align: middle;\n",
       "    }\n",
       "\n",
       "    .dataframe tbody tr th {\n",
       "        vertical-align: top;\n",
       "    }\n",
       "\n",
       "    .dataframe thead th {\n",
       "        text-align: right;\n",
       "    }\n",
       "</style>\n",
       "<table border=\"1\" class=\"dataframe\">\n",
       "  <thead>\n",
       "    <tr style=\"text-align: right;\">\n",
       "      <th></th>\n",
       "      <th>Country or Area</th>\n",
       "      <th>Year</th>\n",
       "      <th>Value</th>\n",
       "      <th>Value Footnotes</th>\n",
       "    </tr>\n",
       "  </thead>\n",
       "  <tbody>\n",
       "    <tr>\n",
       "      <th>0</th>\n",
       "      <td>Afghanistan</td>\n",
       "      <td>2014</td>\n",
       "      <td>6.390000</td>\n",
       "      <td>NaN</td>\n",
       "    </tr>\n",
       "    <tr>\n",
       "      <th>1</th>\n",
       "      <td>Afghanistan</td>\n",
       "      <td>2013</td>\n",
       "      <td>5.900000</td>\n",
       "      <td>NaN</td>\n",
       "    </tr>\n",
       "    <tr>\n",
       "      <th>2</th>\n",
       "      <td>Afghanistan</td>\n",
       "      <td>2012</td>\n",
       "      <td>5.454545</td>\n",
       "      <td>NaN</td>\n",
       "    </tr>\n",
       "    <tr>\n",
       "      <th>3</th>\n",
       "      <td>Afghanistan</td>\n",
       "      <td>2011</td>\n",
       "      <td>5.000000</td>\n",
       "      <td>NaN</td>\n",
       "    </tr>\n",
       "    <tr>\n",
       "      <th>4</th>\n",
       "      <td>Afghanistan</td>\n",
       "      <td>2010</td>\n",
       "      <td>4.000000</td>\n",
       "      <td>NaN</td>\n",
       "    </tr>\n",
       "  </tbody>\n",
       "</table>\n",
       "</div>"
      ],
      "text/plain": [
       "  Country or Area  Year     Value  Value Footnotes\n",
       "0     Afghanistan  2014  6.390000              NaN\n",
       "1     Afghanistan  2013  5.900000              NaN\n",
       "2     Afghanistan  2012  5.454545              NaN\n",
       "3     Afghanistan  2011  5.000000              NaN\n",
       "4     Afghanistan  2010  4.000000              NaN"
      ]
     },
     "execution_count": 35,
     "metadata": {},
     "output_type": "execute_result"
    }
   ],
   "source": [
    "internet_df.head(5)"
   ]
  },
  {
   "cell_type": "code",
   "execution_count": 36,
   "id": "ec2ad6c5",
   "metadata": {},
   "outputs": [
    {
     "data": {
      "text/html": [
       "<div>\n",
       "<style scoped>\n",
       "    .dataframe tbody tr th:only-of-type {\n",
       "        vertical-align: middle;\n",
       "    }\n",
       "\n",
       "    .dataframe tbody tr th {\n",
       "        vertical-align: top;\n",
       "    }\n",
       "\n",
       "    .dataframe thead th {\n",
       "        text-align: right;\n",
       "    }\n",
       "</style>\n",
       "<table border=\"1\" class=\"dataframe\">\n",
       "  <thead>\n",
       "    <tr style=\"text-align: right;\">\n",
       "      <th></th>\n",
       "      <th>Country or Area</th>\n",
       "      <th>Year</th>\n",
       "      <th>Value</th>\n",
       "      <th>Value Footnotes</th>\n",
       "    </tr>\n",
       "  </thead>\n",
       "  <tbody>\n",
       "    <tr>\n",
       "      <th>4490</th>\n",
       "      <td>Zimbabwe</td>\n",
       "      <td>1997</td>\n",
       "      <td>0.033080</td>\n",
       "      <td>NaN</td>\n",
       "    </tr>\n",
       "    <tr>\n",
       "      <th>4491</th>\n",
       "      <td>Zimbabwe</td>\n",
       "      <td>1996</td>\n",
       "      <td>0.016790</td>\n",
       "      <td>NaN</td>\n",
       "    </tr>\n",
       "    <tr>\n",
       "      <th>4492</th>\n",
       "      <td>Zimbabwe</td>\n",
       "      <td>1995</td>\n",
       "      <td>0.007684</td>\n",
       "      <td>NaN</td>\n",
       "    </tr>\n",
       "    <tr>\n",
       "      <th>4493</th>\n",
       "      <td>Zimbabwe</td>\n",
       "      <td>1994</td>\n",
       "      <td>0.001739</td>\n",
       "      <td>NaN</td>\n",
       "    </tr>\n",
       "    <tr>\n",
       "      <th>4494</th>\n",
       "      <td>Zimbabwe</td>\n",
       "      <td>1990</td>\n",
       "      <td>0.000000</td>\n",
       "      <td>NaN</td>\n",
       "    </tr>\n",
       "  </tbody>\n",
       "</table>\n",
       "</div>"
      ],
      "text/plain": [
       "     Country or Area  Year     Value  Value Footnotes\n",
       "4490        Zimbabwe  1997  0.033080              NaN\n",
       "4491        Zimbabwe  1996  0.016790              NaN\n",
       "4492        Zimbabwe  1995  0.007684              NaN\n",
       "4493        Zimbabwe  1994  0.001739              NaN\n",
       "4494        Zimbabwe  1990  0.000000              NaN"
      ]
     },
     "execution_count": 36,
     "metadata": {},
     "output_type": "execute_result"
    }
   ],
   "source": [
    "internet_df.tail(5)"
   ]
  },
  {
   "cell_type": "code",
   "execution_count": 37,
   "id": "a3b832e1",
   "metadata": {},
   "outputs": [],
   "source": [
    "internet_df = internet_df.drop([\"Value Footnotes\"], axis=1)\n",
    "internet_df = internet_df.rename({\"Country or Area\": \"Country\", \"Value\": \"Internet_Users_Pct\"}, axis=\"columns\")"
   ]
  },
  {
   "cell_type": "code",
   "execution_count": 38,
   "id": "2bfda19e",
   "metadata": {},
   "outputs": [
    {
     "data": {
      "text/plain": [
       "(4495, 3)"
      ]
     },
     "execution_count": 38,
     "metadata": {},
     "output_type": "execute_result"
    }
   ],
   "source": [
    "internet_df.shape"
   ]
  },
  {
   "cell_type": "code",
   "execution_count": 39,
   "id": "3a1a2e35",
   "metadata": {
    "scrolled": true
   },
   "outputs": [
    {
     "data": {
      "text/plain": [
       "Country                object\n",
       "Year                    int64\n",
       "Internet_Users_Pct    float64\n",
       "dtype: object"
      ]
     },
     "execution_count": 39,
     "metadata": {},
     "output_type": "execute_result"
    }
   ],
   "source": [
    "internet_df.dtypes"
   ]
  },
  {
   "cell_type": "code",
   "execution_count": 40,
   "id": "81fb3fbb",
   "metadata": {},
   "outputs": [],
   "source": [
    "# internet_df['Year'] = pd.to_datetime(internet_df['Year'], format='%Y')"
   ]
  },
  {
   "cell_type": "code",
   "execution_count": 41,
   "id": "5777f663",
   "metadata": {},
   "outputs": [],
   "source": [
    "# What is the first year that has a nonzero internet users percentage reported? 1960"
   ]
  },
  {
   "cell_type": "code",
   "execution_count": 42,
   "id": "c6c31e61",
   "metadata": {
    "scrolled": true
   },
   "outputs": [
    {
     "data": {
      "text/plain": [
       "Text(0.5, 1.0, 'Mean Percent of Internet Users Worldwide')"
      ]
     },
     "execution_count": 42,
     "metadata": {},
     "output_type": "execute_result"
    },
    {
     "data": {
      "image/png": "[encoded data removed]",
      "text/plain": [
       "<Figure size 432x288 with 1 Axes>"
      ]
     },
     "metadata": {
      "needs_background": "light"
     },
     "output_type": "display_data"
    }
   ],
   "source": [
    "plt.plot(sorted(internet_df[\"Year\"].unique()), internet_df.groupby(\"Year\")[\"Internet_Users_Pct\"].mean())\n",
    "plt.ylabel('Percent Internet Users Worldwide')\n",
    "plt.title(\"Mean Percent of Internet Users Worldwide\")"
   ]
  },
  {
   "cell_type": "code",
   "execution_count": 43,
   "id": "46e605a3",
   "metadata": {},
   "outputs": [],
   "source": [
    "# Merge gdp_df and internet_df (on Country and Year) into a single DataFrame named gdp_and_internet_use. \n",
    "# Keep only countries and years that appear in both tables.\n",
    "# Difficult Bonus: Do not attempt this part until you have completed all other portions of the data question. \n",
    "#     Some countries have slightly different names in the internet use and gdp dataframes. \n",
    "#     For example, the Central African Republic is \"Central African Republic\" in the gdp dataframe and \"Central African Rep.\" \n",
    "#     in the internet use dataframe. Find as many instances like this \n",
    "#     as you can and resolve them so that when merging you keep the maximum number of countries possible."
   ]
  },
  {
   "cell_type": "code",
   "execution_count": 67,
   "id": "94905dfd",
   "metadata": {
    "scrolled": true
   },
   "outputs": [],
   "source": [
    "# set(gdp_df['Country']) - set(internet_df['Country'])\n",
    "# set(internet_df['Country']) - set(gdp_df['Country'])\n",
    "gdp_df[gdp_df['Country'] ==  'Cabo Verde'] =  'Cape Verde'\n",
    "gdp_df[gdp_df['Country'] ==  'Brunei'] =  'Brunei Darussalam'\n",
    "gdp_df[gdp_df['Country'] ==  'Central African Republic'] =  'Central African Rep.'\n",
    "gdp_df[gdp_df['Country'] ==  \"CÃ´te d'Ivoire\"] = \"Cote d'Ivoire\"\n",
    "gdp_df[gdp_df['Country'] ==  'Dem. Rep. Congo'] =  'Congo (Democratic Republic of the)'\n",
    "gdp_df[gdp_df['Country'] ==  'Dominican Republic'] =  'Dominican Rep.'\n",
    "gdp_df[gdp_df['Country'] ==  'Hong Kong SAR, China'] =  'Hong Kong, China'\n",
    "gdp_df[gdp_df['Country'] ==  'Iran'] =  'Iran (Islamic Rep. of)'\n",
    "gdp_df[gdp_df['Country'] ==  'Korea'] =  'Korea (Rep. of)'\n",
    "gdp_df[gdp_df['Country'] ==  'Kyrgyz Republic'] =  'Kyrgyzstan'\n",
    "gdp_df[gdp_df['Country'] ==  'Lao PDR'] =  'Lao P.D.R.'\n",
    "gdp_df[gdp_df['Country'] ==  'Macao SAR, China'] =  'Macao, China'\n",
    "gdp_df[gdp_df['Country'] ==  'Micronesia'] =  'Micronesia (Fed. States of)'\n",
    "gdp_df[gdp_df['Country'] ==  'North Macedonia'] =  'T.F.Y.R. Macedonia'\n",
    "gdp_df[gdp_df['Country'] ==  'St. Kitts and Nevis'] =  'Saint Kitts and Nevis'\n",
    "gdp_df[gdp_df['Country'] ==  'St. Lucia'] =  'Saint Lucia'\n",
    "gdp_df[gdp_df['Country'] ==  'SÃ£o TomÃ© and Principe'] =  'Sao Tome and Principe'\n",
    "gdp_df[gdp_df['Country'] ==  'The Bahamas'] =  'Bahamas'\n",
    "gdp_df[gdp_df['Country'] ==  'The Gambia'] =  'Gambia'\n",
    "gdp_df[gdp_df['Country'] ==  'Vietnam'] =  'Viet Nam'"
   ]
  },
  {
   "cell_type": "code",
   "execution_count": 68,
   "id": "8e69838d",
   "metadata": {
    "scrolled": true
   },
   "outputs": [],
   "source": [
    "# Merge gdp_df and internet_df (on Country and Year) into a single DataFrame named gdp_and_internet_use\n",
    "gdp_and_internet_use = pd.merge(gdp_df, internet_df, on=[\"Country\",\"Year\"]).dropna()"
   ]
  },
  {
   "cell_type": "code",
   "execution_count": 69,
   "id": "98dca327",
   "metadata": {
    "scrolled": true
   },
   "outputs": [
    {
     "name": "stdout",
     "output_type": "stream",
     "text": [
      "       Country  Year GDP_Per_Capita  Internet_Users_Pct\n",
      "0  Afghanistan  2014    2102.385234            6.390000\n",
      "1  Afghanistan  2013    2116.465454            5.900000\n",
      "2  Afghanistan  2012    2075.491747            5.454545\n",
      "3  Afghanistan  2011    1904.559799            5.000000\n",
      "4  Afghanistan  2010    1957.029338            4.000000\n",
      "       Country  Year GDP_Per_Capita  Internet_Users_Pct\n",
      "3453  Zimbabwe  1997    3580.048793            0.033080\n",
      "3454  Zimbabwe  1996    3520.430146            0.016790\n",
      "3455  Zimbabwe  1995     3226.41393            0.007684\n",
      "3456  Zimbabwe  1994    3263.934978            0.001739\n",
      "3457  Zimbabwe  1990    3324.348171            0.000000\n"
     ]
    }
   ],
   "source": [
    "print(gdp_and_internet_use.head(5))\n",
    "print(gdp_and_internet_use.tail(5))"
   ]
  },
  {
   "cell_type": "code",
   "execution_count": 72,
   "id": "a785d10d",
   "metadata": {},
   "outputs": [],
   "source": [
    "gdp_and_internet_use_2014 = gdp_and_internet_use[gdp_and_internet_use[\"Year\"] == 2014]"
   ]
  },
  {
   "cell_type": "code",
   "execution_count": 78,
   "id": "4e8036d3",
   "metadata": {},
   "outputs": [
    {
     "name": "stdout",
     "output_type": "stream",
     "text": [
      "Number of countries that have at least 90% internet users in 2014: 13\n"
     ]
    },
    {
     "name": "stderr",
     "output_type": "stream",
     "text": [
      "C:\\Users\\georg\\AppData\\Local\\Temp/ipykernel_8616/3168063058.py:3: UserWarning: Boolean Series key will be reindexed to match DataFrame index.\n",
      "  len(set(gdp_and_internet_use_2014[gdp_and_internet_use[\"Internet_Users_Pct\"] >= 90][\"Country\"])))\n"
     ]
    }
   ],
   "source": [
    "print(\"Number of countries that have at least 90% internet users in 2014:\",\n",
    "    len(set(gdp_and_internet_use_2014[gdp_and_internet_use[\"Internet_Users_Pct\"] >= 90][\"Country\"])))"
   ]
  },
  {
   "cell_type": "code",
   "execution_count": 94,
   "id": "411be8c7",
   "metadata": {},
   "outputs": [
    {
     "name": "stdout",
     "output_type": "stream",
     "text": [
      "Countries that had the top 3 largest GDP per capita figures for 2014:  Luxembourg, Qatar, Singapore\n"
     ]
    },
    {
     "data": {
      "text/html": [
       "<div>\n",
       "<style scoped>\n",
       "    .dataframe tbody tr th:only-of-type {\n",
       "        vertical-align: middle;\n",
       "    }\n",
       "\n",
       "    .dataframe tbody tr th {\n",
       "        vertical-align: top;\n",
       "    }\n",
       "\n",
       "    .dataframe thead th {\n",
       "        text-align: right;\n",
       "    }\n",
       "</style>\n",
       "<table border=\"1\" class=\"dataframe\">\n",
       "  <thead>\n",
       "    <tr style=\"text-align: right;\">\n",
       "      <th></th>\n",
       "      <th>Country</th>\n",
       "      <th>Year</th>\n",
       "      <th>GDP_Per_Capita</th>\n",
       "      <th>Internet_Users_Pct</th>\n",
       "    </tr>\n",
       "  </thead>\n",
       "  <tbody>\n",
       "    <tr>\n",
       "      <th>1798</th>\n",
       "      <td>Luxembourg</td>\n",
       "      <td>2014</td>\n",
       "      <td>108760.91603</td>\n",
       "      <td>94.670000</td>\n",
       "    </tr>\n",
       "    <tr>\n",
       "      <th>1799</th>\n",
       "      <td>Luxembourg</td>\n",
       "      <td>2013</td>\n",
       "      <td>106767.275005</td>\n",
       "      <td>93.776500</td>\n",
       "    </tr>\n",
       "    <tr>\n",
       "      <th>1800</th>\n",
       "      <td>Luxembourg</td>\n",
       "      <td>2012</td>\n",
       "      <td>105411.464571</td>\n",
       "      <td>91.949924</td>\n",
       "    </tr>\n",
       "    <tr>\n",
       "      <th>1801</th>\n",
       "      <td>Luxembourg</td>\n",
       "      <td>2011</td>\n",
       "      <td>108355.582583</td>\n",
       "      <td>90.029859</td>\n",
       "    </tr>\n",
       "    <tr>\n",
       "      <th>1802</th>\n",
       "      <td>Luxembourg</td>\n",
       "      <td>2010</td>\n",
       "      <td>108047.346867</td>\n",
       "      <td>90.620000</td>\n",
       "    </tr>\n",
       "    <tr>\n",
       "      <th>...</th>\n",
       "      <td>...</td>\n",
       "      <td>...</td>\n",
       "      <td>...</td>\n",
       "      <td>...</td>\n",
       "    </tr>\n",
       "    <tr>\n",
       "      <th>2771</th>\n",
       "      <td>Singapore</td>\n",
       "      <td>1994</td>\n",
       "      <td>46895.05301</td>\n",
       "      <td>1.185204</td>\n",
       "    </tr>\n",
       "    <tr>\n",
       "      <th>2772</th>\n",
       "      <td>Singapore</td>\n",
       "      <td>1993</td>\n",
       "      <td>43555.619036</td>\n",
       "      <td>0.763278</td>\n",
       "    </tr>\n",
       "    <tr>\n",
       "      <th>2773</th>\n",
       "      <td>Singapore</td>\n",
       "      <td>1992</td>\n",
       "      <td>40077.548794</td>\n",
       "      <td>0.471368</td>\n",
       "    </tr>\n",
       "    <tr>\n",
       "      <th>2774</th>\n",
       "      <td>Singapore</td>\n",
       "      <td>1991</td>\n",
       "      <td>38728.403909</td>\n",
       "      <td>0.161504</td>\n",
       "    </tr>\n",
       "    <tr>\n",
       "      <th>2775</th>\n",
       "      <td>Singapore</td>\n",
       "      <td>1990</td>\n",
       "      <td>37348.206786</td>\n",
       "      <td>0.000000</td>\n",
       "    </tr>\n",
       "  </tbody>\n",
       "</table>\n",
       "<p>64 rows × 4 columns</p>\n",
       "</div>"
      ],
      "text/plain": [
       "         Country  Year GDP_Per_Capita  Internet_Users_Pct\n",
       "1798  Luxembourg  2014   108760.91603           94.670000\n",
       "1799  Luxembourg  2013  106767.275005           93.776500\n",
       "1800  Luxembourg  2012  105411.464571           91.949924\n",
       "1801  Luxembourg  2011  108355.582583           90.029859\n",
       "1802  Luxembourg  2010  108047.346867           90.620000\n",
       "...          ...   ...            ...                 ...\n",
       "2771   Singapore  1994    46895.05301            1.185204\n",
       "2772   Singapore  1993   43555.619036            0.763278\n",
       "2773   Singapore  1992   40077.548794            0.471368\n",
       "2774   Singapore  1991   38728.403909            0.161504\n",
       "2775   Singapore  1990   37348.206786            0.000000\n",
       "\n",
       "[64 rows x 4 columns]"
      ]
     },
     "execution_count": 94,
     "metadata": {},
     "output_type": "execute_result"
    }
   ],
   "source": [
    "# Find the countries that had the top 3 largest GDP per capita figures for 2014. \n",
    "greatest_gdp = gdp_and_internet_use_2014.sort_values(by=\"GDP_Per_Capita\", ascending=False).head(3)[\"Country\"].tolist()\n",
    "print(\"Countries that had the top 3 largest GDP per capita figures for 2014: \", \", \".join(greatest_gdp))"
   ]
  },
  {
   "cell_type": "code",
   "execution_count": 97,
   "id": "7315c31a",
   "metadata": {
    "scrolled": true
   },
   "outputs": [
    {
     "data": {
      "text/plain": [
       "<seaborn.axisgrid.FacetGrid at 0x171b72c4730>"
      ]
     },
     "execution_count": 97,
     "metadata": {},
     "output_type": "execute_result"
    },
    {
     "data": {
      "image/png": "[encoded data removed]",
      "text/plain": [
       "<Figure size 648x216 with 3 Axes>"
      ]
     },
     "metadata": {
      "needs_background": "light"
     },
     "output_type": "display_data"
    }
   ],
   "source": [
    "#Create a seaborn FacetGrid showing the change in internet user percentage over time for these three countries. \n",
    "# Each individual figure in the facet grid will represent a single country. What trends do you notice?\n",
    "g = sns.FacetGrid(gdp_and_internet_use[gdp_and_internet_use[\"Country\"].isin(greatest_gdp)], \n",
    "                  col=\"Country\")\n",
    "g.map(sns.lineplot, \"Year\", \"Internet_Users_Pct\")\n",
    "# All three of these countries have a rapid and wide adoption of Internet use."
   ]
  },
  {
   "cell_type": "code",
   "execution_count": 101,
   "id": "e6b49110",
   "metadata": {
    "scrolled": true
   },
   "outputs": [
    {
     "data": {
      "text/plain": [
       "Text(0.5, 1.0, 'Internet Use vs GDP per Capita for the year 2014')"
      ]
     },
     "execution_count": 101,
     "metadata": {},
     "output_type": "execute_result"
    },
    {
     "data": {
      "image/png": "[encoded data removed]",
      "text/plain": [
       "<Figure size 432x288 with 1 Axes>"
      ]
     },
     "metadata": {
      "needs_background": "light"
     },
     "output_type": "display_data"
    }
   ],
   "source": [
    "# Create a scatter plot of Internet Use vs GDP per Capita for the year 2014. What do you notice?\n",
    "plt.scatter(gdp_and_internet_use_2014[\"Internet_Users_Pct\"], gdp_and_internet_use_2014[\"GDP_Per_Capita\"])\n",
    "plt.xlabel('Internet Use')\n",
    "plt.ylabel('GDP per Capita')\n",
    "plt.title(\"Internet Use vs GDP per Capita for the year 2014\")\n",
    "# Countries with a higher GDP tend to have a higher adoption of Internet use"
   ]
  },
  {
   "cell_type": "code",
   "execution_count": 109,
   "id": "e7c78a91",
   "metadata": {
    "scrolled": true
   },
   "outputs": [
    {
     "name": "stderr",
     "output_type": "stream",
     "text": [
      "C:\\Users\\georg\\AppData\\Local\\Temp/ipykernel_8616/3898434404.py:3: SettingWithCopyWarning: \n",
      "A value is trying to be set on a copy of a slice from a DataFrame.\n",
      "Try using .loc[row_indexer,col_indexer] = value instead\n",
      "\n",
      "See the caveats in the documentation: https://pandas.pydata.org/pandas-docs/stable/user_guide/indexing.html#returning-a-view-versus-a-copy\n",
      "  gdp_and_internet_use_2014[\"GDP_Per_Capita\"] = gdp_and_internet_use_2014[\"GDP_Per_Capita\"].astype(float)\n"
     ]
    },
    {
     "data": {
      "text/plain": [
       "0.8246267227541505"
      ]
     },
     "execution_count": 109,
     "metadata": {},
     "output_type": "execute_result"
    }
   ],
   "source": [
    "# Find the correlation between GDP per Capita and Internet Use for the year 2014. What is the meaning of this number?\n",
    "gdp_and_internet_use_2014[\"GDP_Per_Capita\"] = gdp_and_internet_use_2014[\"GDP_Per_Capita\"].astype(float)\n",
    "gdp_and_internet_use_2014[\"Internet_Users_Pct\"].corr(gdp_and_internet_use_2014[\"GDP_Per_Capita\"])\n",
    "# The correlation is positive and close to one. This means there is a strong, positive correlation between a country's\n",
    "# GDP per Capita and the percentage of the population who are using the Internet."
   ]
  },
  {
   "cell_type": "code",
   "execution_count": 111,
   "id": "bb6392d7",
   "metadata": {},
   "outputs": [
    {
     "name": "stderr",
     "output_type": "stream",
     "text": [
      "C:\\Users\\georg\\AppData\\Local\\Temp/ipykernel_8616/1649607527.py:4: SettingWithCopyWarning: \n",
      "A value is trying to be set on a copy of a slice from a DataFrame.\n",
      "Try using .loc[row_indexer,col_indexer] = value instead\n",
      "\n",
      "See the caveats in the documentation: https://pandas.pydata.org/pandas-docs/stable/user_guide/indexing.html#returning-a-view-versus-a-copy\n",
      "  gdp_and_internet_use_2014[\"log_GDP_Per_Capita\"] = np.log(gdp_and_internet_use_2014[\"GDP_Per_Capita\"])\n"
     ]
    },
    {
     "data": {
      "text/plain": [
       "0.903986635681392"
      ]
     },
     "execution_count": 111,
     "metadata": {},
     "output_type": "execute_result"
    }
   ],
   "source": [
    "# Add a column to gdp_and_internet_use_2014 and calculate the logarithm of GDP per capita. \n",
    "# Find the correlation between the log of GDP per capita and internet users percentage. \n",
    "# How does this compare to the calculation in the previous part?\n",
    "gdp_and_internet_use_2014[\"log_GDP_Per_Capita\"] = np.log(gdp_and_internet_use_2014[\"GDP_Per_Capita\"])\n",
    "gdp_and_internet_use_2014[\"Internet_Users_Pct\"].corr(gdp_and_internet_use_2014[\"log_GDP_Per_Capita\"])\n",
    "# The correlation between the percentage of Internet usage matches more closely to the log of the GDP per capita\n",
    "# than the raw numbers."
   ]
  },
  {
   "cell_type": "code",
   "execution_count": 114,
   "id": "b2a0c6bd",
   "metadata": {},
   "outputs": [
    {
     "data": {
      "text/plain": [
       "Country                object\n",
       "Year                   object\n",
       "GDP_Per_Capita         object\n",
       "Internet_Users_Pct    float64\n",
       "dtype: object"
      ]
     },
     "execution_count": 114,
     "metadata": {},
     "output_type": "execute_result"
    }
   ],
   "source": [
    "gdp_and_internet_use_us.dtypes"
   ]
  },
  {
   "cell_type": "code",
   "execution_count": 115,
   "id": "aab9776d",
   "metadata": {
    "scrolled": true
   },
   "outputs": [
    {
     "name": "stderr",
     "output_type": "stream",
     "text": [
      "C:\\Users\\georg\\AppData\\Local\\Temp/ipykernel_8616/1717727250.py:4: SettingWithCopyWarning: \n",
      "A value is trying to be set on a copy of a slice from a DataFrame.\n",
      "Try using .loc[row_indexer,col_indexer] = value instead\n",
      "\n",
      "See the caveats in the documentation: https://pandas.pydata.org/pandas-docs/stable/user_guide/indexing.html#returning-a-view-versus-a-copy\n",
      "  gdp_and_internet_use_us[\"GDP_Per_Capita\"] = gdp_and_internet_use_us[\"GDP_Per_Capita\"].astype(float)\n"
     ]
    },
    {
     "data": {
      "text/plain": [
       "0.9916600677832935"
      ]
     },
     "execution_count": 115,
     "metadata": {},
     "output_type": "execute_result"
    }
   ],
   "source": [
    "# Filter the original dataset down to just the United States for all available years. \n",
    "# Calculate correlation between internet use and gdp per capita. Is this meaningful or useful?\n",
    "gdp_and_internet_use_us = gdp_and_internet_use[gdp_and_internet_use[\"Country\"] == \"United States\"]\n",
    "gdp_and_internet_use_us[\"GDP_Per_Capita\"] = gdp_and_internet_use_us[\"GDP_Per_Capita\"].astype(float)\n",
    "gdp_and_internet_use_us[\"Internet_Users_Pct\"].corr(gdp_and_internet_use_us[\"GDP_Per_Capita\"])\n",
    "# The near 1.0 correlation between Internet usage and GDP per capita shows a very strong correlation\n",
    "# but this does not guarantee causation. "
   ]
  },
  {
   "cell_type": "code",
   "execution_count": 116,
   "id": "d69c14cd",
   "metadata": {
    "scrolled": true
   },
   "outputs": [
    {
     "data": {
      "text/plain": [
       "[<matplotlib.lines.Line2D at 0x171ba6c29a0>]"
      ]
     },
     "execution_count": 116,
     "metadata": {},
     "output_type": "execute_result"
    },
    {
     "data": {
      "image/png": "[encoded data removed]",
      "text/plain": [
       "<Figure size 432x288 with 1 Axes>"
      ]
     },
     "metadata": {
      "needs_background": "light"
     },
     "output_type": "display_data"
    }
   ],
   "source": [
    "plt.plot(gdp_and_internet_use_us[\"Internet_Users_Pct\"], gdp_and_internet_use_us[\"GDP_Per_Capita\"])"
   ]
  },
  {
   "cell_type": "code",
   "execution_count": 119,
   "id": "33604f72",
   "metadata": {
    "scrolled": true
   },
   "outputs": [
    {
     "data": {
      "text/plain": [
       "[<matplotlib.lines.Line2D at 0x171b91ecf70>]"
      ]
     },
     "execution_count": 119,
     "metadata": {},
     "output_type": "execute_result"
    },
    {
     "data": {
      "image/png": "[encoded data removed]",
      "text/plain": [
       "<Figure size 432x288 with 1 Axes>"
      ]
     },
     "metadata": {
      "needs_background": "light"
     },
     "output_type": "display_data"
    }
   ],
   "source": [
    "plt.plot(gdp_and_internet_use_us[\"Year\"], gdp_and_internet_use_us[\"Internet_Users_Pct\"])"
   ]
  },
  {
   "cell_type": "code",
   "execution_count": 118,
   "id": "7718f5d7",
   "metadata": {},
   "outputs": [
    {
     "data": {
      "text/plain": [
       "[<matplotlib.lines.Line2D at 0x171b9061c10>]"
      ]
     },
     "execution_count": 118,
     "metadata": {},
     "output_type": "execute_result"
    },
    {
     "data": {
      "image/png": "[encoded data removed]",
      "text/plain": [
       "<Figure size 432x288 with 1 Axes>"
      ]
     },
     "metadata": {
      "needs_background": "light"
     },
     "output_type": "display_data"
    }
   ],
   "source": [
    "plt.plot(gdp_and_internet_use_us[\"Year\"], gdp_and_internet_use_us[\"GDP_Per_Capita\"])"
   ]
  }
 ],
 "metadata": {
  "kernelspec": {
   "display_name": "Python 3",
   "language": "python",
   "name": "python3"
  },
  "language_info": {
   "codemirror_mode": {
    "name": "ipython",
    "version": 3
   },
   "file_extension": ".py",
   "mimetype": "text/x-python",
   "name": "python",
   "nbconvert_exporter": "python",
   "pygments_lexer": "ipython3",
   "version": "3.8.8"
  }
 },
 "nbformat": 4,
 "nbformat_minor": 5
}
