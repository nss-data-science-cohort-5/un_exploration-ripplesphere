{
 "cells": [
  {
   "cell_type": "code",
   "execution_count": 1,
   "id": "bdd7d20f",
   "metadata": {},
   "outputs": [],
   "source": [
    "import pandas as pd\n",
    "import numpy as np\n",
    "import matplotlib.pyplot as plt\n",
    "import seaborn as sns\n",
    "\n",
    "%matplotlib inline"
   ]
  },
  {
   "cell_type": "code",
   "execution_count": 62,
   "id": "c13e9179",
   "metadata": {},
   "outputs": [],
   "source": [
    "gdp_df = pd.read_csv(\"../data/un_gdp.csv\")"
   ]
  },
  {
   "cell_type": "code",
   "execution_count": 63,
   "id": "7619fc6f",
   "metadata": {},
   "outputs": [
    {
     "data": {
      "text/html": [
       "<div>\n",
       "<style scoped>\n",
       "    .dataframe tbody tr th:only-of-type {\n",
       "        vertical-align: middle;\n",
       "    }\n",
       "\n",
       "    .dataframe tbody tr th {\n",
       "        vertical-align: top;\n",
       "    }\n",
       "\n",
       "    .dataframe thead th {\n",
       "        text-align: right;\n",
       "    }\n",
       "</style>\n",
       "<table border=\"1\" class=\"dataframe\">\n",
       "  <thead>\n",
       "    <tr style=\"text-align: right;\">\n",
       "      <th></th>\n",
       "      <th>Country or Area</th>\n",
       "      <th>Year</th>\n",
       "      <th>Value</th>\n",
       "      <th>Value Footnotes</th>\n",
       "    </tr>\n",
       "  </thead>\n",
       "  <tbody>\n",
       "    <tr>\n",
       "      <th>0</th>\n",
       "      <td>Afghanistan</td>\n",
       "      <td>2019</td>\n",
       "      <td>2065.036398</td>\n",
       "      <td>NaN</td>\n",
       "    </tr>\n",
       "    <tr>\n",
       "      <th>1</th>\n",
       "      <td>Afghanistan</td>\n",
       "      <td>2018</td>\n",
       "      <td>2033.779002</td>\n",
       "      <td>NaN</td>\n",
       "    </tr>\n",
       "    <tr>\n",
       "      <th>2</th>\n",
       "      <td>Afghanistan</td>\n",
       "      <td>2017</td>\n",
       "      <td>2058.383832</td>\n",
       "      <td>NaN</td>\n",
       "    </tr>\n",
       "    <tr>\n",
       "      <th>3</th>\n",
       "      <td>Afghanistan</td>\n",
       "      <td>2016</td>\n",
       "      <td>2057.062164</td>\n",
       "      <td>NaN</td>\n",
       "    </tr>\n",
       "    <tr>\n",
       "      <th>4</th>\n",
       "      <td>Afghanistan</td>\n",
       "      <td>2015</td>\n",
       "      <td>2068.265904</td>\n",
       "      <td>NaN</td>\n",
       "    </tr>\n",
       "    <tr>\n",
       "      <th>5</th>\n",
       "      <td>Afghanistan</td>\n",
       "      <td>2014</td>\n",
       "      <td>2102.385234</td>\n",
       "      <td>NaN</td>\n",
       "    </tr>\n",
       "    <tr>\n",
       "      <th>6</th>\n",
       "      <td>Afghanistan</td>\n",
       "      <td>2013</td>\n",
       "      <td>2116.465454</td>\n",
       "      <td>NaN</td>\n",
       "    </tr>\n",
       "    <tr>\n",
       "      <th>7</th>\n",
       "      <td>Afghanistan</td>\n",
       "      <td>2012</td>\n",
       "      <td>2075.491747</td>\n",
       "      <td>NaN</td>\n",
       "    </tr>\n",
       "    <tr>\n",
       "      <th>8</th>\n",
       "      <td>Afghanistan</td>\n",
       "      <td>2011</td>\n",
       "      <td>1904.559799</td>\n",
       "      <td>NaN</td>\n",
       "    </tr>\n",
       "    <tr>\n",
       "      <th>9</th>\n",
       "      <td>Afghanistan</td>\n",
       "      <td>2010</td>\n",
       "      <td>1957.029338</td>\n",
       "      <td>NaN</td>\n",
       "    </tr>\n",
       "  </tbody>\n",
       "</table>\n",
       "</div>"
      ],
      "text/plain": [
       "  Country or Area  Year        Value  Value Footnotes\n",
       "0     Afghanistan  2019  2065.036398              NaN\n",
       "1     Afghanistan  2018  2033.779002              NaN\n",
       "2     Afghanistan  2017  2058.383832              NaN\n",
       "3     Afghanistan  2016  2057.062164              NaN\n",
       "4     Afghanistan  2015  2068.265904              NaN\n",
       "5     Afghanistan  2014  2102.385234              NaN\n",
       "6     Afghanistan  2013  2116.465454              NaN\n",
       "7     Afghanistan  2012  2075.491747              NaN\n",
       "8     Afghanistan  2011  1904.559799              NaN\n",
       "9     Afghanistan  2010  1957.029338              NaN"
      ]
     },
     "execution_count": 63,
     "metadata": {},
     "output_type": "execute_result"
    }
   ],
   "source": [
    "gdp_df.head(10)"
   ]
  },
  {
   "cell_type": "code",
   "execution_count": 64,
   "id": "5263f81b",
   "metadata": {},
   "outputs": [
    {
     "data": {
      "text/html": [
       "<div>\n",
       "<style scoped>\n",
       "    .dataframe tbody tr th:only-of-type {\n",
       "        vertical-align: middle;\n",
       "    }\n",
       "\n",
       "    .dataframe tbody tr th {\n",
       "        vertical-align: top;\n",
       "    }\n",
       "\n",
       "    .dataframe thead th {\n",
       "        text-align: right;\n",
       "    }\n",
       "</style>\n",
       "<table border=\"1\" class=\"dataframe\">\n",
       "  <thead>\n",
       "    <tr style=\"text-align: right;\">\n",
       "      <th></th>\n",
       "      <th>Country or Area</th>\n",
       "      <th>Year</th>\n",
       "      <th>Value</th>\n",
       "      <th>Value Footnotes</th>\n",
       "    </tr>\n",
       "  </thead>\n",
       "  <tbody>\n",
       "    <tr>\n",
       "      <th>6865</th>\n",
       "      <td>Zimbabwe</td>\n",
       "      <td>1992</td>\n",
       "      <td>3054.889178</td>\n",
       "      <td>NaN</td>\n",
       "    </tr>\n",
       "    <tr>\n",
       "      <th>6866</th>\n",
       "      <td>Zimbabwe</td>\n",
       "      <td>1991</td>\n",
       "      <td>3426.598094</td>\n",
       "      <td>NaN</td>\n",
       "    </tr>\n",
       "    <tr>\n",
       "      <th>6867</th>\n",
       "      <td>Zimbabwe</td>\n",
       "      <td>1990</td>\n",
       "      <td>3324.348171</td>\n",
       "      <td>NaN</td>\n",
       "    </tr>\n",
       "    <tr>\n",
       "      <th>6868</th>\n",
       "      <td>footnoteSeqID</td>\n",
       "      <td>Footnote</td>\n",
       "      <td>NaN</td>\n",
       "      <td>NaN</td>\n",
       "    </tr>\n",
       "    <tr>\n",
       "      <th>6869</th>\n",
       "      <td>2</td>\n",
       "      <td>Excludes South Sudan after July 9, 2011.</td>\n",
       "      <td>NaN</td>\n",
       "      <td>NaN</td>\n",
       "    </tr>\n",
       "  </tbody>\n",
       "</table>\n",
       "</div>"
      ],
      "text/plain": [
       "     Country or Area                                      Year        Value  \\\n",
       "6865        Zimbabwe                                      1992  3054.889178   \n",
       "6866        Zimbabwe                                      1991  3426.598094   \n",
       "6867        Zimbabwe                                      1990  3324.348171   \n",
       "6868   footnoteSeqID                                  Footnote          NaN   \n",
       "6869               2  Excludes South Sudan after July 9, 2011.          NaN   \n",
       "\n",
       "      Value Footnotes  \n",
       "6865              NaN  \n",
       "6866              NaN  \n",
       "6867              NaN  \n",
       "6868              NaN  \n",
       "6869              NaN  "
      ]
     },
     "execution_count": 64,
     "metadata": {},
     "output_type": "execute_result"
    }
   ],
   "source": [
    "gdp_df.tail(5)"
   ]
  },
  {
   "cell_type": "code",
   "execution_count": 65,
   "id": "7b24b848",
   "metadata": {},
   "outputs": [],
   "source": [
    "gdp_df = pd.read_csv(\"../data/un_gdp.csv\", skipfooter=2, engine='python')"
   ]
  },
  {
   "cell_type": "code",
   "execution_count": 66,
   "id": "8c73e99f",
   "metadata": {},
   "outputs": [
    {
     "data": {
      "text/html": [
       "<div>\n",
       "<style scoped>\n",
       "    .dataframe tbody tr th:only-of-type {\n",
       "        vertical-align: middle;\n",
       "    }\n",
       "\n",
       "    .dataframe tbody tr th {\n",
       "        vertical-align: top;\n",
       "    }\n",
       "\n",
       "    .dataframe thead th {\n",
       "        text-align: right;\n",
       "    }\n",
       "</style>\n",
       "<table border=\"1\" class=\"dataframe\">\n",
       "  <thead>\n",
       "    <tr style=\"text-align: right;\">\n",
       "      <th></th>\n",
       "      <th>Country or Area</th>\n",
       "      <th>Year</th>\n",
       "      <th>Value</th>\n",
       "      <th>Value Footnotes</th>\n",
       "    </tr>\n",
       "  </thead>\n",
       "  <tbody>\n",
       "    <tr>\n",
       "      <th>6863</th>\n",
       "      <td>Zimbabwe</td>\n",
       "      <td>1994</td>\n",
       "      <td>3263.934978</td>\n",
       "      <td>NaN</td>\n",
       "    </tr>\n",
       "    <tr>\n",
       "      <th>6864</th>\n",
       "      <td>Zimbabwe</td>\n",
       "      <td>1993</td>\n",
       "      <td>3033.504852</td>\n",
       "      <td>NaN</td>\n",
       "    </tr>\n",
       "    <tr>\n",
       "      <th>6865</th>\n",
       "      <td>Zimbabwe</td>\n",
       "      <td>1992</td>\n",
       "      <td>3054.889178</td>\n",
       "      <td>NaN</td>\n",
       "    </tr>\n",
       "    <tr>\n",
       "      <th>6866</th>\n",
       "      <td>Zimbabwe</td>\n",
       "      <td>1991</td>\n",
       "      <td>3426.598094</td>\n",
       "      <td>NaN</td>\n",
       "    </tr>\n",
       "    <tr>\n",
       "      <th>6867</th>\n",
       "      <td>Zimbabwe</td>\n",
       "      <td>1990</td>\n",
       "      <td>3324.348171</td>\n",
       "      <td>NaN</td>\n",
       "    </tr>\n",
       "  </tbody>\n",
       "</table>\n",
       "</div>"
      ],
      "text/plain": [
       "     Country or Area  Year        Value  Value Footnotes\n",
       "6863        Zimbabwe  1994  3263.934978              NaN\n",
       "6864        Zimbabwe  1993  3033.504852              NaN\n",
       "6865        Zimbabwe  1992  3054.889178              NaN\n",
       "6866        Zimbabwe  1991  3426.598094              NaN\n",
       "6867        Zimbabwe  1990  3324.348171              NaN"
      ]
     },
     "execution_count": 66,
     "metadata": {},
     "output_type": "execute_result"
    }
   ],
   "source": [
    "gdp_df.tail(5)"
   ]
  },
  {
   "cell_type": "code",
   "execution_count": 67,
   "id": "9c21b7f6",
   "metadata": {},
   "outputs": [],
   "source": [
    "gdp_df = gdp_df.drop([\"Value Footnotes\"], axis=1)\n",
    "gdp_df = gdp_df.rename({\"Country or Area\": \"Country\", \"Value\": \"GDP_Per_Capita\"}, axis=\"columns\")"
   ]
  },
  {
   "cell_type": "code",
   "execution_count": 8,
   "id": "45588bef",
   "metadata": {},
   "outputs": [
    {
     "name": "stdout",
     "output_type": "stream",
     "text": [
      "gdp_df shape:  (6868, 3)\n",
      "Country            object\n",
      "Year                int64\n",
      "GDP_Per_Capita    float64\n",
      "dtype: object\n"
     ]
    }
   ],
   "source": [
    "print(\"gdp_df shape: \", gdp_df.shape)\n",
    "print(gdp_df.dtypes)"
   ]
  },
  {
   "cell_type": "code",
   "execution_count": 9,
   "id": "4a9f1d5e",
   "metadata": {},
   "outputs": [],
   "source": [
    "gdp_df['Year'] = pd.to_datetime(gdp_df['Year'], format='%Y')"
   ]
  },
  {
   "cell_type": "code",
   "execution_count": 10,
   "id": "6f1a0e4f",
   "metadata": {},
   "outputs": [
    {
     "data": {
      "text/plain": [
       "Country                   object\n",
       "Year              datetime64[ns]\n",
       "GDP_Per_Capita           float64\n",
       "dtype: object"
      ]
     },
     "execution_count": 10,
     "metadata": {},
     "output_type": "execute_result"
    }
   ],
   "source": [
    "gdp_df.dtypes"
   ]
  },
  {
   "cell_type": "code",
   "execution_count": 11,
   "id": "285b14eb",
   "metadata": {},
   "outputs": [
    {
     "data": {
      "text/html": [
       "<div>\n",
       "<style scoped>\n",
       "    .dataframe tbody tr th:only-of-type {\n",
       "        vertical-align: middle;\n",
       "    }\n",
       "\n",
       "    .dataframe tbody tr th {\n",
       "        vertical-align: top;\n",
       "    }\n",
       "\n",
       "    .dataframe thead th {\n",
       "        text-align: right;\n",
       "    }\n",
       "</style>\n",
       "<table border=\"1\" class=\"dataframe\">\n",
       "  <thead>\n",
       "    <tr style=\"text-align: right;\">\n",
       "      <th></th>\n",
       "      <th>Country</th>\n",
       "      <th>Year</th>\n",
       "      <th>GDP_Per_Capita</th>\n",
       "    </tr>\n",
       "  </thead>\n",
       "  <tbody>\n",
       "    <tr>\n",
       "      <th>0</th>\n",
       "      <td>Afghanistan</td>\n",
       "      <td>2019-01-01</td>\n",
       "      <td>2065.036398</td>\n",
       "    </tr>\n",
       "    <tr>\n",
       "      <th>1</th>\n",
       "      <td>Afghanistan</td>\n",
       "      <td>2018-01-01</td>\n",
       "      <td>2033.779002</td>\n",
       "    </tr>\n",
       "    <tr>\n",
       "      <th>2</th>\n",
       "      <td>Afghanistan</td>\n",
       "      <td>2017-01-01</td>\n",
       "      <td>2058.383832</td>\n",
       "    </tr>\n",
       "    <tr>\n",
       "      <th>3</th>\n",
       "      <td>Afghanistan</td>\n",
       "      <td>2016-01-01</td>\n",
       "      <td>2057.062164</td>\n",
       "    </tr>\n",
       "    <tr>\n",
       "      <th>4</th>\n",
       "      <td>Afghanistan</td>\n",
       "      <td>2015-01-01</td>\n",
       "      <td>2068.265904</td>\n",
       "    </tr>\n",
       "  </tbody>\n",
       "</table>\n",
       "</div>"
      ],
      "text/plain": [
       "       Country       Year  GDP_Per_Capita\n",
       "0  Afghanistan 2019-01-01     2065.036398\n",
       "1  Afghanistan 2018-01-01     2033.779002\n",
       "2  Afghanistan 2017-01-01     2058.383832\n",
       "3  Afghanistan 2016-01-01     2057.062164\n",
       "4  Afghanistan 2015-01-01     2068.265904"
      ]
     },
     "execution_count": 11,
     "metadata": {},
     "output_type": "execute_result"
    }
   ],
   "source": [
    "gdp_df.head()"
   ]
  },
  {
   "cell_type": "code",
   "execution_count": 12,
   "id": "36e51d9a",
   "metadata": {},
   "outputs": [
    {
     "data": {
      "text/plain": [
       "2017-01-01    238\n",
       "2016-01-01    238\n",
       "2015-01-01    238\n",
       "2014-01-01    238\n",
       "2013-01-01    238\n",
       "2012-01-01    237\n",
       "2011-01-01    237\n",
       "2018-01-01    237\n",
       "2010-01-01    236\n",
       "2009-01-01    236\n",
       "2008-01-01    235\n",
       "2007-01-01    235\n",
       "2006-01-01    235\n",
       "2005-01-01    234\n",
       "2004-01-01    234\n",
       "2003-01-01    233\n",
       "2002-01-01    233\n",
       "2001-01-01    232\n",
       "2000-01-01    231\n",
       "2019-01-01    231\n",
       "1999-01-01    224\n",
       "1998-01-01    223\n",
       "1997-01-01    223\n",
       "1996-01-01    221\n",
       "1995-01-01    221\n",
       "1994-01-01    214\n",
       "1993-01-01    212\n",
       "1992-01-01    209\n",
       "1991-01-01    208\n",
       "1990-01-01    207\n",
       "Name: Year, dtype: int64"
      ]
     },
     "execution_count": 12,
     "metadata": {},
     "output_type": "execute_result"
    }
   ],
   "source": [
    "gdp_df['Year'].value_counts() \n",
    "# Number of countries increases over the years."
   ]
  },
  {
   "cell_type": "code",
   "execution_count": 13,
   "id": "3948e5f7",
   "metadata": {},
   "outputs": [
    {
     "data": {
      "text/plain": [
       "Lebanon                      30\n",
       "Middle income                30\n",
       "Morocco                      30\n",
       "Mozambique                   30\n",
       "Myanmar                      30\n",
       "                             ..\n",
       "Nauru                        16\n",
       "Cayman Islands               13\n",
       "Sint Maarten (Dutch part)    10\n",
       "Turks and Caicos Islands      9\n",
       "Djibouti                      7\n",
       "Name: Country, Length: 238, dtype: int64"
      ]
     },
     "execution_count": 13,
     "metadata": {},
     "output_type": "execute_result"
    }
   ],
   "source": [
    "gdp_df['Country'].value_counts() \n",
    "# Number of countries increases over the years."
   ]
  },
  {
   "cell_type": "code",
   "execution_count": 14,
   "id": "44476e27",
   "metadata": {
    "scrolled": false
   },
   "outputs": [
    {
     "name": "stdout",
     "output_type": "stream",
     "text": [
      "Year added and country\n",
      "\t 1991 Hungary\n",
      "\t 1992 Slovak Republic\n",
      "\t 1993 Cambodia, Estonia, Small states\n",
      "\t 1994 Bosnia and Herzegovina, West Bank and Gaza\n",
      "\t 1995 Croatia, Kuwait, Latvia, Lithuania, Maldives, Moldova, Serbia\n",
      "\t 1997 Montenegro, San Marino\n",
      "\t 1999 Libya\n",
      "\t 2000 CuraÃ§ao, Kosovo, Liberia, Other small states, Palau, Qatar, Timor-Leste\n",
      "\t 2001 SÃ£o TomÃ© and Principe\n",
      "\t 2002 Afghanistan\n",
      "\t 2004 Nauru\n",
      "\t 2006 Cayman Islands\n",
      "\t 2009 Sint Maarten (Dutch part)\n",
      "\t 2011 Turks and Caicos Islands\n",
      "\t 2013 Djibouti\n"
     ]
    }
   ],
   "source": [
    "print(\"Year added and country\")\n",
    "for x in range(1990,2022):\n",
    "    tmp_merge = pd.merge(gdp_df[gdp_df['Year'] == str(x) + '-01-01'], \n",
    "                         gdp_df[gdp_df['Year'] == str(x + 1)  + '-01-01'], on='Country', how='right')\n",
    "    added_countries = tmp_merge[tmp_merge.GDP_Per_Capita_x.isnull()]['Country'].tolist()   \n",
    "    if (added_countries): print(\"\\t\", str(x+1), ', '.join(added_countries))"
   ]
  },
  {
   "cell_type": "code",
   "execution_count": 15,
   "id": "ea3d733f",
   "metadata": {},
   "outputs": [],
   "source": [
    "gdp_2014 = gdp_df[gdp_df['Year'] == '2014-01-01'].reset_index()"
   ]
  },
  {
   "cell_type": "code",
   "execution_count": 16,
   "id": "154962bf",
   "metadata": {},
   "outputs": [
    {
     "data": {
      "text/plain": [
       "count       238.000000\n",
       "mean      19766.710348\n",
       "std       20983.869623\n",
       "min         822.610458\n",
       "25%        4753.110934\n",
       "50%       12209.385755\n",
       "75%       26803.610474\n",
       "max      156514.133850\n",
       "Name: GDP_Per_Capita, dtype: float64"
      ]
     },
     "execution_count": 16,
     "metadata": {},
     "output_type": "execute_result"
    }
   ],
   "source": [
    "gdp_2014['GDP_Per_Capita'].describe()"
   ]
  },
  {
   "cell_type": "code",
   "execution_count": 17,
   "id": "3557dae8",
   "metadata": {
    "scrolled": true
   },
   "outputs": [
    {
     "data": {
      "text/plain": [
       "(array([52., 27., 14., 32., 21., 12.,  5., 11.,  9.,  4.,  6.,  6.,  4.,\n",
       "         5.,  4.,  6.,  4.,  3.,  3.,  2.,  3.,  0.,  0.,  0.,  1.,  0.,\n",
       "         0.,  1.,  0.,  0.,  1.,  0.,  0.,  0.,  1.,  0.,  0.,  0.,  0.,\n",
       "         0.,  0.,  0.,  0.,  0.,  0.,  0.,  0.,  0.,  0.,  1.]),\n",
       " array([   822.61045782,   3936.44092566,   7050.2713935 ,  10164.10186133,\n",
       "         13277.93232917,  16391.76279701,  19505.59326485,  22619.42373269,\n",
       "         25733.25420053,  28847.08466837,  31960.91513621,  35074.74560405,\n",
       "         38188.57607189,  41302.40653973,  44416.23700757,  47530.06747541,\n",
       "         50643.89794325,  53757.72841109,  56871.55887893,  59985.38934676,\n",
       "         63099.2198146 ,  66213.05028244,  69326.88075028,  72440.71121812,\n",
       "         75554.54168596,  78668.3721538 ,  81782.20262164,  84896.03308948,\n",
       "         88009.86355732,  91123.69402516,  94237.524493  ,  97351.35496084,\n",
       "        100465.18542868, 103579.01589652, 106692.84636435, 109806.67683219,\n",
       "        112920.50730003, 116034.33776787, 119148.16823571, 122261.99870355,\n",
       "        125375.82917139, 128489.65963923, 131603.49010707, 134717.32057491,\n",
       "        137831.15104275, 140944.98151059, 144058.81197843, 147172.64244627,\n",
       "        150286.47291411, 153400.30338194, 156514.13384978]),\n",
       " <BarContainer object of 50 artists>)"
      ]
     },
     "execution_count": 17,
     "metadata": {},
     "output_type": "execute_result"
    },
    {
     "data": {
      "image/png": "[encoded data removed]",
      "text/plain": [
       "<Figure size 432x288 with 1 Axes>"
      ]
     },
     "metadata": {
      "needs_background": "light"
     },
     "output_type": "display_data"
    }
   ],
   "source": [
    "plt.hist(gdp_2014['GDP_Per_Capita'], 50)\n",
    "# right skewed"
   ]
  },
  {
   "cell_type": "code",
   "execution_count": 18,
   "id": "0dfdd32f",
   "metadata": {},
   "outputs": [
    {
     "data": {
      "text/html": [
       "<div>\n",
       "<style scoped>\n",
       "    .dataframe tbody tr th:only-of-type {\n",
       "        vertical-align: middle;\n",
       "    }\n",
       "\n",
       "    .dataframe tbody tr th {\n",
       "        vertical-align: top;\n",
       "    }\n",
       "\n",
       "    .dataframe thead th {\n",
       "        text-align: right;\n",
       "    }\n",
       "</style>\n",
       "<table border=\"1\" class=\"dataframe\">\n",
       "  <thead>\n",
       "    <tr style=\"text-align: right;\">\n",
       "      <th></th>\n",
       "      <th>index</th>\n",
       "      <th>Country</th>\n",
       "      <th>Year</th>\n",
       "      <th>GDP_Per_Capita</th>\n",
       "    </tr>\n",
       "  </thead>\n",
       "  <tbody>\n",
       "    <tr>\n",
       "      <th>128</th>\n",
       "      <td>3721</td>\n",
       "      <td>Macao SAR, China</td>\n",
       "      <td>2014-01-01</td>\n",
       "      <td>156514.133850</td>\n",
       "    </tr>\n",
       "    <tr>\n",
       "      <th>127</th>\n",
       "      <td>3691</td>\n",
       "      <td>Luxembourg</td>\n",
       "      <td>2014-01-01</td>\n",
       "      <td>108760.916030</td>\n",
       "    </tr>\n",
       "    <tr>\n",
       "      <th>177</th>\n",
       "      <td>5138</td>\n",
       "      <td>Qatar</td>\n",
       "      <td>2014-01-01</td>\n",
       "      <td>95578.416973</td>\n",
       "    </tr>\n",
       "    <tr>\n",
       "      <th>189</th>\n",
       "      <td>5464</td>\n",
       "      <td>Singapore</td>\n",
       "      <td>2014-01-01</td>\n",
       "      <td>87808.663157</td>\n",
       "    </tr>\n",
       "    <tr>\n",
       "      <th>19</th>\n",
       "      <td>561</td>\n",
       "      <td>Bermuda</td>\n",
       "      <td>2014-01-01</td>\n",
       "      <td>77361.104881</td>\n",
       "    </tr>\n",
       "  </tbody>\n",
       "</table>\n",
       "</div>"
      ],
      "text/plain": [
       "     index           Country       Year  GDP_Per_Capita\n",
       "128   3721  Macao SAR, China 2014-01-01   156514.133850\n",
       "127   3691        Luxembourg 2014-01-01   108760.916030\n",
       "177   5138             Qatar 2014-01-01    95578.416973\n",
       "189   5464         Singapore 2014-01-01    87808.663157\n",
       "19     561           Bermuda 2014-01-01    77361.104881"
      ]
     },
     "execution_count": 18,
     "metadata": {},
     "output_type": "execute_result"
    }
   ],
   "source": [
    "gdp_2014.sort_values(by=\"GDP_Per_Capita\", ascending=False).head(5)\n",
    "# Top 5 countries by GDP in 2014"
   ]
  },
  {
   "cell_type": "code",
   "execution_count": 19,
   "id": "34acd171",
   "metadata": {},
   "outputs": [
    {
     "data": {
      "text/html": [
       "<div>\n",
       "<style scoped>\n",
       "    .dataframe tbody tr th:only-of-type {\n",
       "        vertical-align: middle;\n",
       "    }\n",
       "\n",
       "    .dataframe tbody tr th {\n",
       "        vertical-align: top;\n",
       "    }\n",
       "\n",
       "    .dataframe thead th {\n",
       "        text-align: right;\n",
       "    }\n",
       "</style>\n",
       "<table border=\"1\" class=\"dataframe\">\n",
       "  <thead>\n",
       "    <tr style=\"text-align: right;\">\n",
       "      <th></th>\n",
       "      <th>index</th>\n",
       "      <th>Country</th>\n",
       "      <th>Year</th>\n",
       "      <th>GDP_Per_Capita</th>\n",
       "    </tr>\n",
       "  </thead>\n",
       "  <tbody>\n",
       "    <tr>\n",
       "      <th>36</th>\n",
       "      <td>1047</td>\n",
       "      <td>Central African Republic</td>\n",
       "      <td>2014-01-01</td>\n",
       "      <td>822.610458</td>\n",
       "    </tr>\n",
       "    <tr>\n",
       "      <th>28</th>\n",
       "      <td>827</td>\n",
       "      <td>Burundi</td>\n",
       "      <td>2014-01-01</td>\n",
       "      <td>886.235777</td>\n",
       "    </tr>\n",
       "    <tr>\n",
       "      <th>130</th>\n",
       "      <td>3781</td>\n",
       "      <td>Malawi</td>\n",
       "      <td>2014-01-01</td>\n",
       "      <td>1027.208496</td>\n",
       "    </tr>\n",
       "    <tr>\n",
       "      <th>49</th>\n",
       "      <td>1422</td>\n",
       "      <td>Dem. Rep. Congo</td>\n",
       "      <td>2014-01-01</td>\n",
       "      <td>1029.790785</td>\n",
       "    </tr>\n",
       "    <tr>\n",
       "      <th>156</th>\n",
       "      <td>4528</td>\n",
       "      <td>Niger</td>\n",
       "      <td>2014-01-01</td>\n",
       "      <td>1127.615541</td>\n",
       "    </tr>\n",
       "  </tbody>\n",
       "</table>\n",
       "</div>"
      ],
      "text/plain": [
       "     index                   Country       Year  GDP_Per_Capita\n",
       "36    1047  Central African Republic 2014-01-01      822.610458\n",
       "28     827                   Burundi 2014-01-01      886.235777\n",
       "130   3781                    Malawi 2014-01-01     1027.208496\n",
       "49    1422           Dem. Rep. Congo 2014-01-01     1029.790785\n",
       "156   4528                     Niger 2014-01-01     1127.615541"
      ]
     },
     "execution_count": 19,
     "metadata": {},
     "output_type": "execute_result"
    }
   ],
   "source": [
    "gdp_2014.sort_values(by=\"GDP_Per_Capita\").head(5)\n",
    "# Bottom 5 countries by GDP in 2014"
   ]
  },
  {
   "cell_type": "code",
   "execution_count": 20,
   "id": "4ca5258a",
   "metadata": {},
   "outputs": [],
   "source": [
    "gdp_1990_2017 = gdp_df[(gdp_df['Year'] == '1990-01-01') | (gdp_df['Year'] == '2017-01-01')]\n",
    "gdp_pivoted = gdp_1990_2017.pivot(index='Country', columns='Year', values='GDP_Per_Capita').dropna()"
   ]
  },
  {
   "cell_type": "code",
   "execution_count": 21,
   "id": "a7f94eb7",
   "metadata": {
    "scrolled": true
   },
   "outputs": [],
   "source": [
    "gdp_pivoted['Percent_Change'] = 100 * (gdp_pivoted['2017-01-01'] - gdp_pivoted['1990-01-01']) / gdp_pivoted['1990-01-01']"
   ]
  },
  {
   "cell_type": "code",
   "execution_count": 22,
   "id": "53c2125a",
   "metadata": {},
   "outputs": [
    {
     "name": "stdout",
     "output_type": "stream",
     "text": [
      "Number of countries with negative growth from 1990 to 2017: 17\n"
     ]
    }
   ],
   "source": [
    "print(\"Number of countries with negative growth from 1990 to 2017:\", gdp_pivoted[gdp_pivoted['Percent_Change'] < 0].shape[0])"
   ]
  },
  {
   "cell_type": "code",
   "execution_count": 23,
   "id": "b1ed271d",
   "metadata": {},
   "outputs": [
    {
     "name": "stdout",
     "output_type": "stream",
     "text": [
      "Country with the highest growth rate from 1990 to 2017: Equatorial Guinea\n"
     ]
    }
   ],
   "source": [
    "print(\"Country with the highest growth rate from 1990 to 2017:\", \n",
    "      gdp_pivoted[gdp_pivoted['Percent_Change'] == gdp_pivoted['Percent_Change'].max()].index[0])"
   ]
  },
  {
   "cell_type": "code",
   "execution_count": 24,
   "id": "6207fa0a",
   "metadata": {},
   "outputs": [
    {
     "name": "stdout",
     "output_type": "stream",
     "text": [
      "Country with the second highest growth rate from 1990 to 2017: China\n"
     ]
    }
   ],
   "source": [
    "print(\"Country with the second highest growth rate from 1990 to 2017:\", \n",
    "      gdp_pivoted.sort_values(by='Percent_Change', ascending=False).iloc[1,:].name)"
   ]
  },
  {
   "cell_type": "code",
   "execution_count": 25,
   "id": "e63f0d6a",
   "metadata": {
    "scrolled": false
   },
   "outputs": [
    {
     "name": "stdout",
     "output_type": "stream",
     "text": [
      "\n"
     ]
    },
    {
     "data": {
      "image/png": "[encoded data removed]",
      "text/plain": [
       "<Figure size 648x216 with 1 Axes>"
      ]
     },
     "metadata": {
      "needs_background": "light"
     },
     "output_type": "display_data"
    }
   ],
   "source": [
    "plt.figure(figsize=(9, 3))\n",
    "\n",
    "plt.plot(gdp_df[gdp_df['Country'] == 'Equatorial Guinea']['Year'],\n",
    "         gdp_df[gdp_df['Country'] == 'Equatorial Guinea']['GDP_Per_Capita'],\n",
    "         label=\"Equatorial Guinea\")\n",
    "plt.plot(gdp_df[gdp_df['Country'] == 'China']['Year'],\n",
    "         gdp_df[gdp_df['Country'] == 'China']['GDP_Per_Capita'],\n",
    "         label=\"China\")\n",
    "\n",
    "ax = plt.gca()\n",
    "ax.legend()\n",
    "plt.title(\"First and Second Highest GDP Growth Rate 1990-2017\")\n",
    "print()\n",
    "\n",
    "# China has a smooth growth rate from 1990 to 2017 while Equatorial Guinea has a very sharp rise and \n",
    "#  then a decide but maintains the highest growth rate of any country."
   ]
  },
  {
   "cell_type": "code",
   "execution_count": 26,
   "id": "3e9d5c9e",
   "metadata": {},
   "outputs": [],
   "source": [
    "continents = pd.read_csv(\"../data/continents.csv\")"
   ]
  },
  {
   "cell_type": "code",
   "execution_count": 27,
   "id": "5da5ba67",
   "metadata": {},
   "outputs": [],
   "source": [
    "gdp_df = pd.merge(continents, gdp_df, on=\"Country\").dropna()"
   ]
  },
  {
   "cell_type": "code",
   "execution_count": 28,
   "id": "a7bebe11",
   "metadata": {},
   "outputs": [
    {
     "name": "stdout",
     "output_type": "stream",
     "text": [
      "\n"
     ]
    },
    {
     "data": {
      "image/png": "[encoded data removed]",
      "text/plain": [
       "<Figure size 432x288 with 1 Axes>"
      ]
     },
     "metadata": {
      "needs_background": "light"
     },
     "output_type": "display_data"
    }
   ],
   "source": [
    "plt.bar(sorted(gdp_df[\"Continent\"].unique()),\n",
    "        gdp_df[[\"Continent\", \"Country\"]].groupby(\"Continent\").nunique()[\"Country\"])\n",
    "plt.xticks(rotation=25)\n",
    "plt.title(\"Number of Countries per Continent\")\n",
    "print()"
   ]
  },
  {
   "cell_type": "code",
   "execution_count": 29,
   "id": "f3601072",
   "metadata": {},
   "outputs": [
    {
     "name": "stdout",
     "output_type": "stream",
     "text": [
      "\n"
     ]
    },
    {
     "data": {
      "image/png": "[encoded data removed]",
      "text/plain": [
       "<Figure size 432x288 with 1 Axes>"
      ]
     },
     "metadata": {
      "needs_background": "light"
     },
     "output_type": "display_data"
    }
   ],
   "source": [
    "# Create a seaborn boxplot showing GDP per capita in 2014 split out by continent.\n",
    "ax = sns.boxplot(x=\"Continent\", y=\"GDP_Per_Capita\", data=gdp_df[gdp_df['Year'] == '2014-01-01'])\n",
    "plt.xticks(rotation=25)\n",
    "print()\n",
    "# Asia hos three countries that are high outliers. Europe seems the best off overall with one high outlier.\n",
    "# Africa is the poorest continent with even the high outliers being within the norm of other continents. \n",
    "# North America is heavily skewed right with median GDP noticably below the mean. South America is the flatest of the\n",
    "# distributions with no outlies and all countries being relatively poor. Oceania is the second poorest continent\n",
    "# overall with a right skewed population and two high outlying countries, median is well below the mean. "
   ]
  },
  {
   "cell_type": "code",
   "execution_count": 50,
   "id": "f5d5d5db",
   "metadata": {
    "scrolled": true
   },
   "outputs": [
    {
     "name": "stderr",
     "output_type": "stream",
     "text": [
      "Skipping line 4675: ',' expected after '\"'. Error could possibly be due to parsing errors in the skipped footer rows (the skipfooter keyword is only applied after Python's csv library has parsed all rows).\n"
     ]
    }
   ],
   "source": [
    "internet_df = pd.read_csv(\"../data/un_internet.csv\", on_bad_lines='warn', skipfooter=180, engine='python')"
   ]
  },
  {
   "cell_type": "code",
   "execution_count": 51,
   "id": "1baa5cc2",
   "metadata": {},
   "outputs": [
    {
     "data": {
      "text/html": [
       "<div>\n",
       "<style scoped>\n",
       "    .dataframe tbody tr th:only-of-type {\n",
       "        vertical-align: middle;\n",
       "    }\n",
       "\n",
       "    .dataframe tbody tr th {\n",
       "        vertical-align: top;\n",
       "    }\n",
       "\n",
       "    .dataframe thead th {\n",
       "        text-align: right;\n",
       "    }\n",
       "</style>\n",
       "<table border=\"1\" class=\"dataframe\">\n",
       "  <thead>\n",
       "    <tr style=\"text-align: right;\">\n",
       "      <th></th>\n",
       "      <th>Country or Area</th>\n",
       "      <th>Year</th>\n",
       "      <th>Value</th>\n",
       "      <th>Value Footnotes</th>\n",
       "    </tr>\n",
       "  </thead>\n",
       "  <tbody>\n",
       "    <tr>\n",
       "      <th>0</th>\n",
       "      <td>Afghanistan</td>\n",
       "      <td>2014</td>\n",
       "      <td>6.390000</td>\n",
       "      <td>NaN</td>\n",
       "    </tr>\n",
       "    <tr>\n",
       "      <th>1</th>\n",
       "      <td>Afghanistan</td>\n",
       "      <td>2013</td>\n",
       "      <td>5.900000</td>\n",
       "      <td>NaN</td>\n",
       "    </tr>\n",
       "    <tr>\n",
       "      <th>2</th>\n",
       "      <td>Afghanistan</td>\n",
       "      <td>2012</td>\n",
       "      <td>5.454545</td>\n",
       "      <td>NaN</td>\n",
       "    </tr>\n",
       "    <tr>\n",
       "      <th>3</th>\n",
       "      <td>Afghanistan</td>\n",
       "      <td>2011</td>\n",
       "      <td>5.000000</td>\n",
       "      <td>NaN</td>\n",
       "    </tr>\n",
       "    <tr>\n",
       "      <th>4</th>\n",
       "      <td>Afghanistan</td>\n",
       "      <td>2010</td>\n",
       "      <td>4.000000</td>\n",
       "      <td>NaN</td>\n",
       "    </tr>\n",
       "  </tbody>\n",
       "</table>\n",
       "</div>"
      ],
      "text/plain": [
       "  Country or Area  Year     Value  Value Footnotes\n",
       "0     Afghanistan  2014  6.390000              NaN\n",
       "1     Afghanistan  2013  5.900000              NaN\n",
       "2     Afghanistan  2012  5.454545              NaN\n",
       "3     Afghanistan  2011  5.000000              NaN\n",
       "4     Afghanistan  2010  4.000000              NaN"
      ]
     },
     "execution_count": 51,
     "metadata": {},
     "output_type": "execute_result"
    }
   ],
   "source": [
    "internet_df.head(5)"
   ]
  },
  {
   "cell_type": "code",
   "execution_count": 52,
   "id": "ec2ad6c5",
   "metadata": {},
   "outputs": [
    {
     "data": {
      "text/html": [
       "<div>\n",
       "<style scoped>\n",
       "    .dataframe tbody tr th:only-of-type {\n",
       "        vertical-align: middle;\n",
       "    }\n",
       "\n",
       "    .dataframe tbody tr th {\n",
       "        vertical-align: top;\n",
       "    }\n",
       "\n",
       "    .dataframe thead th {\n",
       "        text-align: right;\n",
       "    }\n",
       "</style>\n",
       "<table border=\"1\" class=\"dataframe\">\n",
       "  <thead>\n",
       "    <tr style=\"text-align: right;\">\n",
       "      <th></th>\n",
       "      <th>Country or Area</th>\n",
       "      <th>Year</th>\n",
       "      <th>Value</th>\n",
       "      <th>Value Footnotes</th>\n",
       "    </tr>\n",
       "  </thead>\n",
       "  <tbody>\n",
       "    <tr>\n",
       "      <th>4490</th>\n",
       "      <td>Zimbabwe</td>\n",
       "      <td>1997</td>\n",
       "      <td>0.033080</td>\n",
       "      <td>NaN</td>\n",
       "    </tr>\n",
       "    <tr>\n",
       "      <th>4491</th>\n",
       "      <td>Zimbabwe</td>\n",
       "      <td>1996</td>\n",
       "      <td>0.016790</td>\n",
       "      <td>NaN</td>\n",
       "    </tr>\n",
       "    <tr>\n",
       "      <th>4492</th>\n",
       "      <td>Zimbabwe</td>\n",
       "      <td>1995</td>\n",
       "      <td>0.007684</td>\n",
       "      <td>NaN</td>\n",
       "    </tr>\n",
       "    <tr>\n",
       "      <th>4493</th>\n",
       "      <td>Zimbabwe</td>\n",
       "      <td>1994</td>\n",
       "      <td>0.001739</td>\n",
       "      <td>NaN</td>\n",
       "    </tr>\n",
       "    <tr>\n",
       "      <th>4494</th>\n",
       "      <td>Zimbabwe</td>\n",
       "      <td>1990</td>\n",
       "      <td>0.000000</td>\n",
       "      <td>NaN</td>\n",
       "    </tr>\n",
       "  </tbody>\n",
       "</table>\n",
       "</div>"
      ],
      "text/plain": [
       "     Country or Area  Year     Value  Value Footnotes\n",
       "4490        Zimbabwe  1997  0.033080              NaN\n",
       "4491        Zimbabwe  1996  0.016790              NaN\n",
       "4492        Zimbabwe  1995  0.007684              NaN\n",
       "4493        Zimbabwe  1994  0.001739              NaN\n",
       "4494        Zimbabwe  1990  0.000000              NaN"
      ]
     },
     "execution_count": 52,
     "metadata": {},
     "output_type": "execute_result"
    }
   ],
   "source": [
    "internet_df.tail(5)"
   ]
  },
  {
   "cell_type": "code",
   "execution_count": 53,
   "id": "a3b832e1",
   "metadata": {},
   "outputs": [],
   "source": [
    "internet_df = internet_df.drop([\"Value Footnotes\"], axis=1)\n",
    "internet_df = internet_df.rename({\"Country or Area\": \"Country\", \"Value\": \"Internet_Users_Pct\"}, axis=\"columns\")"
   ]
  },
  {
   "cell_type": "code",
   "execution_count": 54,
   "id": "2bfda19e",
   "metadata": {},
   "outputs": [
    {
     "data": {
      "text/plain": [
       "(4495, 3)"
      ]
     },
     "execution_count": 54,
     "metadata": {},
     "output_type": "execute_result"
    }
   ],
   "source": [
    "internet_df.shape"
   ]
  },
  {
   "cell_type": "code",
   "execution_count": 55,
   "id": "3a1a2e35",
   "metadata": {
    "scrolled": true
   },
   "outputs": [
    {
     "data": {
      "text/plain": [
       "Country                object\n",
       "Year                    int64\n",
       "Internet_Users_Pct    float64\n",
       "dtype: object"
      ]
     },
     "execution_count": 55,
     "metadata": {},
     "output_type": "execute_result"
    }
   ],
   "source": [
    "internet_df.dtypes"
   ]
  },
  {
   "cell_type": "code",
   "execution_count": 38,
   "id": "81fb3fbb",
   "metadata": {},
   "outputs": [],
   "source": [
    "# internet_df['Year'] = pd.to_datetime(internet_df['Year'], format='%Y')"
   ]
  },
  {
   "cell_type": "code",
   "execution_count": null,
   "id": "5777f663",
   "metadata": {},
   "outputs": [],
   "source": [
    "# What is the first year that has a nonzero internet users percentage reported? 1960"
   ]
  },
  {
   "cell_type": "code",
   "execution_count": 61,
   "id": "c6c31e61",
   "metadata": {
    "scrolled": true
   },
   "outputs": [
    {
     "data": {
      "text/plain": [
       "Text(0.5, 1.0, 'Mean Percent of Internet Users Worldwide')"
      ]
     },
     "execution_count": 61,
     "metadata": {},
     "output_type": "execute_result"
    },
    {
     "data": {
      "image/png": "[encoded data removed]",
      "text/plain": [
       "<Figure size 432x288 with 1 Axes>"
      ]
     },
     "metadata": {
      "needs_background": "light"
     },
     "output_type": "display_data"
    }
   ],
   "source": [
    "plt.plot(sorted(internet_df[\"Year\"].unique()), internet_df.groupby(\"Year\")[\"Internet_Users_Pct\"].mean())\n",
    "plt.ylabel('Percent Internet Users Worldwide')\n",
    "plt.title(\"Mean Percent of Internet Users Worldwide\")"
   ]
  },
  {
   "cell_type": "code",
   "execution_count": 68,
   "id": "46e605a3",
   "metadata": {},
   "outputs": [],
   "source": [
    "# Merge gdp_df and internet_df (on Country and Year) into a single DataFrame named gdp_and_internet_use. \n",
    "# Keep only countries and years that appear in both tables.\n",
    "# Difficult Bonus: Do not attempt this part until you have completed all other portions of the data question. \n",
    "#     Some countries have slightly different names in the internet use and gdp dataframes. \n",
    "#     For example, the Central African Republic is \"Central African Republic\" in the gdp dataframe and \"Central African Rep.\" \n",
    "#     in the internet use dataframe. Find as many instances like this \n",
    "#     as you can and resolve them so that when merging you keep the maximum number of countries possible."
   ]
  },
  {
   "cell_type": "code",
   "execution_count": 88,
   "id": "94905dfd",
   "metadata": {
    "scrolled": true
   },
   "outputs": [],
   "source": [
    "# set(gdp_df['Country'].unique()) - set(internet_df['Country'].unique())\n",
    "# set(internet_df['Country'].unique()) - set(gdp_df['Country'].unique())\n",
    "gdp_df[gdp_df['Country'] ==  'Cabo Verde'] =  'Cape Verde'\n",
    "gdp_df[gdp_df['Country'] ==  'Brunei'] =  'Brunei Darussalam'\n",
    "gdp_df[gdp_df['Country'] ==  'Central African Republic'] =  'Central African Rep.'\n",
    "gdp_df[gdp_df['Country'] ==  \"CÃ´te d'Ivoire\"] = \"Cote d'Ivoire\"\n",
    "gdp_df[gdp_df['Country'] ==  'Dem. Rep. Congo'] =  'Congo (Democratic Republic of the)'\n",
    "gdp_df[gdp_df['Country'] ==  'Dominican Republic'] =  'Dominican Rep.'\n",
    "gdp_df[gdp_df['Country'] ==  'Hong Kong SAR, China'] =  'Hong Kong, China'\n",
    "gdp_df[gdp_df['Country'] ==  'Iran'] =  'Iran (Islamic Rep. of)'\n",
    "gdp_df[gdp_df['Country'] ==  'Korea'] =  'Korea (Rep. of)'\n",
    "gdp_df[gdp_df['Country'] ==  'Kyrgyz Republic'] =  'Kyrgyzstan'\n",
    "gdp_df[gdp_df['Country'] ==  'Lao PDR'] =  'Lao P.D.R.'\n",
    "gdp_df[gdp_df['Country'] ==  'Macao SAR, China'] =  'Macao, China'\n",
    "gdp_df[gdp_df['Country'] ==  'Micronesia'] =  'Micronesia (Fed. States of)'\n",
    "gdp_df[gdp_df['Country'] ==  'North Macedonia'] =  'T.F.Y.R. Macedonia'\n",
    "gdp_df[gdp_df['Country'] ==  'St. Kitts and Nevis'] =  'Saint Kitts and Nevis'\n",
    "gdp_df[gdp_df['Country'] ==  'St. Lucia'] =  'Saint Lucia'\n",
    "gdp_df[gdp_df['Country'] ==  'SÃ£o TomÃ© and Principe'] =  'Sao Tome and Principe'\n",
    "gdp_df[gdp_df['Country'] ==  'The Bahamas'] =  'Bahamas'\n",
    "gdp_df[gdp_df['Country'] ==  'The Gambia'] =  'Gambia'\n",
    "gdp_df[gdp_df['Country'] ==  'Vietnam'] =  'Viet Nam'"
   ]
  },
  {
   "cell_type": "code",
   "execution_count": 86,
   "id": "8e69838d",
   "metadata": {
    "scrolled": true
   },
   "outputs": [
    {
     "data": {
      "text/html": [
       "<div>\n",
       "<style scoped>\n",
       "    .dataframe tbody tr th:only-of-type {\n",
       "        vertical-align: middle;\n",
       "    }\n",
       "\n",
       "    .dataframe tbody tr th {\n",
       "        vertical-align: top;\n",
       "    }\n",
       "\n",
       "    .dataframe thead th {\n",
       "        text-align: right;\n",
       "    }\n",
       "</style>\n",
       "<table border=\"1\" class=\"dataframe\">\n",
       "  <thead>\n",
       "    <tr style=\"text-align: right;\">\n",
       "      <th></th>\n",
       "      <th>Country</th>\n",
       "      <th>Year</th>\n",
       "      <th>GDP_Per_Capita</th>\n",
       "    </tr>\n",
       "  </thead>\n",
       "  <tbody>\n",
       "    <tr>\n",
       "      <th>3160</th>\n",
       "      <td>Korea</td>\n",
       "      <td>2019</td>\n",
       "      <td>42878.817297</td>\n",
       "    </tr>\n",
       "    <tr>\n",
       "      <th>3161</th>\n",
       "      <td>Korea</td>\n",
       "      <td>2018</td>\n",
       "      <td>42105.279934</td>\n",
       "    </tr>\n",
       "    <tr>\n",
       "      <th>3162</th>\n",
       "      <td>Korea</td>\n",
       "      <td>2017</td>\n",
       "      <td>41110.644804</td>\n",
       "    </tr>\n",
       "    <tr>\n",
       "      <th>3163</th>\n",
       "      <td>Korea</td>\n",
       "      <td>2016</td>\n",
       "      <td>39963.61047</td>\n",
       "    </tr>\n",
       "    <tr>\n",
       "      <th>3164</th>\n",
       "      <td>Korea</td>\n",
       "      <td>2015</td>\n",
       "      <td>38974.0041</td>\n",
       "    </tr>\n",
       "    <tr>\n",
       "      <th>3165</th>\n",
       "      <td>Korea</td>\n",
       "      <td>2014</td>\n",
       "      <td>38109.51662</td>\n",
       "    </tr>\n",
       "    <tr>\n",
       "      <th>3166</th>\n",
       "      <td>Korea</td>\n",
       "      <td>2013</td>\n",
       "      <td>37159.634786</td>\n",
       "    </tr>\n",
       "    <tr>\n",
       "      <th>3167</th>\n",
       "      <td>Korea</td>\n",
       "      <td>2012</td>\n",
       "      <td>36184.05796</td>\n",
       "    </tr>\n",
       "    <tr>\n",
       "      <th>3168</th>\n",
       "      <td>Korea</td>\n",
       "      <td>2011</td>\n",
       "      <td>35521.371433</td>\n",
       "    </tr>\n",
       "    <tr>\n",
       "      <th>3169</th>\n",
       "      <td>Korea</td>\n",
       "      <td>2010</td>\n",
       "      <td>34523.164514</td>\n",
       "    </tr>\n",
       "    <tr>\n",
       "      <th>3170</th>\n",
       "      <td>Korea</td>\n",
       "      <td>2009</td>\n",
       "      <td>32485.046251</td>\n",
       "    </tr>\n",
       "    <tr>\n",
       "      <th>3171</th>\n",
       "      <td>Korea</td>\n",
       "      <td>2008</td>\n",
       "      <td>32395.870469</td>\n",
       "    </tr>\n",
       "    <tr>\n",
       "      <th>3172</th>\n",
       "      <td>Korea</td>\n",
       "      <td>2007</td>\n",
       "      <td>31688.0382</td>\n",
       "    </tr>\n",
       "    <tr>\n",
       "      <th>3173</th>\n",
       "      <td>Korea</td>\n",
       "      <td>2006</td>\n",
       "      <td>30102.720237</td>\n",
       "    </tr>\n",
       "    <tr>\n",
       "      <th>3174</th>\n",
       "      <td>Korea</td>\n",
       "      <td>2005</td>\n",
       "      <td>28747.854645</td>\n",
       "    </tr>\n",
       "    <tr>\n",
       "      <th>3175</th>\n",
       "      <td>Korea</td>\n",
       "      <td>2004</td>\n",
       "      <td>27618.892333</td>\n",
       "    </tr>\n",
       "    <tr>\n",
       "      <th>3176</th>\n",
       "      <td>Korea</td>\n",
       "      <td>2003</td>\n",
       "      <td>26358.611683</td>\n",
       "    </tr>\n",
       "    <tr>\n",
       "      <th>3177</th>\n",
       "      <td>Korea</td>\n",
       "      <td>2002</td>\n",
       "      <td>25687.139623</td>\n",
       "    </tr>\n",
       "    <tr>\n",
       "      <th>3178</th>\n",
       "      <td>Korea</td>\n",
       "      <td>2001</td>\n",
       "      <td>23983.287022</td>\n",
       "    </tr>\n",
       "    <tr>\n",
       "      <th>3179</th>\n",
       "      <td>Korea</td>\n",
       "      <td>2000</td>\n",
       "      <td>23049.548343</td>\n",
       "    </tr>\n",
       "    <tr>\n",
       "      <th>3180</th>\n",
       "      <td>Korea</td>\n",
       "      <td>1999</td>\n",
       "      <td>21312.04357</td>\n",
       "    </tr>\n",
       "    <tr>\n",
       "      <th>3181</th>\n",
       "      <td>Korea</td>\n",
       "      <td>1998</td>\n",
       "      <td>19255.994295</td>\n",
       "    </tr>\n",
       "    <tr>\n",
       "      <th>3182</th>\n",
       "      <td>Korea</td>\n",
       "      <td>1997</td>\n",
       "      <td>20444.172739</td>\n",
       "    </tr>\n",
       "    <tr>\n",
       "      <th>3183</th>\n",
       "      <td>Korea</td>\n",
       "      <td>1996</td>\n",
       "      <td>19437.388004</td>\n",
       "    </tr>\n",
       "    <tr>\n",
       "      <th>3184</th>\n",
       "      <td>Korea</td>\n",
       "      <td>1995</td>\n",
       "      <td>18188.284897</td>\n",
       "    </tr>\n",
       "    <tr>\n",
       "      <th>3185</th>\n",
       "      <td>Korea</td>\n",
       "      <td>1994</td>\n",
       "      <td>16760.746468</td>\n",
       "    </tr>\n",
       "    <tr>\n",
       "      <th>3186</th>\n",
       "      <td>Korea</td>\n",
       "      <td>1993</td>\n",
       "      <td>15494.137288</td>\n",
       "    </tr>\n",
       "    <tr>\n",
       "      <th>3187</th>\n",
       "      <td>Korea</td>\n",
       "      <td>1992</td>\n",
       "      <td>14645.117984</td>\n",
       "    </tr>\n",
       "    <tr>\n",
       "      <th>3188</th>\n",
       "      <td>Korea</td>\n",
       "      <td>1991</td>\n",
       "      <td>13934.35686</td>\n",
       "    </tr>\n",
       "    <tr>\n",
       "      <th>3189</th>\n",
       "      <td>Korea</td>\n",
       "      <td>1990</td>\n",
       "      <td>12703.745199</td>\n",
       "    </tr>\n",
       "  </tbody>\n",
       "</table>\n",
       "</div>"
      ],
      "text/plain": [
       "     Country  Year GDP_Per_Capita\n",
       "3160   Korea  2019   42878.817297\n",
       "3161   Korea  2018   42105.279934\n",
       "3162   Korea  2017   41110.644804\n",
       "3163   Korea  2016    39963.61047\n",
       "3164   Korea  2015     38974.0041\n",
       "3165   Korea  2014    38109.51662\n",
       "3166   Korea  2013   37159.634786\n",
       "3167   Korea  2012    36184.05796\n",
       "3168   Korea  2011   35521.371433\n",
       "3169   Korea  2010   34523.164514\n",
       "3170   Korea  2009   32485.046251\n",
       "3171   Korea  2008   32395.870469\n",
       "3172   Korea  2007     31688.0382\n",
       "3173   Korea  2006   30102.720237\n",
       "3174   Korea  2005   28747.854645\n",
       "3175   Korea  2004   27618.892333\n",
       "3176   Korea  2003   26358.611683\n",
       "3177   Korea  2002   25687.139623\n",
       "3178   Korea  2001   23983.287022\n",
       "3179   Korea  2000   23049.548343\n",
       "3180   Korea  1999    21312.04357\n",
       "3181   Korea  1998   19255.994295\n",
       "3182   Korea  1997   20444.172739\n",
       "3183   Korea  1996   19437.388004\n",
       "3184   Korea  1995   18188.284897\n",
       "3185   Korea  1994   16760.746468\n",
       "3186   Korea  1993   15494.137288\n",
       "3187   Korea  1992   14645.117984\n",
       "3188   Korea  1991    13934.35686\n",
       "3189   Korea  1990   12703.745199"
      ]
     },
     "execution_count": 86,
     "metadata": {},
     "output_type": "execute_result"
    }
   ],
   "source": [
    "gdp_df[gdp_df['Country'] ==  'Korea']"
   ]
  },
  {
   "cell_type": "code",
   "execution_count": 87,
   "id": "98dca327",
   "metadata": {},
   "outputs": [
    {
     "data": {
      "text/html": [
       "<div>\n",
       "<style scoped>\n",
       "    .dataframe tbody tr th:only-of-type {\n",
       "        vertical-align: middle;\n",
       "    }\n",
       "\n",
       "    .dataframe tbody tr th {\n",
       "        vertical-align: top;\n",
       "    }\n",
       "\n",
       "    .dataframe thead th {\n",
       "        text-align: right;\n",
       "    }\n",
       "</style>\n",
       "<table border=\"1\" class=\"dataframe\">\n",
       "  <thead>\n",
       "    <tr style=\"text-align: right;\">\n",
       "      <th></th>\n",
       "      <th>Country</th>\n",
       "      <th>Year</th>\n",
       "      <th>Internet_Users_Pct</th>\n",
       "    </tr>\n",
       "  </thead>\n",
       "  <tbody>\n",
       "    <tr>\n",
       "      <th>2193</th>\n",
       "      <td>Korea (Rep. of)</td>\n",
       "      <td>2014</td>\n",
       "      <td>84.330000</td>\n",
       "    </tr>\n",
       "    <tr>\n",
       "      <th>2194</th>\n",
       "      <td>Korea (Rep. of)</td>\n",
       "      <td>2013</td>\n",
       "      <td>84.770000</td>\n",
       "    </tr>\n",
       "    <tr>\n",
       "      <th>2195</th>\n",
       "      <td>Korea (Rep. of)</td>\n",
       "      <td>2012</td>\n",
       "      <td>84.070000</td>\n",
       "    </tr>\n",
       "    <tr>\n",
       "      <th>2196</th>\n",
       "      <td>Korea (Rep. of)</td>\n",
       "      <td>2011</td>\n",
       "      <td>83.759120</td>\n",
       "    </tr>\n",
       "    <tr>\n",
       "      <th>2197</th>\n",
       "      <td>Korea (Rep. of)</td>\n",
       "      <td>2010</td>\n",
       "      <td>83.700000</td>\n",
       "    </tr>\n",
       "    <tr>\n",
       "      <th>2198</th>\n",
       "      <td>Korea (Rep. of)</td>\n",
       "      <td>2009</td>\n",
       "      <td>81.600000</td>\n",
       "    </tr>\n",
       "    <tr>\n",
       "      <th>2199</th>\n",
       "      <td>Korea (Rep. of)</td>\n",
       "      <td>2008</td>\n",
       "      <td>81.000000</td>\n",
       "    </tr>\n",
       "    <tr>\n",
       "      <th>2200</th>\n",
       "      <td>Korea (Rep. of)</td>\n",
       "      <td>2007</td>\n",
       "      <td>78.800000</td>\n",
       "    </tr>\n",
       "    <tr>\n",
       "      <th>2201</th>\n",
       "      <td>Korea (Rep. of)</td>\n",
       "      <td>2006</td>\n",
       "      <td>78.100000</td>\n",
       "    </tr>\n",
       "    <tr>\n",
       "      <th>2202</th>\n",
       "      <td>Korea (Rep. of)</td>\n",
       "      <td>2005</td>\n",
       "      <td>73.500000</td>\n",
       "    </tr>\n",
       "    <tr>\n",
       "      <th>2203</th>\n",
       "      <td>Korea (Rep. of)</td>\n",
       "      <td>2004</td>\n",
       "      <td>72.700000</td>\n",
       "    </tr>\n",
       "    <tr>\n",
       "      <th>2204</th>\n",
       "      <td>Korea (Rep. of)</td>\n",
       "      <td>2003</td>\n",
       "      <td>65.500000</td>\n",
       "    </tr>\n",
       "    <tr>\n",
       "      <th>2205</th>\n",
       "      <td>Korea (Rep. of)</td>\n",
       "      <td>2002</td>\n",
       "      <td>59.400000</td>\n",
       "    </tr>\n",
       "    <tr>\n",
       "      <th>2206</th>\n",
       "      <td>Korea (Rep. of)</td>\n",
       "      <td>2001</td>\n",
       "      <td>56.600000</td>\n",
       "    </tr>\n",
       "    <tr>\n",
       "      <th>2207</th>\n",
       "      <td>Korea (Rep. of)</td>\n",
       "      <td>2000</td>\n",
       "      <td>44.700000</td>\n",
       "    </tr>\n",
       "    <tr>\n",
       "      <th>2208</th>\n",
       "      <td>Korea (Rep. of)</td>\n",
       "      <td>1999</td>\n",
       "      <td>23.552194</td>\n",
       "    </tr>\n",
       "    <tr>\n",
       "      <th>2209</th>\n",
       "      <td>Korea (Rep. of)</td>\n",
       "      <td>1998</td>\n",
       "      <td>6.781815</td>\n",
       "    </tr>\n",
       "    <tr>\n",
       "      <th>2210</th>\n",
       "      <td>Korea (Rep. of)</td>\n",
       "      <td>1997</td>\n",
       "      <td>3.600802</td>\n",
       "    </tr>\n",
       "    <tr>\n",
       "      <th>2211</th>\n",
       "      <td>Korea (Rep. of)</td>\n",
       "      <td>1996</td>\n",
       "      <td>1.624237</td>\n",
       "    </tr>\n",
       "    <tr>\n",
       "      <th>2212</th>\n",
       "      <td>Korea (Rep. of)</td>\n",
       "      <td>1995</td>\n",
       "      <td>0.819687</td>\n",
       "    </tr>\n",
       "    <tr>\n",
       "      <th>2213</th>\n",
       "      <td>Korea (Rep. of)</td>\n",
       "      <td>1994</td>\n",
       "      <td>0.311359</td>\n",
       "    </tr>\n",
       "    <tr>\n",
       "      <th>2214</th>\n",
       "      <td>Korea (Rep. of)</td>\n",
       "      <td>1993</td>\n",
       "      <td>0.249947</td>\n",
       "    </tr>\n",
       "    <tr>\n",
       "      <th>2215</th>\n",
       "      <td>Korea (Rep. of)</td>\n",
       "      <td>1992</td>\n",
       "      <td>0.098404</td>\n",
       "    </tr>\n",
       "    <tr>\n",
       "      <th>2216</th>\n",
       "      <td>Korea (Rep. of)</td>\n",
       "      <td>1991</td>\n",
       "      <td>0.046124</td>\n",
       "    </tr>\n",
       "    <tr>\n",
       "      <th>2217</th>\n",
       "      <td>Korea (Rep. of)</td>\n",
       "      <td>1990</td>\n",
       "      <td>0.023265</td>\n",
       "    </tr>\n",
       "  </tbody>\n",
       "</table>\n",
       "</div>"
      ],
      "text/plain": [
       "              Country  Year  Internet_Users_Pct\n",
       "2193  Korea (Rep. of)  2014           84.330000\n",
       "2194  Korea (Rep. of)  2013           84.770000\n",
       "2195  Korea (Rep. of)  2012           84.070000\n",
       "2196  Korea (Rep. of)  2011           83.759120\n",
       "2197  Korea (Rep. of)  2010           83.700000\n",
       "2198  Korea (Rep. of)  2009           81.600000\n",
       "2199  Korea (Rep. of)  2008           81.000000\n",
       "2200  Korea (Rep. of)  2007           78.800000\n",
       "2201  Korea (Rep. of)  2006           78.100000\n",
       "2202  Korea (Rep. of)  2005           73.500000\n",
       "2203  Korea (Rep. of)  2004           72.700000\n",
       "2204  Korea (Rep. of)  2003           65.500000\n",
       "2205  Korea (Rep. of)  2002           59.400000\n",
       "2206  Korea (Rep. of)  2001           56.600000\n",
       "2207  Korea (Rep. of)  2000           44.700000\n",
       "2208  Korea (Rep. of)  1999           23.552194\n",
       "2209  Korea (Rep. of)  1998            6.781815\n",
       "2210  Korea (Rep. of)  1997            3.600802\n",
       "2211  Korea (Rep. of)  1996            1.624237\n",
       "2212  Korea (Rep. of)  1995            0.819687\n",
       "2213  Korea (Rep. of)  1994            0.311359\n",
       "2214  Korea (Rep. of)  1993            0.249947\n",
       "2215  Korea (Rep. of)  1992            0.098404\n",
       "2216  Korea (Rep. of)  1991            0.046124\n",
       "2217  Korea (Rep. of)  1990            0.023265"
      ]
     },
     "execution_count": 87,
     "metadata": {},
     "output_type": "execute_result"
    }
   ],
   "source": [
    "internet_df[internet_df['Country'] ==  'Korea (Rep. of)']"
   ]
  }
 ],
 "metadata": {
  "kernelspec": {
   "display_name": "Python 3 (ipykernel)",
   "language": "python",
   "name": "python3"
  },
  "language_info": {
   "codemirror_mode": {
    "name": "ipython",
    "version": 3
   },
   "file_extension": ".py",
   "mimetype": "text/x-python",
   "name": "python",
   "nbconvert_exporter": "python",
   "pygments_lexer": "ipython3",
   "version": "3.8.11"
  }
 },
 "nbformat": 4,
 "nbformat_minor": 5
}
