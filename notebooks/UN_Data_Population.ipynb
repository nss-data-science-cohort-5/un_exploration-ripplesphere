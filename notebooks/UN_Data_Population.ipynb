{
 "cells": [
  {
   "cell_type": "code",
   "execution_count": 2,
   "id": "bcc977c7",
   "metadata": {},
   "outputs": [],
   "source": [
    "import pandas as pd\n",
    "import numpy as np\n",
    "import matplotlib.pyplot as plt\n",
    "\n",
    "%matplotlib inline"
   ]
  },
  {
   "cell_type": "code",
   "execution_count": 3,
   "id": "c67391e8",
   "metadata": {
    "scrolled": true
   },
   "outputs": [],
   "source": [
    "pop_df = pd.read_csv(\"../data/UNdata_population.csv\", on_bad_lines='warn', skipfooter=4, engine='python')"
   ]
  },
  {
   "cell_type": "code",
   "execution_count": 4,
   "id": "93abb09c",
   "metadata": {},
   "outputs": [
    {
     "data": {
      "text/html": [
       "<div>\n",
       "<style scoped>\n",
       "    .dataframe tbody tr th:only-of-type {\n",
       "        vertical-align: middle;\n",
       "    }\n",
       "\n",
       "    .dataframe tbody tr th {\n",
       "        vertical-align: top;\n",
       "    }\n",
       "\n",
       "    .dataframe thead th {\n",
       "        text-align: right;\n",
       "    }\n",
       "</style>\n",
       "<table border=\"1\" class=\"dataframe\">\n",
       "  <thead>\n",
       "    <tr style=\"text-align: right;\">\n",
       "      <th></th>\n",
       "      <th>Country or Area</th>\n",
       "      <th>Year</th>\n",
       "      <th>Area</th>\n",
       "      <th>Sex</th>\n",
       "      <th>Record Type</th>\n",
       "      <th>Reliability</th>\n",
       "      <th>Source Year</th>\n",
       "      <th>Value</th>\n",
       "      <th>Value Footnotes</th>\n",
       "    </tr>\n",
       "  </thead>\n",
       "  <tbody>\n",
       "    <tr>\n",
       "      <th>0</th>\n",
       "      <td>Afghanistan</td>\n",
       "      <td>2020</td>\n",
       "      <td>Total</td>\n",
       "      <td>Both Sexes</td>\n",
       "      <td>Estimate - de facto</td>\n",
       "      <td>Final figure, incomplete/questionable reliability</td>\n",
       "      <td>2021</td>\n",
       "      <td>31390171.0</td>\n",
       "      <td>1</td>\n",
       "    </tr>\n",
       "    <tr>\n",
       "      <th>1</th>\n",
       "      <td>Afghanistan</td>\n",
       "      <td>2020</td>\n",
       "      <td>Total</td>\n",
       "      <td>Male</td>\n",
       "      <td>Estimate - de facto</td>\n",
       "      <td>Final figure, incomplete/questionable reliability</td>\n",
       "      <td>2021</td>\n",
       "      <td>15981303.0</td>\n",
       "      <td>1</td>\n",
       "    </tr>\n",
       "    <tr>\n",
       "      <th>2</th>\n",
       "      <td>Afghanistan</td>\n",
       "      <td>2020</td>\n",
       "      <td>Total</td>\n",
       "      <td>Female</td>\n",
       "      <td>Estimate - de facto</td>\n",
       "      <td>Final figure, incomplete/questionable reliability</td>\n",
       "      <td>2021</td>\n",
       "      <td>15408868.0</td>\n",
       "      <td>1</td>\n",
       "    </tr>\n",
       "  </tbody>\n",
       "</table>\n",
       "</div>"
      ],
      "text/plain": [
       "  Country or Area  Year   Area         Sex          Record Type  \\\n",
       "0     Afghanistan  2020  Total  Both Sexes  Estimate - de facto   \n",
       "1     Afghanistan  2020  Total        Male  Estimate - de facto   \n",
       "2     Afghanistan  2020  Total      Female  Estimate - de facto   \n",
       "\n",
       "                                         Reliability  Source Year       Value  \\\n",
       "0  Final figure, incomplete/questionable reliability         2021  31390171.0   \n",
       "1  Final figure, incomplete/questionable reliability         2021  15981303.0   \n",
       "2  Final figure, incomplete/questionable reliability         2021  15408868.0   \n",
       "\n",
       "  Value Footnotes  \n",
       "0               1  \n",
       "1               1  \n",
       "2               1  "
      ]
     },
     "execution_count": 4,
     "metadata": {},
     "output_type": "execute_result"
    }
   ],
   "source": [
    "pop_df.head(3)"
   ]
  },
  {
   "cell_type": "code",
   "execution_count": 5,
   "id": "f74aab2d",
   "metadata": {
    "scrolled": false
   },
   "outputs": [
    {
     "data": {
      "text/plain": [
       "[<matplotlib.lines.Line2D at 0x20afd28c910>]"
      ]
     },
     "execution_count": 5,
     "metadata": {},
     "output_type": "execute_result"
    },
    {
     "data": {
      "image/png": "[encoded data removed]",
      "text/plain": [
       "<Figure size 432x288 with 1 Axes>"
      ]
     },
     "metadata": {
      "needs_background": "light"
     },
     "output_type": "display_data"
    }
   ],
   "source": [
    "plt.plot(pop_df[(pop_df[\"Sex\"] == \"Both Sexes\") & (pop_df[\"Area\"] == \"Total\")][\"Year\"], \n",
    "         pop_df[(pop_df[\"Sex\"] == \"Both Sexes\") & (pop_df[\"Area\"] == \"Total\")][\"Value\"])"
   ]
  },
  {
   "cell_type": "code",
   "execution_count": 6,
   "id": "c650c86c",
   "metadata": {
    "scrolled": true
   },
   "outputs": [
    {
     "data": {
      "text/plain": [
       "[<matplotlib.lines.Line2D at 0x20afda16d00>]"
      ]
     },
     "execution_count": 6,
     "metadata": {},
     "output_type": "execute_result"
    },
    {
     "data": {
      "image/png": "[encoded data removed]",
      "text/plain": [
       "<Figure size 432x288 with 1 Axes>"
      ]
     },
     "metadata": {
      "needs_background": "light"
     },
     "output_type": "display_data"
    }
   ],
   "source": [
    "plt.plot(pop_df[(pop_df[\"Sex\"] == \"Male\") & (pop_df[\"Area\"] == \"Total\")][\"Year\"], \n",
    "         pop_df[(pop_df[\"Sex\"] == \"Male\") & (pop_df[\"Area\"] == \"Total\")][\"Value\"])"
   ]
  },
  {
   "cell_type": "code",
   "execution_count": 7,
   "id": "fc76f6f2",
   "metadata": {
    "scrolled": true
   },
   "outputs": [
    {
     "data": {
      "text/plain": [
       "[<matplotlib.lines.Line2D at 0x20afda7ed00>]"
      ]
     },
     "execution_count": 7,
     "metadata": {},
     "output_type": "execute_result"
    },
    {
     "data": {
      "image/png": "[encoded data removed]",
      "text/plain": [
       "<Figure size 432x288 with 1 Axes>"
      ]
     },
     "metadata": {
      "needs_background": "light"
     },
     "output_type": "display_data"
    }
   ],
   "source": [
    "plt.plot(pop_df[(pop_df[\"Sex\"] == \"Female\") & (pop_df[\"Area\"] == \"Total\")][\"Year\"], \n",
    "         pop_df[(pop_df[\"Sex\"] == \"Female\") & (pop_df[\"Area\"] == \"Total\")][\"Value\"])"
   ]
  },
  {
   "cell_type": "code",
   "execution_count": 8,
   "id": "a506ec2e",
   "metadata": {
    "scrolled": true
   },
   "outputs": [
    {
     "data": {
      "text/plain": [
       "[<matplotlib.lines.Line2D at 0x20afdae5610>]"
      ]
     },
     "execution_count": 8,
     "metadata": {},
     "output_type": "execute_result"
    },
    {
     "data": {
      "image/png": "[encoded data removed]",
      "text/plain": [
       "<Figure size 432x288 with 1 Axes>"
      ]
     },
     "metadata": {
      "needs_background": "light"
     },
     "output_type": "display_data"
    }
   ],
   "source": [
    "plt.plot(pop_df[(pop_df[\"Sex\"] == \"Both Sexes\") & (pop_df[\"Area\"] == \"Urban\")][\"Year\"], \n",
    "         pop_df[(pop_df[\"Sex\"] == \"Both Sexes\") & (pop_df[\"Area\"] == \"Urban\")][\"Value\"])"
   ]
  },
  {
   "cell_type": "code",
   "execution_count": 9,
   "id": "64582fda",
   "metadata": {},
   "outputs": [
    {
     "data": {
      "text/plain": [
       "[<matplotlib.lines.Line2D at 0x20afdb44d00>]"
      ]
     },
     "execution_count": 9,
     "metadata": {},
     "output_type": "execute_result"
    },
    {
     "data": {
      "image/png": "[encoded data removed]",
      "text/plain": [
       "<Figure size 432x288 with 1 Axes>"
      ]
     },
     "metadata": {
      "needs_background": "light"
     },
     "output_type": "display_data"
    }
   ],
   "source": [
    "plt.plot(pop_df[(pop_df[\"Sex\"] == \"Both Sexes\") & (pop_df[\"Area\"] == \"Rural\")][\"Year\"], \n",
    "         pop_df[(pop_df[\"Sex\"] == \"Both Sexes\") & (pop_df[\"Area\"] == \"Rural\")][\"Value\"])"
   ]
  },
  {
   "cell_type": "code",
   "execution_count": 11,
   "id": "4187bef8",
   "metadata": {},
   "outputs": [
    {
     "data": {
      "text/plain": [
       "Afghanistan    387\n",
       "Name: Country or Area, dtype: int64"
      ]
     },
     "execution_count": 11,
     "metadata": {},
     "output_type": "execute_result"
    }
   ],
   "source": [
    "pop_df[\"Country or Area\"].value_counts()"
   ]
  }
 ],
 "metadata": {
  "kernelspec": {
   "display_name": "Python 3",
   "language": "python",
   "name": "python3"
  },
  "language_info": {
   "codemirror_mode": {
    "name": "ipython",
    "version": 3
   },
   "file_extension": ".py",
   "mimetype": "text/x-python",
   "name": "python",
   "nbconvert_exporter": "python",
   "pygments_lexer": "ipython3",
   "version": "3.8.8"
  }
 },
 "nbformat": 4,
 "nbformat_minor": 5
}
