{
 "cells": [
  {
   "cell_type": "code",
   "execution_count": 1,
   "id": "23fdf30b",
   "metadata": {},
   "outputs": [],
   "source": [
    "import pandas as pd\n",
    "import numpy as np\n",
    "import matplotlib.pyplot as plt\n",
    "import seaborn as sns\n",
    "\n",
    "%matplotlib inline"
   ]
  },
  {
   "cell_type": "code",
   "execution_count": 2,
   "id": "865e86ab",
   "metadata": {
    "scrolled": true
   },
   "outputs": [],
   "source": [
    "refugees_df = pd.read_csv(\"../data/UNdata_refugees.csv\", skipfooter=3, engine='python')"
   ]
  },
  {
   "cell_type": "code",
   "execution_count": 3,
   "id": "f5e33b91",
   "metadata": {},
   "outputs": [
    {
     "data": {
      "text/plain": [
       "1975"
      ]
     },
     "execution_count": 3,
     "metadata": {},
     "output_type": "execute_result"
    }
   ],
   "source": [
    "refugees_df[\"Year\"].min()"
   ]
  },
  {
   "cell_type": "code",
   "execution_count": 34,
   "id": "a998ba45",
   "metadata": {},
   "outputs": [],
   "source": [
    "ref_df = refugees_df[[\"Country or territory of asylum or residence\", \"Country or territory of origin\", \n",
    "                      \"Year\", \"Refugees<sup>*</sup>\"]]\n",
    "ref_df = ref_df.rename({\"Country or territory of asylum or residence\": \"asylum\", \n",
    "                        \"Country or territory of origin\": \"origin\", \"Refugees<sup>*</sup>\": \"refugees\"}, axis=\"columns\")\n",
    "ref_df[\"Year\"] = ref_df[\"Year\"].astype(int)\n",
    "ref_df = ref_df.dropna() # There are 198 rows with refugees as NA\n",
    "ref_df[\"refugees\"] = ref_df[\"refugees\"].astype(int)"
   ]
  },
  {
   "cell_type": "code",
   "execution_count": 35,
   "id": "37ce6e0f",
   "metadata": {
    "scrolled": false
   },
   "outputs": [
    {
     "name": "stdout",
     "output_type": "stream",
     "text": [
      "\n"
     ]
    },
    {
     "data": {
      "image/png": "[encoded data removed]",
      "text/plain": [
       "<Figure size 432x288 with 1 Axes>"
      ]
     },
     "metadata": {
      "needs_background": "light"
     },
     "output_type": "display_data"
    }
   ],
   "source": [
    "plt.plot(ref_df.groupby(\"Year\").sum())\n",
    "plt.title(\"Total Refugees 1975-2016 (in millions)\")\n",
    "print()"
   ]
  },
  {
   "cell_type": "code",
   "execution_count": 37,
   "id": "e990fe03",
   "metadata": {},
   "outputs": [
    {
     "data": {
      "text/html": [
       "<style type=\"text/css\">\n",
       "</style>\n",
       "<table id=\"T_7fa04_\">\n",
       "  <thead>\n",
       "    <tr>\n",
       "      <th class=\"blank level0\" >&nbsp;</th>\n",
       "      <th class=\"col_heading level0 col0\" >Year</th>\n",
       "      <th class=\"col_heading level0 col1\" >refugees</th>\n",
       "    </tr>\n",
       "    <tr>\n",
       "      <th class=\"index_name level0\" >origin</th>\n",
       "      <th class=\"blank col0\" >&nbsp;</th>\n",
       "      <th class=\"blank col1\" >&nbsp;</th>\n",
       "    </tr>\n",
       "  </thead>\n",
       "  <tbody>\n",
       "    <tr>\n",
       "      <th id=\"T_7fa04_level0_row0\" class=\"row_heading level0 row0\" >Syrian Arab Rep.</th>\n",
       "      <td id=\"T_7fa04_row0_col0\" class=\"data row0 col0\" >245,952</td>\n",
       "      <td id=\"T_7fa04_row0_col1\" class=\"data row0 col1\" >5,500,448</td>\n",
       "    </tr>\n",
       "    <tr>\n",
       "      <th id=\"T_7fa04_level0_row1\" class=\"row_heading level0 row1\" >Afghanistan</th>\n",
       "      <td id=\"T_7fa04_row1_col0\" class=\"data row1 col0\" >189,504</td>\n",
       "      <td id=\"T_7fa04_row1_col1\" class=\"data row1 col1\" >2,488,689</td>\n",
       "    </tr>\n",
       "    <tr>\n",
       "      <th id=\"T_7fa04_level0_row2\" class=\"row_heading level0 row2\" >South Sudan</th>\n",
       "      <td id=\"T_7fa04_row2_col0\" class=\"data row2 col0\" >86,688</td>\n",
       "      <td id=\"T_7fa04_row2_col1\" class=\"data row2 col1\" >1,436,651</td>\n",
       "    </tr>\n",
       "    <tr>\n",
       "      <th id=\"T_7fa04_level0_row3\" class=\"row_heading level0 row3\" >Somalia</th>\n",
       "      <td id=\"T_7fa04_row3_col0\" class=\"data row3 col0\" >221,760</td>\n",
       "      <td id=\"T_7fa04_row3_col1\" class=\"data row3 col1\" >1,012,323</td>\n",
       "    </tr>\n",
       "    <tr>\n",
       "      <th id=\"T_7fa04_level0_row4\" class=\"row_heading level0 row4\" >Sudan</th>\n",
       "      <td id=\"T_7fa04_row4_col0\" class=\"data row4 col0\" >211,680</td>\n",
       "      <td id=\"T_7fa04_row4_col1\" class=\"data row4 col1\" >646,036</td>\n",
       "    </tr>\n",
       "    <tr>\n",
       "      <th id=\"T_7fa04_level0_row5\" class=\"row_heading level0 row5\" >Dem. Rep. of the Congo</th>\n",
       "      <td id=\"T_7fa04_row5_col0\" class=\"data row5 col0\" >201,600</td>\n",
       "      <td id=\"T_7fa04_row5_col1\" class=\"data row5 col1\" >537,265</td>\n",
       "    </tr>\n",
       "    <tr>\n",
       "      <th id=\"T_7fa04_level0_row6\" class=\"row_heading level0 row6\" >Central African Rep.</th>\n",
       "      <td id=\"T_7fa04_row6_col0\" class=\"data row6 col0\" >114,912</td>\n",
       "      <td id=\"T_7fa04_row6_col1\" class=\"data row6 col1\" >490,892</td>\n",
       "    </tr>\n",
       "    <tr>\n",
       "      <th id=\"T_7fa04_level0_row7\" class=\"row_heading level0 row7\" >Eritrea</th>\n",
       "      <td id=\"T_7fa04_row7_col0\" class=\"data row7 col0\" >183,456</td>\n",
       "      <td id=\"T_7fa04_row7_col1\" class=\"data row7 col1\" >431,704</td>\n",
       "    </tr>\n",
       "    <tr>\n",
       "      <th id=\"T_7fa04_level0_row8\" class=\"row_heading level0 row8\" >Burundi</th>\n",
       "      <td id=\"T_7fa04_row8_col0\" class=\"data row8 col0\" >149,184</td>\n",
       "      <td id=\"T_7fa04_row8_col1\" class=\"data row8 col1\" >408,085</td>\n",
       "    </tr>\n",
       "    <tr>\n",
       "      <th id=\"T_7fa04_level0_row9\" class=\"row_heading level0 row9\" >Viet Nam</th>\n",
       "      <td id=\"T_7fa04_row9_col0\" class=\"data row9 col0\" >72,576</td>\n",
       "      <td id=\"T_7fa04_row9_col1\" class=\"data row9 col1\" >329,350</td>\n",
       "    </tr>\n",
       "    <tr>\n",
       "      <th id=\"T_7fa04_level0_row10\" class=\"row_heading level0 row10\" >Iraq</th>\n",
       "      <td id=\"T_7fa04_row10_col0\" class=\"data row10 col0\" >213,696</td>\n",
       "      <td id=\"T_7fa04_row10_col1\" class=\"data row10 col1\" >307,986</td>\n",
       "    </tr>\n",
       "    <tr>\n",
       "      <th id=\"T_7fa04_level0_row11\" class=\"row_heading level0 row11\" >Rwanda</th>\n",
       "      <td id=\"T_7fa04_row11_col0\" class=\"data row11 col0\" >149,184</td>\n",
       "      <td id=\"T_7fa04_row11_col1\" class=\"data row11 col1\" >286,073</td>\n",
       "    </tr>\n",
       "    <tr>\n",
       "      <th id=\"T_7fa04_level0_row12\" class=\"row_heading level0 row12\" >Ukraine</th>\n",
       "      <td id=\"T_7fa04_row12_col0\" class=\"data row12 col0\" >131,040</td>\n",
       "      <td id=\"T_7fa04_row12_col1\" class=\"data row12 col1\" >238,804</td>\n",
       "    </tr>\n",
       "    <tr>\n",
       "      <th id=\"T_7fa04_level0_row13\" class=\"row_heading level0 row13\" >China</th>\n",
       "      <td id=\"T_7fa04_row13_col0\" class=\"data row13 col0\" >104,832</td>\n",
       "      <td id=\"T_7fa04_row13_col1\" class=\"data row13 col1\" >207,772</td>\n",
       "    </tr>\n",
       "    <tr>\n",
       "      <th id=\"T_7fa04_level0_row14\" class=\"row_heading level0 row14\" >Nigeria</th>\n",
       "      <td id=\"T_7fa04_row14_col0\" class=\"data row14 col0\" >159,264</td>\n",
       "      <td id=\"T_7fa04_row14_col1\" class=\"data row14 col1\" >202,564</td>\n",
       "    </tr>\n",
       "    <tr>\n",
       "      <th id=\"T_7fa04_level0_row15\" class=\"row_heading level0 row15\" >Myanmar</th>\n",
       "      <td id=\"T_7fa04_row15_col0\" class=\"data row15 col0\" >84,672</td>\n",
       "      <td id=\"T_7fa04_row15_col1\" class=\"data row15 col1\" >195,086</td>\n",
       "    </tr>\n",
       "    <tr>\n",
       "      <th id=\"T_7fa04_level0_row16\" class=\"row_heading level0 row16\" >Mali</th>\n",
       "      <td id=\"T_7fa04_row16_col0\" class=\"data row16 col0\" >110,880</td>\n",
       "      <td id=\"T_7fa04_row16_col1\" class=\"data row16 col1\" >156,428</td>\n",
       "    </tr>\n",
       "    <tr>\n",
       "      <th id=\"T_7fa04_level0_row17\" class=\"row_heading level0 row17\" >Various</th>\n",
       "      <td id=\"T_7fa04_row17_col0\" class=\"data row17 col0\" >80,640</td>\n",
       "      <td id=\"T_7fa04_row17_col1\" class=\"data row17 col1\" >136,943</td>\n",
       "    </tr>\n",
       "    <tr>\n",
       "      <th id=\"T_7fa04_level0_row18\" class=\"row_heading level0 row18\" >Sri Lanka</th>\n",
       "      <td id=\"T_7fa04_row18_col0\" class=\"data row18 col0\" >133,056</td>\n",
       "      <td id=\"T_7fa04_row18_col1\" class=\"data row18 col1\" >117,479</td>\n",
       "    </tr>\n",
       "    <tr>\n",
       "      <th id=\"T_7fa04_level0_row19\" class=\"row_heading level0 row19\" >Pakistan</th>\n",
       "      <td id=\"T_7fa04_row19_col0\" class=\"data row19 col0\" >175,392</td>\n",
       "      <td id=\"T_7fa04_row19_col1\" class=\"data row19 col1\" >105,426</td>\n",
       "    </tr>\n",
       "  </tbody>\n",
       "</table>\n"
      ],
      "text/plain": [
       "<pandas.io.formats.style.Styler at 0x25ebf879b20>"
      ]
     },
     "execution_count": 37,
     "metadata": {},
     "output_type": "execute_result"
    }
   ],
   "source": [
    "ref_df[ref_df[\"Year\"] == 2016].groupby(\"origin\").sum().sort_values(\"refugees\", ascending=False)\\\n",
    "                            .head(20).style.format('{:,}')\n",
    "# Country refugee totals for 2016"
   ]
  },
  {
   "cell_type": "code",
   "execution_count": 38,
   "id": "d34491c6",
   "metadata": {},
   "outputs": [
    {
     "data": {
      "text/html": [
       "<style type=\"text/css\">\n",
       "</style>\n",
       "<table id=\"T_d06e8_\">\n",
       "  <thead>\n",
       "    <tr>\n",
       "      <th class=\"blank level0\" >&nbsp;</th>\n",
       "      <th class=\"col_heading level0 col0\" >refugees</th>\n",
       "    </tr>\n",
       "    <tr>\n",
       "      <th class=\"index_name level0\" >origin</th>\n",
       "      <th class=\"blank col0\" >&nbsp;</th>\n",
       "    </tr>\n",
       "  </thead>\n",
       "  <tbody>\n",
       "    <tr>\n",
       "      <th id=\"T_d06e8_level0_row0\" class=\"row_heading level0 row0\" >Syrian Arab Rep.</th>\n",
       "      <td id=\"T_d06e8_row0_col0\" class=\"data row0 col0\" >5,500,448</td>\n",
       "    </tr>\n",
       "    <tr>\n",
       "      <th id=\"T_d06e8_level0_row1\" class=\"row_heading level0 row1\" >Afghanistan</th>\n",
       "      <td id=\"T_d06e8_row1_col0\" class=\"data row1 col0\" >2,488,689</td>\n",
       "    </tr>\n",
       "    <tr>\n",
       "      <th id=\"T_d06e8_level0_row2\" class=\"row_heading level0 row2\" >South Sudan</th>\n",
       "      <td id=\"T_d06e8_row2_col0\" class=\"data row2 col0\" >1,436,651</td>\n",
       "    </tr>\n",
       "    <tr>\n",
       "      <th id=\"T_d06e8_level0_row3\" class=\"row_heading level0 row3\" >Somalia</th>\n",
       "      <td id=\"T_d06e8_row3_col0\" class=\"data row3 col0\" >1,012,323</td>\n",
       "    </tr>\n",
       "    <tr>\n",
       "      <th id=\"T_d06e8_level0_row4\" class=\"row_heading level0 row4\" >Sudan</th>\n",
       "      <td id=\"T_d06e8_row4_col0\" class=\"data row4 col0\" >646,036</td>\n",
       "    </tr>\n",
       "    <tr>\n",
       "      <th id=\"T_d06e8_level0_row5\" class=\"row_heading level0 row5\" >Dem. Rep. of the Congo</th>\n",
       "      <td id=\"T_d06e8_row5_col0\" class=\"data row5 col0\" >537,265</td>\n",
       "    </tr>\n",
       "    <tr>\n",
       "      <th id=\"T_d06e8_level0_row6\" class=\"row_heading level0 row6\" >Central African Rep.</th>\n",
       "      <td id=\"T_d06e8_row6_col0\" class=\"data row6 col0\" >490,892</td>\n",
       "    </tr>\n",
       "    <tr>\n",
       "      <th id=\"T_d06e8_level0_row7\" class=\"row_heading level0 row7\" >Eritrea</th>\n",
       "      <td id=\"T_d06e8_row7_col0\" class=\"data row7 col0\" >431,704</td>\n",
       "    </tr>\n",
       "    <tr>\n",
       "      <th id=\"T_d06e8_level0_row8\" class=\"row_heading level0 row8\" >Burundi</th>\n",
       "      <td id=\"T_d06e8_row8_col0\" class=\"data row8 col0\" >408,085</td>\n",
       "    </tr>\n",
       "    <tr>\n",
       "      <th id=\"T_d06e8_level0_row9\" class=\"row_heading level0 row9\" >Viet Nam</th>\n",
       "      <td id=\"T_d06e8_row9_col0\" class=\"data row9 col0\" >329,350</td>\n",
       "    </tr>\n",
       "    <tr>\n",
       "      <th id=\"T_d06e8_level0_row10\" class=\"row_heading level0 row10\" >Iraq</th>\n",
       "      <td id=\"T_d06e8_row10_col0\" class=\"data row10 col0\" >307,986</td>\n",
       "    </tr>\n",
       "    <tr>\n",
       "      <th id=\"T_d06e8_level0_row11\" class=\"row_heading level0 row11\" >Rwanda</th>\n",
       "      <td id=\"T_d06e8_row11_col0\" class=\"data row11 col0\" >286,073</td>\n",
       "    </tr>\n",
       "    <tr>\n",
       "      <th id=\"T_d06e8_level0_row12\" class=\"row_heading level0 row12\" >Ukraine</th>\n",
       "      <td id=\"T_d06e8_row12_col0\" class=\"data row12 col0\" >238,804</td>\n",
       "    </tr>\n",
       "    <tr>\n",
       "      <th id=\"T_d06e8_level0_row13\" class=\"row_heading level0 row13\" >China</th>\n",
       "      <td id=\"T_d06e8_row13_col0\" class=\"data row13 col0\" >207,772</td>\n",
       "    </tr>\n",
       "    <tr>\n",
       "      <th id=\"T_d06e8_level0_row14\" class=\"row_heading level0 row14\" >Nigeria</th>\n",
       "      <td id=\"T_d06e8_row14_col0\" class=\"data row14 col0\" >202,564</td>\n",
       "    </tr>\n",
       "    <tr>\n",
       "      <th id=\"T_d06e8_level0_row15\" class=\"row_heading level0 row15\" >Myanmar</th>\n",
       "      <td id=\"T_d06e8_row15_col0\" class=\"data row15 col0\" >195,086</td>\n",
       "    </tr>\n",
       "    <tr>\n",
       "      <th id=\"T_d06e8_level0_row16\" class=\"row_heading level0 row16\" >Mali</th>\n",
       "      <td id=\"T_d06e8_row16_col0\" class=\"data row16 col0\" >156,428</td>\n",
       "    </tr>\n",
       "    <tr>\n",
       "      <th id=\"T_d06e8_level0_row17\" class=\"row_heading level0 row17\" >Various</th>\n",
       "      <td id=\"T_d06e8_row17_col0\" class=\"data row17 col0\" >136,943</td>\n",
       "    </tr>\n",
       "    <tr>\n",
       "      <th id=\"T_d06e8_level0_row18\" class=\"row_heading level0 row18\" >Sri Lanka</th>\n",
       "      <td id=\"T_d06e8_row18_col0\" class=\"data row18 col0\" >117,479</td>\n",
       "    </tr>\n",
       "    <tr>\n",
       "      <th id=\"T_d06e8_level0_row19\" class=\"row_heading level0 row19\" >Pakistan</th>\n",
       "      <td id=\"T_d06e8_row19_col0\" class=\"data row19 col0\" >105,426</td>\n",
       "    </tr>\n",
       "  </tbody>\n",
       "</table>\n"
      ],
      "text/plain": [
       "<pandas.io.formats.style.Styler at 0x25ebf848520>"
      ]
     },
     "execution_count": 38,
     "metadata": {},
     "output_type": "execute_result"
    }
   ],
   "source": [
    "ref_df[ref_df[\"Year\"] == 2016].groupby(\"origin\").sum().sort_values(\"refugees\", ascending=False)\\\n",
    "    .head(20)[[\"refugees\"]].style.format('{:,}')"
   ]
  },
  {
   "cell_type": "code",
   "execution_count": 8,
   "id": "56153edf",
   "metadata": {
    "scrolled": true
   },
   "outputs": [
    {
     "data": {
      "text/html": [
       "<div>\n",
       "<style scoped>\n",
       "    .dataframe tbody tr th:only-of-type {\n",
       "        vertical-align: middle;\n",
       "    }\n",
       "\n",
       "    .dataframe tbody tr th {\n",
       "        vertical-align: top;\n",
       "    }\n",
       "\n",
       "    .dataframe thead th {\n",
       "        text-align: right;\n",
       "    }\n",
       "</style>\n",
       "<table border=\"1\" class=\"dataframe\">\n",
       "  <thead>\n",
       "    <tr style=\"text-align: right;\">\n",
       "      <th></th>\n",
       "      <th>refugees</th>\n",
       "    </tr>\n",
       "    <tr>\n",
       "      <th>origin</th>\n",
       "      <th></th>\n",
       "    </tr>\n",
       "  </thead>\n",
       "  <tbody>\n",
       "    <tr>\n",
       "      <th>Afghanistan</th>\n",
       "      <td>4552153.0</td>\n",
       "    </tr>\n",
       "    <tr>\n",
       "      <th>Various</th>\n",
       "      <td>3118510.0</td>\n",
       "    </tr>\n",
       "    <tr>\n",
       "      <th>Mozambique</th>\n",
       "      <td>1445474.0</td>\n",
       "    </tr>\n",
       "    <tr>\n",
       "      <th>Iraq</th>\n",
       "      <td>1343824.0</td>\n",
       "    </tr>\n",
       "    <tr>\n",
       "      <th>Somalia</th>\n",
       "      <td>812195.0</td>\n",
       "    </tr>\n",
       "    <tr>\n",
       "      <th>Liberia</th>\n",
       "      <td>520915.0</td>\n",
       "    </tr>\n",
       "    <tr>\n",
       "      <th>Viet Nam</th>\n",
       "      <td>517111.0</td>\n",
       "    </tr>\n",
       "    <tr>\n",
       "      <th>Eritrea</th>\n",
       "      <td>503200.0</td>\n",
       "    </tr>\n",
       "    <tr>\n",
       "      <th>Bosnia and Herzegovina</th>\n",
       "      <td>437501.0</td>\n",
       "    </tr>\n",
       "    <tr>\n",
       "      <th>Rwanda</th>\n",
       "      <td>434736.0</td>\n",
       "    </tr>\n",
       "    <tr>\n",
       "      <th>Ethiopia</th>\n",
       "      <td>313129.0</td>\n",
       "    </tr>\n",
       "    <tr>\n",
       "      <th>Angola</th>\n",
       "      <td>300492.0</td>\n",
       "    </tr>\n",
       "    <tr>\n",
       "      <th>Azerbaijan</th>\n",
       "      <td>300000.0</td>\n",
       "    </tr>\n",
       "    <tr>\n",
       "      <th>Sudan</th>\n",
       "      <td>267767.0</td>\n",
       "    </tr>\n",
       "    <tr>\n",
       "      <th>Sierra Leone</th>\n",
       "      <td>253592.0</td>\n",
       "    </tr>\n",
       "    <tr>\n",
       "      <th>Myanmar</th>\n",
       "      <td>245130.0</td>\n",
       "    </tr>\n",
       "    <tr>\n",
       "      <th>Russian Federation</th>\n",
       "      <td>213802.0</td>\n",
       "    </tr>\n",
       "    <tr>\n",
       "      <th>Armenia</th>\n",
       "      <td>195003.0</td>\n",
       "    </tr>\n",
       "    <tr>\n",
       "      <th>Burundi</th>\n",
       "      <td>184135.0</td>\n",
       "    </tr>\n",
       "    <tr>\n",
       "      <th>Croatia</th>\n",
       "      <td>168571.0</td>\n",
       "    </tr>\n",
       "  </tbody>\n",
       "</table>\n",
       "</div>"
      ],
      "text/plain": [
       "                         refugees\n",
       "origin                           \n",
       "Afghanistan             4552153.0\n",
       "Various                 3118510.0\n",
       "Mozambique              1445474.0\n",
       "Iraq                    1343824.0\n",
       "Somalia                  812195.0\n",
       "Liberia                  520915.0\n",
       "Viet Nam                 517111.0\n",
       "Eritrea                  503200.0\n",
       "Bosnia and Herzegovina   437501.0\n",
       "Rwanda                   434736.0\n",
       "Ethiopia                 313129.0\n",
       "Angola                   300492.0\n",
       "Azerbaijan               300000.0\n",
       "Sudan                    267767.0\n",
       "Sierra Leone             253592.0\n",
       "Myanmar                  245130.0\n",
       "Russian Federation       213802.0\n",
       "Armenia                  195003.0\n",
       "Burundi                  184135.0\n",
       "Croatia                  168571.0"
      ]
     },
     "execution_count": 8,
     "metadata": {},
     "output_type": "execute_result"
    }
   ],
   "source": [
    "ref_df[ref_df[\"Year\"] == 1992].groupby(\"origin\").sum().sort_values(\"refugees\", ascending=False).head(20)[[\"refugees\"]]"
   ]
  },
  {
   "cell_type": "code",
   "execution_count": 9,
   "id": "e96c1b29",
   "metadata": {},
   "outputs": [
    {
     "data": {
      "text/html": [
       "<div>\n",
       "<style scoped>\n",
       "    .dataframe tbody tr th:only-of-type {\n",
       "        vertical-align: middle;\n",
       "    }\n",
       "\n",
       "    .dataframe tbody tr th {\n",
       "        vertical-align: top;\n",
       "    }\n",
       "\n",
       "    .dataframe thead th {\n",
       "        text-align: right;\n",
       "    }\n",
       "</style>\n",
       "<table border=\"1\" class=\"dataframe\">\n",
       "  <thead>\n",
       "    <tr style=\"text-align: right;\">\n",
       "      <th></th>\n",
       "      <th>refugees</th>\n",
       "    </tr>\n",
       "    <tr>\n",
       "      <th>origin</th>\n",
       "      <th></th>\n",
       "    </tr>\n",
       "  </thead>\n",
       "  <tbody>\n",
       "    <tr>\n",
       "      <th>Afghanistan</th>\n",
       "      <td>125836802.0</td>\n",
       "    </tr>\n",
       "    <tr>\n",
       "      <th>Various</th>\n",
       "      <td>53954607.0</td>\n",
       "    </tr>\n",
       "    <tr>\n",
       "      <th>Iraq</th>\n",
       "      <td>26456503.0</td>\n",
       "    </tr>\n",
       "    <tr>\n",
       "      <th>Ethiopia</th>\n",
       "      <td>23286613.0</td>\n",
       "    </tr>\n",
       "    <tr>\n",
       "      <th>Somalia</th>\n",
       "      <td>19003975.0</td>\n",
       "    </tr>\n",
       "    <tr>\n",
       "      <th>Syrian Arab Rep.</th>\n",
       "      <td>17662833.0</td>\n",
       "    </tr>\n",
       "    <tr>\n",
       "      <th>Sudan</th>\n",
       "      <td>15058675.0</td>\n",
       "    </tr>\n",
       "    <tr>\n",
       "      <th>Viet Nam</th>\n",
       "      <td>14839294.0</td>\n",
       "    </tr>\n",
       "    <tr>\n",
       "      <th>Angola</th>\n",
       "      <td>13013851.0</td>\n",
       "    </tr>\n",
       "    <tr>\n",
       "      <th>Rwanda</th>\n",
       "      <td>12600732.0</td>\n",
       "    </tr>\n",
       "    <tr>\n",
       "      <th>Burundi</th>\n",
       "      <td>12209817.0</td>\n",
       "    </tr>\n",
       "    <tr>\n",
       "      <th>Dem. Rep. of the Congo</th>\n",
       "      <td>10451074.0</td>\n",
       "    </tr>\n",
       "    <tr>\n",
       "      <th>Mozambique</th>\n",
       "      <td>8718739.0</td>\n",
       "    </tr>\n",
       "    <tr>\n",
       "      <th>Liberia</th>\n",
       "      <td>8427746.0</td>\n",
       "    </tr>\n",
       "    <tr>\n",
       "      <th>Bosnia and Herzegovina</th>\n",
       "      <td>8361632.0</td>\n",
       "    </tr>\n",
       "    <tr>\n",
       "      <th>Eritrea</th>\n",
       "      <td>7792848.0</td>\n",
       "    </tr>\n",
       "    <tr>\n",
       "      <th>Western Sahara</th>\n",
       "      <td>5313335.0</td>\n",
       "    </tr>\n",
       "    <tr>\n",
       "      <th>Myanmar</th>\n",
       "      <td>4806584.0</td>\n",
       "    </tr>\n",
       "    <tr>\n",
       "      <th>State of Palestine</th>\n",
       "      <td>4571018.0</td>\n",
       "    </tr>\n",
       "    <tr>\n",
       "      <th>Croatia</th>\n",
       "      <td>4166761.0</td>\n",
       "    </tr>\n",
       "  </tbody>\n",
       "</table>\n",
       "</div>"
      ],
      "text/plain": [
       "                           refugees\n",
       "origin                             \n",
       "Afghanistan             125836802.0\n",
       "Various                  53954607.0\n",
       "Iraq                     26456503.0\n",
       "Ethiopia                 23286613.0\n",
       "Somalia                  19003975.0\n",
       "Syrian Arab Rep.         17662833.0\n",
       "Sudan                    15058675.0\n",
       "Viet Nam                 14839294.0\n",
       "Angola                   13013851.0\n",
       "Rwanda                   12600732.0\n",
       "Burundi                  12209817.0\n",
       "Dem. Rep. of the Congo   10451074.0\n",
       "Mozambique                8718739.0\n",
       "Liberia                   8427746.0\n",
       "Bosnia and Herzegovina    8361632.0\n",
       "Eritrea                   7792848.0\n",
       "Western Sahara            5313335.0\n",
       "Myanmar                   4806584.0\n",
       "State of Palestine        4571018.0\n",
       "Croatia                   4166761.0"
      ]
     },
     "execution_count": 9,
     "metadata": {},
     "output_type": "execute_result"
    }
   ],
   "source": [
    "ref_df.sort_values(\"refugees\",\n",
    "                   ascending=False).groupby(\"origin\").sum().sort_values(\"refugees\", ascending=False).head(20)[[\"refugees\"]]"
   ]
  },
  {
   "cell_type": "code",
   "execution_count": 10,
   "id": "727a5140",
   "metadata": {
    "scrolled": true
   },
   "outputs": [
    {
     "name": "stdout",
     "output_type": "stream",
     "text": [
      "\n"
     ]
    },
    {
     "data": {
      "image/png": "[encoded data removed]",
      "text/plain": [
       "<Figure size 432x288 with 1 Axes>"
      ]
     },
     "metadata": {
      "needs_background": "light"
     },
     "output_type": "display_data"
    }
   ],
   "source": [
    "# Need to sum origin, multiple asylum countries reason for multiple values\n",
    "plt.scatter(ref_df[ref_df[\"Year\"] == 2016].sort_values(\"refugees\", ascending=False).head(20)[\"origin\"],\n",
    "            ref_df[ref_df[\"Year\"] == 2016].sort_values(\"refugees\", ascending=False).head(20)[\"refugees\"])\n",
    "plt.xticks(rotation=90)\n",
    "print()"
   ]
  },
  {
   "cell_type": "code",
   "execution_count": 11,
   "id": "4f117fb2",
   "metadata": {
    "scrolled": true
   },
   "outputs": [
    {
     "name": "stdout",
     "output_type": "stream",
     "text": [
      "\n"
     ]
    },
    {
     "data": {
      "image/png": "[encoded data removed]",
      "text/plain": [
       "<Figure size 432x288 with 1 Axes>"
      ]
     },
     "metadata": {
      "needs_background": "light"
     },
     "output_type": "display_data"
    }
   ],
   "source": [
    "plt.scatter(ref_df[ref_df[\"Year\"] == 1992].sort_values(\"refugees\", ascending=False).head(20).groupby(\"origin\").sum().index,\n",
    "            ref_df[ref_df[\"Year\"] == 1992].sort_values(\"refugees\", ascending=False).head(20).groupby(\"origin\").sum().iloc[:,1])\n",
    "plt.xticks(rotation=90)\n",
    "print()"
   ]
  },
  {
   "cell_type": "code",
   "execution_count": 12,
   "id": "09b7f768",
   "metadata": {
    "scrolled": true
   },
   "outputs": [
    {
     "data": {
      "text/plain": [
       "Index(['Afghanistan', 'Azerbaijan', 'Bosnia and Herzegovina', 'Eritrea',\n",
       "       'Ethiopia', 'Iraq', 'Liberia', 'Mozambique', 'Myanmar',\n",
       "       'Russian Federation', 'Rwanda', 'Somalia', 'Various', 'Viet Nam'],\n",
       "      dtype='object', name='origin')"
      ]
     },
     "execution_count": 12,
     "metadata": {},
     "output_type": "execute_result"
    }
   ],
   "source": [
    "ref_df[ref_df[\"Year\"] == 1992].sort_values(\"refugees\", ascending=False).head(20).groupby(\"origin\").sum().index"
   ]
  },
  {
   "cell_type": "code",
   "execution_count": 13,
   "id": "ba5cb42d",
   "metadata": {
    "scrolled": true
   },
   "outputs": [
    {
     "data": {
      "text/plain": [
       "origin\n",
       "Afghanistan                         4552153.0\n",
       "Albania                                4353.0\n",
       "Algeria                                  71.0\n",
       "Angola                               300492.0\n",
       "Argentina                               113.0\n",
       "Armenia                              195003.0\n",
       "Azerbaijan                           300000.0\n",
       "Bahrain                                  53.0\n",
       "Bangladesh                            53921.0\n",
       "Benin                                     4.0\n",
       "Bhutan                                75442.0\n",
       "Bolivia (Plurinational State of)         28.0\n",
       "Bosnia and Herzegovina               437501.0\n",
       "Botswana                                  3.0\n",
       "Brazil                                   11.0\n",
       "Bulgaria                               2981.0\n",
       "Burkina Faso                             61.0\n",
       "Burundi                              184135.0\n",
       "Cabo Verde                                1.0\n",
       "Cambodia                              28851.0\n",
       "Name: refugees, dtype: float64"
      ]
     },
     "execution_count": 13,
     "metadata": {},
     "output_type": "execute_result"
    }
   ],
   "source": [
    "ref_df[ref_df[\"Year\"] == 1992].sort_values(\"refugees\", ascending=False).groupby(\"origin\").sum().head(20).iloc[:,1]"
   ]
  },
  {
   "cell_type": "code",
   "execution_count": 14,
   "id": "029eb87c",
   "metadata": {
    "scrolled": true
   },
   "outputs": [],
   "source": [
    "tmp_df = ref_df[ref_df[\"Year\"] == 2016].groupby(\"origin\").sum().sort_values(\"refugees\", ascending=False).head(20).reset_index()"
   ]
  },
  {
   "cell_type": "code",
   "execution_count": 40,
   "id": "15882524",
   "metadata": {
    "scrolled": true
   },
   "outputs": [
    {
     "data": {
      "text/plain": [
       "[<matplotlib.lines.Line2D at 0x25ebf46d220>]"
      ]
     },
     "execution_count": 40,
     "metadata": {},
     "output_type": "execute_result"
    },
    {
     "data": {
      "image/png": "[encoded data removed]",
      "text/plain": [
       "<Figure size 432x288 with 1 Axes>"
      ]
     },
     "metadata": {
      "needs_background": "light"
     },
     "output_type": "display_data"
    }
   ],
   "source": [
    "plt.plot(ref_df[ref_df[\"origin\"] == \"Afghanistan\"].groupby(\"Year\").sum()[\"refugees\"])"
   ]
  },
  {
   "cell_type": "code",
   "execution_count": 16,
   "id": "92ba1dca",
   "metadata": {},
   "outputs": [
    {
     "data": {
      "text/html": [
       "<div>\n",
       "<style scoped>\n",
       "    .dataframe tbody tr th:only-of-type {\n",
       "        vertical-align: middle;\n",
       "    }\n",
       "\n",
       "    .dataframe tbody tr th {\n",
       "        vertical-align: top;\n",
       "    }\n",
       "\n",
       "    .dataframe thead th {\n",
       "        text-align: right;\n",
       "    }\n",
       "</style>\n",
       "<table border=\"1\" class=\"dataframe\">\n",
       "  <thead>\n",
       "    <tr style=\"text-align: right;\">\n",
       "      <th></th>\n",
       "      <th>refugees</th>\n",
       "    </tr>\n",
       "    <tr>\n",
       "      <th>Year</th>\n",
       "      <th></th>\n",
       "    </tr>\n",
       "  </thead>\n",
       "  <tbody>\n",
       "    <tr>\n",
       "      <th>1979</th>\n",
       "      <td>500000.0</td>\n",
       "    </tr>\n",
       "    <tr>\n",
       "      <th>1980</th>\n",
       "      <td>1734921.0</td>\n",
       "    </tr>\n",
       "    <tr>\n",
       "      <th>1981</th>\n",
       "      <td>3879984.0</td>\n",
       "    </tr>\n",
       "    <tr>\n",
       "      <th>1982</th>\n",
       "      <td>4488214.0</td>\n",
       "    </tr>\n",
       "    <tr>\n",
       "      <th>1983</th>\n",
       "      <td>4712735.0</td>\n",
       "    </tr>\n",
       "    <tr>\n",
       "      <th>1984</th>\n",
       "      <td>4417651.0</td>\n",
       "    </tr>\n",
       "    <tr>\n",
       "      <th>1985</th>\n",
       "      <td>4653193.0</td>\n",
       "    </tr>\n",
       "    <tr>\n",
       "      <th>1986</th>\n",
       "      <td>5094283.0</td>\n",
       "    </tr>\n",
       "    <tr>\n",
       "      <th>1987</th>\n",
       "      <td>5511740.0</td>\n",
       "    </tr>\n",
       "    <tr>\n",
       "      <th>1988</th>\n",
       "      <td>5622982.0</td>\n",
       "    </tr>\n",
       "    <tr>\n",
       "      <th>1989</th>\n",
       "      <td>5643989.0</td>\n",
       "    </tr>\n",
       "    <tr>\n",
       "      <th>1990</th>\n",
       "      <td>6339095.0</td>\n",
       "    </tr>\n",
       "    <tr>\n",
       "      <th>1991</th>\n",
       "      <td>6306301.0</td>\n",
       "    </tr>\n",
       "    <tr>\n",
       "      <th>1992</th>\n",
       "      <td>4552153.0</td>\n",
       "    </tr>\n",
       "    <tr>\n",
       "      <th>1993</th>\n",
       "      <td>3374576.0</td>\n",
       "    </tr>\n",
       "    <tr>\n",
       "      <th>1994</th>\n",
       "      <td>2731169.0</td>\n",
       "    </tr>\n",
       "    <tr>\n",
       "      <th>1995</th>\n",
       "      <td>2679133.0</td>\n",
       "    </tr>\n",
       "    <tr>\n",
       "      <th>1996</th>\n",
       "      <td>2674236.0</td>\n",
       "    </tr>\n",
       "    <tr>\n",
       "      <th>1997</th>\n",
       "      <td>2676674.0</td>\n",
       "    </tr>\n",
       "    <tr>\n",
       "      <th>1998</th>\n",
       "      <td>2667115.0</td>\n",
       "    </tr>\n",
       "    <tr>\n",
       "      <th>1999</th>\n",
       "      <td>2601691.0</td>\n",
       "    </tr>\n",
       "    <tr>\n",
       "      <th>2000</th>\n",
       "      <td>3587336.0</td>\n",
       "    </tr>\n",
       "    <tr>\n",
       "      <th>2001</th>\n",
       "      <td>3809767.0</td>\n",
       "    </tr>\n",
       "    <tr>\n",
       "      <th>2002</th>\n",
       "      <td>2510294.0</td>\n",
       "    </tr>\n",
       "    <tr>\n",
       "      <th>2003</th>\n",
       "      <td>2136043.0</td>\n",
       "    </tr>\n",
       "    <tr>\n",
       "      <th>2004</th>\n",
       "      <td>2414468.0</td>\n",
       "    </tr>\n",
       "    <tr>\n",
       "      <th>2005</th>\n",
       "      <td>2166149.0</td>\n",
       "    </tr>\n",
       "    <tr>\n",
       "      <th>2006</th>\n",
       "      <td>2107519.0</td>\n",
       "    </tr>\n",
       "    <tr>\n",
       "      <th>2007</th>\n",
       "      <td>1909911.0</td>\n",
       "    </tr>\n",
       "    <tr>\n",
       "      <th>2008</th>\n",
       "      <td>1817913.0</td>\n",
       "    </tr>\n",
       "    <tr>\n",
       "      <th>2009</th>\n",
       "      <td>1905804.0</td>\n",
       "    </tr>\n",
       "    <tr>\n",
       "      <th>2010</th>\n",
       "      <td>3054709.0</td>\n",
       "    </tr>\n",
       "    <tr>\n",
       "      <th>2011</th>\n",
       "      <td>2664436.0</td>\n",
       "    </tr>\n",
       "    <tr>\n",
       "      <th>2012</th>\n",
       "      <td>2586152.0</td>\n",
       "    </tr>\n",
       "    <tr>\n",
       "      <th>2013</th>\n",
       "      <td>2556502.0</td>\n",
       "    </tr>\n",
       "    <tr>\n",
       "      <th>2014</th>\n",
       "      <td>2596270.0</td>\n",
       "    </tr>\n",
       "    <tr>\n",
       "      <th>2015</th>\n",
       "      <td>2663005.0</td>\n",
       "    </tr>\n",
       "    <tr>\n",
       "      <th>2016</th>\n",
       "      <td>2488689.0</td>\n",
       "    </tr>\n",
       "  </tbody>\n",
       "</table>\n",
       "</div>"
      ],
      "text/plain": [
       "       refugees\n",
       "Year           \n",
       "1979   500000.0\n",
       "1980  1734921.0\n",
       "1981  3879984.0\n",
       "1982  4488214.0\n",
       "1983  4712735.0\n",
       "1984  4417651.0\n",
       "1985  4653193.0\n",
       "1986  5094283.0\n",
       "1987  5511740.0\n",
       "1988  5622982.0\n",
       "1989  5643989.0\n",
       "1990  6339095.0\n",
       "1991  6306301.0\n",
       "1992  4552153.0\n",
       "1993  3374576.0\n",
       "1994  2731169.0\n",
       "1995  2679133.0\n",
       "1996  2674236.0\n",
       "1997  2676674.0\n",
       "1998  2667115.0\n",
       "1999  2601691.0\n",
       "2000  3587336.0\n",
       "2001  3809767.0\n",
       "2002  2510294.0\n",
       "2003  2136043.0\n",
       "2004  2414468.0\n",
       "2005  2166149.0\n",
       "2006  2107519.0\n",
       "2007  1909911.0\n",
       "2008  1817913.0\n",
       "2009  1905804.0\n",
       "2010  3054709.0\n",
       "2011  2664436.0\n",
       "2012  2586152.0\n",
       "2013  2556502.0\n",
       "2014  2596270.0\n",
       "2015  2663005.0\n",
       "2016  2488689.0"
      ]
     },
     "execution_count": 16,
     "metadata": {},
     "output_type": "execute_result"
    }
   ],
   "source": [
    "ref_df[ref_df[\"origin\"] == \"Afghanistan\"].groupby(\"Year\").sum()"
   ]
  }
 ],
 "metadata": {
  "kernelspec": {
   "display_name": "Python 3 (ipykernel)",
   "language": "python",
   "name": "python3"
  },
  "language_info": {
   "codemirror_mode": {
    "name": "ipython",
    "version": 3
   },
   "file_extension": ".py",
   "mimetype": "text/x-python",
   "name": "python",
   "nbconvert_exporter": "python",
   "pygments_lexer": "ipython3",
   "version": "3.8.11"
  }
 },
 "nbformat": 4,
 "nbformat_minor": 5
}
